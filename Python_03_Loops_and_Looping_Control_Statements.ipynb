{
  "nbformat": 4,
  "nbformat_minor": 0,
  "metadata": {
    "colab": {
      "provenance": []
    },
    "kernelspec": {
      "name": "python3",
      "display_name": "Python 3"
    },
    "language_info": {
      "name": "python"
    }
  },
  "cells": [
    {
      "cell_type": "markdown",
      "source": [
        "\n",
        "Lab 03 Assignment                                    \n",
        "Name : Bhargav R Pandya                                      \n",
        "Student ID : 202218055                              \n",
        "Subject Code : IT 606"
      ],
      "metadata": {
        "id": "iCPrK6P_dKca"
      }
    },
    {
      "cell_type": "markdown",
      "source": [
        "1. Print 1 to n."
      ],
      "metadata": {
        "id": "S-_YGzYJdHzp"
      }
    },
    {
      "cell_type": "code",
      "source": [
        "n = int(input(\"Enter any positive num n : \"))\n",
        "\n",
        "for i in range(1,n+1):\n",
        "  print(i, end = \",\")"
      ],
      "metadata": {
        "id": "79_BBoWkdTYS",
        "colab": {
          "base_uri": "https://localhost:8080/"
        },
        "outputId": "7dc78f7a-7b8a-4084-88a9-8b642f8f352a"
      },
      "execution_count": null,
      "outputs": [
        {
          "output_type": "stream",
          "name": "stdout",
          "text": [
            "Enter any positive num n : 8\n",
            "1,2,3,4,5,6,7,8,"
          ]
        }
      ]
    },
    {
      "cell_type": "markdown",
      "source": [
        "2. Print 2,4,6,8,10,.....n,\n"
      ],
      "metadata": {
        "id": "gCx3tC3YdmT5"
      }
    },
    {
      "cell_type": "code",
      "source": [
        "n = int(input(\"Enter any positive num n : \"))\n",
        "\n",
        "for i in range(1,n+1):\n",
        "  if i%2==0:\n",
        "    print(i , end= \",\")"
      ],
      "metadata": {
        "id": "W_WG-ChadTla",
        "colab": {
          "base_uri": "https://localhost:8080/"
        },
        "outputId": "3477b638-09fc-4468-add4-2005018aec8c"
      },
      "execution_count": null,
      "outputs": [
        {
          "output_type": "stream",
          "name": "stdout",
          "text": [
            "Enter any positive num n : 10\n",
            "2,4,6,8,10,"
          ]
        }
      ]
    },
    {
      "cell_type": "markdown",
      "source": [
        "3. Print 1,3,5,7,9,.......n,\n"
      ],
      "metadata": {
        "id": "35CT8Yq4dm2R"
      }
    },
    {
      "cell_type": "code",
      "source": [
        "n = int(input(\"Enter any positive num n : \"))\n",
        "\n",
        "for i in range(1,n+1):\n",
        "  if i%2!=0:  \n",
        "    print(i, end = \",\")"
      ],
      "metadata": {
        "id": "vpzjLdYFdTvJ",
        "colab": {
          "base_uri": "https://localhost:8080/"
        },
        "outputId": "4b71cc44-278b-47f9-cba8-5690c005c407"
      },
      "execution_count": null,
      "outputs": [
        {
          "output_type": "stream",
          "name": "stdout",
          "text": [
            "Enter any positive num n : 15\n",
            "1,3,5,7,9,11,13,15,"
          ]
        }
      ]
    },
    {
      "cell_type": "markdown",
      "source": [
        "4. Print 1,2,4,8,16,32,64,.....,n\n"
      ],
      "metadata": {
        "id": "dz611Pj7dnQ0"
      }
    },
    {
      "cell_type": "code",
      "source": [
        "n = int(input(\"Enter any positive num n : \"))\n",
        "\n",
        "for i in range(1,n+1):\n",
        "    print(2**i, end = \",\")"
      ],
      "metadata": {
        "id": "w-ae7k2pdT2-",
        "colab": {
          "base_uri": "https://localhost:8080/"
        },
        "outputId": "96ebf2c5-7f72-4eee-c8b5-13282136b09f"
      },
      "execution_count": null,
      "outputs": [
        {
          "output_type": "stream",
          "name": "stdout",
          "text": [
            "Enter any positive num n : 19\n",
            "2,4,8,16,32,64,128,256,512,1024,2048,4096,8192,16384,32768,65536,131072,262144,524288,"
          ]
        }
      ]
    },
    {
      "cell_type": "markdown",
      "source": [
        "5. Print n to 1\n"
      ],
      "metadata": {
        "id": "waS-Jk31doGE"
      }
    },
    {
      "cell_type": "code",
      "source": [
        "n = int(input(\"Enter any positive num n : \"))\n",
        "\n",
        "for i in range(n,0,-1):\n",
        "  print(i, end = \",\")"
      ],
      "metadata": {
        "id": "TeUoR5l9dauW",
        "colab": {
          "base_uri": "https://localhost:8080/"
        },
        "outputId": "7161a4d7-ff85-4c3f-e2fb-0c392b5a9ddb"
      },
      "execution_count": null,
      "outputs": [
        {
          "output_type": "stream",
          "name": "stdout",
          "text": [
            "Enter any positive num n : 11\n",
            "11,10,9,8,7,6,5,4,3,2,1,"
          ]
        }
      ]
    },
    {
      "cell_type": "markdown",
      "source": [
        "6. Observe the pattern and print 1,10,2,9,3,8,4,7,5,6 using for loop without pre-defining this\n",
        "sequence.\n"
      ],
      "metadata": {
        "id": "m9VJLPtTdot5"
      }
    },
    {
      "cell_type": "code",
      "source": [
        "n = int(input(\"Enter a value of n = \"))\n",
        "for i in range(0,n):\n",
        "  print(i+1 , end = \" , \")\n",
        "  print(10-i , end=\" , \")\n",
        "  i+=1\n",
        "\n"
      ],
      "metadata": {
        "id": "zkcmBpE6dbHX",
        "colab": {
          "base_uri": "https://localhost:8080/"
        },
        "outputId": "a597345a-dda8-4a28-8c54-adba75de14ef"
      },
      "execution_count": null,
      "outputs": [
        {
          "output_type": "stream",
          "name": "stdout",
          "text": [
            "Enter a value of n = 5\n",
            "1 , 10 , 2 , 9 , 3 , 8 , 4 , 7 , 5 , 6 , "
          ]
        }
      ]
    },
    {
      "cell_type": "markdown",
      "source": [
        "\n",
        "7. Observe the pattern and print 2,11,20,28,35,41,46,50,53,55,56 using for loop without pre-\n",
        "defining this sequence.\n"
      ],
      "metadata": {
        "id": "XAsTe2CCdpWM"
      }
    },
    {
      "cell_type": "code",
      "source": [
        "n = 1\n",
        "print(n+1 , end = \" , \")\n",
        "for i in range(10,0,-1):\n",
        "  print(n+i , end = \" , \")\n",
        "  n=n+i"
      ],
      "metadata": {
        "id": "9HM9dXIfdbTG",
        "colab": {
          "base_uri": "https://localhost:8080/"
        },
        "outputId": "24ff7090-1fb3-4385-d08b-08fa861ed390"
      },
      "execution_count": null,
      "outputs": [
        {
          "output_type": "stream",
          "name": "stdout",
          "text": [
            "2 , 11 , 20 , 28 , 35 , 41 , 46 , 50 , 53 , 55 , 56 , "
          ]
        }
      ]
    },
    {
      "cell_type": "markdown",
      "source": [
        "\n",
        "8. Print first n even numbers.\n"
      ],
      "metadata": {
        "id": "VVxl94uTdpzE"
      }
    },
    {
      "cell_type": "code",
      "source": [
        "n = int(input(\" how many even num you want to print : \"))\n",
        "\n",
        "for i in range(1,n+1):\n",
        "  print(2*i, end = \" , \")"
      ],
      "metadata": {
        "id": "MAOzTUSQdbdc",
        "colab": {
          "base_uri": "https://localhost:8080/"
        },
        "outputId": "18dd7510-0271-4cc7-fd9b-45995109b169"
      },
      "execution_count": null,
      "outputs": [
        {
          "output_type": "stream",
          "name": "stdout",
          "text": [
            " how many even num you want to print : 15\n",
            "2 , 4 , 6 , 8 , 10 , 12 , 14 , 16 , 18 , 20 , 22 , 24 , 26 , 28 , 30 , "
          ]
        }
      ]
    },
    {
      "cell_type": "markdown",
      "source": [
        "9. Print first n odd numbers.\n"
      ],
      "metadata": {
        "id": "Yj3WF1s0dqVA"
      }
    },
    {
      "cell_type": "code",
      "source": [
        "n = int(input(\" how many odd num you want to print  : \"))\n",
        "\n",
        "for i in range(1,n+1):\n",
        "    print(2*i-1 , end = \" , \")"
      ],
      "metadata": {
        "id": "pIYeh-eFdcy9",
        "colab": {
          "base_uri": "https://localhost:8080/"
        },
        "outputId": "1ba57e99-b415-4ec2-e845-b854146acee2"
      },
      "execution_count": null,
      "outputs": [
        {
          "output_type": "stream",
          "name": "stdout",
          "text": [
            " how many odd num you want to print  : 14\n",
            "1 , 3 , 5 , 7 , 9 , 11 , 13 , 15 , 17 , 19 , 21 , 23 , 25 , 27 , "
          ]
        }
      ]
    },
    {
      "cell_type": "markdown",
      "source": [
        "10. Print first n natural numbers.\n"
      ],
      "metadata": {
        "id": "VKTh58ykdqxh"
      }
    },
    {
      "cell_type": "code",
      "source": [
        "n = int(input(\" How many natural number you want to print \"))\n",
        "\n",
        "for i in range(1,n+1):\n",
        "  print(i, end = \",\")"
      ],
      "metadata": {
        "id": "h1lrRAEQdiWB",
        "colab": {
          "base_uri": "https://localhost:8080/"
        },
        "outputId": "90298e33-a691-407e-9b24-9b831d944633"
      },
      "execution_count": null,
      "outputs": [
        {
          "output_type": "stream",
          "name": "stdout",
          "text": [
            " How many natural number you want to print 19\n",
            "1,2,3,4,5,6,7,8,9,10,11,12,13,14,15,16,17,18,19,"
          ]
        }
      ]
    },
    {
      "cell_type": "markdown",
      "source": [
        "11. Print the total of 1 to n."
      ],
      "metadata": {
        "id": "4wBXdcdzdrSm"
      }
    },
    {
      "cell_type": "code",
      "source": [
        "n = int(input(\" Enter any positive num  : \"))\n",
        "sum = 0\n",
        "for i in range(1,n+1):\n",
        "  sum+=i\n",
        "print(\"sum of first {} natural num is {}\".format(n,sum))"
      ],
      "metadata": {
        "id": "AYtOcXeudi0Y",
        "colab": {
          "base_uri": "https://localhost:8080/"
        },
        "outputId": "aa53995f-e4b5-459d-fa5c-656039660eb8"
      },
      "execution_count": null,
      "outputs": [
        {
          "output_type": "stream",
          "name": "stdout",
          "text": [
            " Enter any positive num  : 20\n",
            "sum of first 20 natural num is 210\n"
          ]
        }
      ]
    },
    {
      "cell_type": "markdown",
      "source": [
        "12. Print the total of 1/2+2/3+....+(n-1)/n.\n"
      ],
      "metadata": {
        "id": "cCQT0MUwdrqj"
      }
    },
    {
      "cell_type": "code",
      "source": [
        "n = int(input(\" Enter any positive num \"))\n",
        "sum = 0\n",
        "for i in range(1,n+1):\n",
        "  sum+=(i/(i+1))\n",
        "print(sum)"
      ],
      "metadata": {
        "id": "w98-cu-BdjDv",
        "colab": {
          "base_uri": "https://localhost:8080/"
        },
        "outputId": "631f45d5-863f-4740-82fa-5e912c0b1f03"
      },
      "execution_count": null,
      "outputs": [
        {
          "output_type": "stream",
          "name": "stdout",
          "text": [
            " Enter any positive num 15\n",
            "12.619271006771008\n"
          ]
        }
      ]
    },
    {
      "cell_type": "markdown",
      "source": [
        "13. Print the total of 1-2+3-4+5-6+7-8+9-10.........n.\n"
      ],
      "metadata": {
        "id": "wt1P1zwwdsFb"
      }
    },
    {
      "cell_type": "code",
      "source": [
        "n = int(input(\"n = \"))\n",
        "\n",
        "sum = 0\n",
        "\n",
        "for i in range(1 , n+1):\n",
        "  sum=sum+((-1)**(i+1))*i\n",
        "print(sum)"
      ],
      "metadata": {
        "id": "oI_lXQn7djQj",
        "colab": {
          "base_uri": "https://localhost:8080/"
        },
        "outputId": "de2f8d81-a6f0-495f-e48f-7af30906e29e"
      },
      "execution_count": null,
      "outputs": [
        {
          "output_type": "stream",
          "name": "stdout",
          "text": [
            "n = 20\n",
            "-10\n"
          ]
        }
      ]
    },
    {
      "cell_type": "markdown",
      "source": [
        "14. Print the total of first n even numbers.\n"
      ],
      "metadata": {
        "id": "_bxQW54Ndua3"
      }
    },
    {
      "cell_type": "code",
      "source": [
        "n = int(input(\" Enter positive value for n :  \"))\n",
        "\n",
        "sum = 0\n",
        "\n",
        "for i in range(1,n+1):\n",
        "  if n%2==0:\n",
        "    sum+=2*i\n",
        "print(sum)"
      ],
      "metadata": {
        "id": "4zYUBuB2dt1n",
        "colab": {
          "base_uri": "https://localhost:8080/"
        },
        "outputId": "ff1c30bd-3e56-47bf-9ae6-3a2d46938ce4"
      },
      "execution_count": null,
      "outputs": [
        {
          "output_type": "stream",
          "name": "stdout",
          "text": [
            " Enter positive value for n :  20\n",
            "420\n"
          ]
        }
      ]
    },
    {
      "cell_type": "markdown",
      "source": [
        "15. Print the total of first n odd numbers.\n"
      ],
      "metadata": {
        "id": "6fWs6PlXdvLO"
      }
    },
    {
      "cell_type": "code",
      "source": [
        "n = int(input(\" Enter positive value for n :  \"))\n",
        "\n",
        "sum = 0\n",
        "\n",
        "for i in range(1,n+1):\n",
        "  if n%2!=0:\n",
        "    sum+=(2*i-1)\n",
        "print(sum)"
      ],
      "metadata": {
        "id": "UGB56uz-dvyA",
        "colab": {
          "base_uri": "https://localhost:8080/"
        },
        "outputId": "0fc82ecf-b3f8-4789-d964-dfb955a09f14"
      },
      "execution_count": null,
      "outputs": [
        {
          "output_type": "stream",
          "name": "stdout",
          "text": [
            " Enter positive value for n :  25\n",
            "625\n"
          ]
        }
      ]
    },
    {
      "cell_type": "markdown",
      "source": [
        "16. print 0.1+0.02+0.003+0.0004+0.000005.\n"
      ],
      "metadata": {
        "id": "kix8AggtdwL8"
      }
    },
    {
      "cell_type": "code",
      "source": [
        "n= int(input(\"n = \"))\n",
        "sum  = 0\n",
        "for i in range(1 , n+1):\n",
        "  sum = sum + i*((0.1)**i)\n",
        "print(sum)"
      ],
      "metadata": {
        "id": "arQycrwRdw75",
        "colab": {
          "base_uri": "https://localhost:8080/"
        },
        "outputId": "9749c707-4949-44e8-e920-a1a0f5662c9a"
      },
      "execution_count": null,
      "outputs": [
        {
          "output_type": "stream",
          "name": "stdout",
          "text": [
            "n = 5\n",
            "0.12345\n"
          ]
        }
      ]
    },
    {
      "cell_type": "markdown",
      "source": [
        "17. Accept one number (atleast 4 digit number) from user and display Reverse of it.\n"
      ],
      "metadata": {
        "id": "dNRAO8a9dxTc"
      }
    },
    {
      "cell_type": "code",
      "source": [
        "n = int(input(\"Enter a number of atleast four digit : \"))\n",
        "rev = 0\n",
        "while n != 0:\n",
        "  temp = n%10\n",
        "  rev = rev*10+temp\n",
        "  n = n//10\n",
        "print(\"Reverse num = {}\".format(rev))"
      ],
      "metadata": {
        "id": "sAs1Zzi1dx68",
        "colab": {
          "base_uri": "https://localhost:8080/"
        },
        "outputId": "6b84b458-1390-43ae-cc15-962466ac030e"
      },
      "execution_count": null,
      "outputs": [
        {
          "output_type": "stream",
          "name": "stdout",
          "text": [
            "Enter a number of atleast four digit : 4234234\n",
            "Reverse num = 4324324\n"
          ]
        }
      ]
    },
    {
      "cell_type": "code",
      "source": [
        "k = str(\"23df\")\n",
        "k = [ele for ele in k]\n",
        "k"
      ],
      "metadata": {
        "colab": {
          "base_uri": "https://localhost:8080/"
        },
        "id": "420bAZE75boZ",
        "outputId": "671734b8-bfe3-4d6a-a67c-00dfbe8447e1"
      },
      "execution_count": null,
      "outputs": [
        {
          "output_type": "execute_result",
          "data": {
            "text/plain": [
              "['2', '3', 'd', 'f']"
            ]
          },
          "metadata": {},
          "execution_count": 14
        }
      ]
    },
    {
      "cell_type": "markdown",
      "source": [
        "18. Accept one number (atleast 4 digit number) from user and display sum of its digits.\n"
      ],
      "metadata": {
        "id": "7h7Rth3FdyY5"
      }
    },
    {
      "cell_type": "code",
      "source": [
        "n = int(input(\"Enter a number of atleast four digit : \"))\n",
        "digit = len(str(n))\n",
        "sum = 0 \n",
        "while n != 0 :\n",
        "  rem = n%(10)\n",
        "  n= n//(10)\n",
        "  sum+=rem\n",
        "print(sum)"
      ],
      "metadata": {
        "id": "FW_ZALTxdzGX",
        "colab": {
          "base_uri": "https://localhost:8080/"
        },
        "outputId": "27cb9481-7a1a-4528-cbfb-33f466499c5f"
      },
      "execution_count": null,
      "outputs": [
        {
          "output_type": "stream",
          "name": "stdout",
          "text": [
            "Enter a number of atleast four digit : 123454321\n",
            "25\n"
          ]
        }
      ]
    },
    {
      "cell_type": "markdown",
      "source": [
        "19. Accept one number from user and display its factorial.\n"
      ],
      "metadata": {
        "id": "7Hfoge8QdzZz"
      }
    },
    {
      "cell_type": "code",
      "source": [
        "n = int(input(\" n = \"))\n",
        "fact = 1\n",
        "if n > 0 :\n",
        "  for i in range(1,n+1):\n",
        "    fact*=i\n",
        "print(fact)"
      ],
      "metadata": {
        "id": "VyFpAtDpd0AP",
        "colab": {
          "base_uri": "https://localhost:8080/"
        },
        "outputId": "504d51f2-f268-49f6-e894-e307d7f7b0fe"
      },
      "execution_count": null,
      "outputs": [
        {
          "output_type": "stream",
          "name": "stdout",
          "text": [
            " n = 10\n",
            "3628800\n"
          ]
        }
      ]
    },
    {
      "cell_type": "markdown",
      "source": [
        "20. Accept one number from user and find if it is prime or not.\n"
      ],
      "metadata": {
        "id": "JrMLmrGId0yw"
      }
    },
    {
      "cell_type": "code",
      "source": [
        "import math\n",
        "n = int(input(\" Enter any positive num \"))\n",
        "if n==1:\n",
        "  print(\"{} is not prime not composite \".format(n))\n",
        "elif n==2 or n==3:\n",
        "  print(\"{} is prime \".format(n))\n",
        "else:\n",
        "  k = math.floor(math.sqrt(n))\n",
        "  for i in range(2,k):\n",
        "    rem = n%i\n",
        "    if rem == 0:\n",
        "      print(\"{} is not prime\".format(n))\n",
        "      break\n",
        "  else : \n",
        "    print(\"{} is prime\".format(n))\n"
      ],
      "metadata": {
        "id": "bfDArauxd1O7",
        "colab": {
          "base_uri": "https://localhost:8080/"
        },
        "outputId": "4462d924-034f-4443-8b55-a749dd490593"
      },
      "execution_count": null,
      "outputs": [
        {
          "output_type": "stream",
          "name": "stdout",
          "text": [
            " Enter any positive num 1729\n",
            "1729 is not prime\n"
          ]
        }
      ]
    },
    {
      "cell_type": "markdown",
      "source": [
        "21. Accept one number from user and find if it is Armstrong or not.\n"
      ],
      "metadata": {
        "id": "81BQfoWWd13d"
      }
    },
    {
      "cell_type": "code",
      "source": [
        "n = int(input(\" Enter any num : \"))\n",
        "order = len(str(n))\n",
        "sum = 0\n",
        "temp = n\n",
        "\n",
        "while temp>0:\n",
        "  a = temp%10\n",
        "  a=a**order\n",
        "  sum+=a\n",
        "  temp=temp//10\n",
        "if n==sum:\n",
        "  print(n,\"is armstrong num\")\n",
        "else:\n",
        "  print(n,\"is not armstrong num\")"
      ],
      "metadata": {
        "id": "TDynAgaad2m8",
        "colab": {
          "base_uri": "https://localhost:8080/"
        },
        "outputId": "e7730d6a-c78f-4acb-8a81-affedd7b6974"
      },
      "execution_count": null,
      "outputs": [
        {
          "output_type": "stream",
          "name": "stdout",
          "text": [
            " Enter any num : 1634\n",
            "1634 is armstrong num\n"
          ]
        }
      ]
    },
    {
      "cell_type": "markdown",
      "source": [
        "22. Print 0 1 1 2 3 5 8 13 21 34 55 ... (Fibonanci series)\n"
      ],
      "metadata": {
        "id": "tvrTeljcf4BF"
      }
    },
    {
      "cell_type": "code",
      "source": [
        "n = int(input(\"first  n number of fibonanci = \"))\n",
        "a = 0\n",
        "b = 1\n",
        "print(\"0 , 1\" , end  = \" , \")\n",
        "for i in range(0,n):\n",
        "  sum = a+b\n",
        "  print(sum , end = \" , \")\n",
        "  a = b\n",
        "  b = sum\n"
      ],
      "metadata": {
        "colab": {
          "base_uri": "https://localhost:8080/"
        },
        "id": "awXwaawMf6DG",
        "outputId": "5f6f4ec0-ece9-4508-f833-5c47707f25c8"
      },
      "execution_count": null,
      "outputs": [
        {
          "output_type": "stream",
          "name": "stdout",
          "text": [
            "first  n number of fibonanci = 20\n",
            "0 , 1 , 1 , 2 , 3 , 5 , 8 , 13 , 21 , 34 , 55 , 89 , 144 , 233 , 377 , 610 , 987 , 1597 , 2584 , 4181 , 6765 , 10946 , "
          ]
        }
      ]
    },
    {
      "cell_type": "markdown",
      "source": [
        "23. Generate the value of n! factorial for n number\n"
      ],
      "metadata": {
        "id": "mBA5X0NTf6nC"
      }
    },
    {
      "cell_type": "code",
      "source": [
        "n = int(input(\"Enter any num : \"))\n",
        "fact = 1\n",
        "if n < 0 :\n",
        "  print(\"Invaild \")\n",
        "elif n==0:\n",
        "  print(\"0! = 1\")\n",
        "else : \n",
        "  for i in range(1,n+1):\n",
        "    fact*=i\n",
        "  print(\"{} ! = {}\".format(n,fact))\n",
        "\n"
      ],
      "metadata": {
        "id": "a-8kBTuTgB7D",
        "colab": {
          "base_uri": "https://localhost:8080/"
        },
        "outputId": "209f50af-d034-4646-a18c-f95dad740ff5"
      },
      "execution_count": null,
      "outputs": [
        {
          "output_type": "stream",
          "name": "stdout",
          "text": [
            "Enter any num : 6\n",
            "6 ! = 720\n"
          ]
        }
      ]
    },
    {
      "cell_type": "markdown",
      "source": [
        "24. 1+2+3+4+5+6 up to n terms\n"
      ],
      "metadata": {
        "id": "tdcRWuaWgAz8"
      }
    },
    {
      "cell_type": "code",
      "source": [
        "n = int(input(\"Enter any positive num : \"))\n",
        "if n<0:\n",
        "  print(\"invalid !\")\n",
        "else :\n",
        "  i=1\n",
        "  sum=0\n",
        "  while i < n+1 :\n",
        "    sum+=i\n",
        "    i+=1\n",
        "print(\"1+2+3+4+5+6 up to {} terms = {}\".format(n,sum))\n",
        "    "
      ],
      "metadata": {
        "id": "7dnXQm4CgE6m",
        "colab": {
          "base_uri": "https://localhost:8080/"
        },
        "outputId": "ca724ada-4885-4d96-be84-a9ba57ca2aa8"
      },
      "execution_count": null,
      "outputs": [
        {
          "output_type": "stream",
          "name": "stdout",
          "text": [
            "Enter any positive num : 20\n",
            "1+2+3+4+5+6 up to 20 terms = 210\n"
          ]
        }
      ]
    },
    {
      "cell_type": "markdown",
      "source": [
        "25. 1+3+5+7+9 up to n terms\n"
      ],
      "metadata": {
        "id": "6dx__miIgFM5"
      }
    },
    {
      "cell_type": "code",
      "source": [
        "n = int(input(\"Enter any positive num : \"))\n",
        "if n<0:\n",
        "  print(\"invalid !\")\n",
        "else :\n",
        "  i=1\n",
        "  sum=0\n",
        "  while i < n+1 :\n",
        "    sum+=i\n",
        "    i+=2\n",
        "print(\"1+3+5+7 up to {} terms = {}\".format(n,sum))"
      ],
      "metadata": {
        "id": "mZYJLnIVgJCA",
        "colab": {
          "base_uri": "https://localhost:8080/"
        },
        "outputId": "dd403994-afb8-4b7a-bb4f-13024b4a8ad1"
      },
      "execution_count": null,
      "outputs": [
        {
          "output_type": "stream",
          "name": "stdout",
          "text": [
            "Enter any positive num : 22\n",
            "1+3+5+7 up to 22 terms = 121\n"
          ]
        }
      ]
    },
    {
      "cell_type": "markdown",
      "source": [
        "\n",
        "26. 1+2+4+5+7+8 up to n terms\n"
      ],
      "metadata": {
        "id": "2hUMuhdegJqn"
      }
    },
    {
      "cell_type": "code",
      "source": [
        "n = int(input(\"Enter any positive num : \"))\n",
        "\n",
        "if n < 0 :\n",
        "  print(\"invalid !\")\n",
        "else :\n",
        "  sum1 , sum2 = 0,0\n",
        "  i , j = 1,2\n",
        "  while i < n+1 and j < n+1:\n",
        "    sum1 = sum1+i\n",
        "    i+=3\n",
        "    sum2 = sum2+j\n",
        "    j+=3\n",
        "print(sum1+sum2)\n"
      ],
      "metadata": {
        "id": "G3ydTiifgRYq",
        "colab": {
          "base_uri": "https://localhost:8080/"
        },
        "outputId": "d71ce0f2-221f-48d4-97bc-a0f5cd3e6d62"
      },
      "execution_count": null,
      "outputs": [
        {
          "output_type": "stream",
          "name": "stdout",
          "text": [
            "Enter any positive num : 15\n",
            "75\n"
          ]
        }
      ]
    },
    {
      "cell_type": "markdown",
      "source": [
        "27. Write a program that perform the following output for n by n matrix without using array\n",
        "\n",
        "1 2 3 4 5                                               \n",
        "10 9 8 7 6                                   \n",
        "11 12 13 14 15                                 \n",
        "20 19 18 17 16                           \n",
        "21 22 23 24 25\n",
        "\n"
      ],
      "metadata": {
        "id": "aJQ-LgDggRy_"
      }
    },
    {
      "cell_type": "code",
      "source": [
        "n = int(input(\"Enter n : \"))\n",
        "k = 1\n",
        "for i in range(1,n+1):\n",
        "  if i%2 != 0 :\n",
        "    for j in range(k,k+n):\n",
        "      print(j , end = \" \")\n",
        "    print()\n",
        "  else :\n",
        "    k = k+n\n",
        "    for j in range(k+n-1,k-1,-1):\n",
        "      print(j , end = \" \")\n",
        "    print()\n",
        "    k+=n\n",
        "      \n"
      ],
      "metadata": {
        "id": "Jn2jy0sxgUCd",
        "colab": {
          "base_uri": "https://localhost:8080/"
        },
        "outputId": "ea946f72-527b-49e2-f06d-393eec43f9c0"
      },
      "execution_count": null,
      "outputs": [
        {
          "output_type": "stream",
          "name": "stdout",
          "text": [
            "Enter n : 5\n",
            "1 2 3 4 5 \n",
            "10 9 8 7 6 \n",
            "11 12 13 14 15 \n",
            "20 19 18 17 16 \n",
            "21 22 23 24 25 \n"
          ]
        }
      ]
    },
    {
      "cell_type": "markdown",
      "source": [
        "28. Accept a number (X) and perform X+ X^2 + X^3 + X^4 + X^5+........+X^n\n",
        "\n",
        "up to n terms"
      ],
      "metadata": {
        "id": "vYIKbNBAgUg-"
      }
    },
    {
      "cell_type": "code",
      "source": [
        "x = float(input(\"Enter a value of x : \"))\n",
        "n = int(input(\"Enter a value of n : \"))\n",
        "sum=0\n",
        "for i in range(1,n+1):\n",
        "  sum+=(x)**i\n",
        "print(\"X+ X^2 + X^3 + X^4 + X^5+........+X^n = {}  , where x = {} , n = {}\".format(sum,x,n))"
      ],
      "metadata": {
        "id": "3Ja6vVpfgkuA",
        "colab": {
          "base_uri": "https://localhost:8080/"
        },
        "outputId": "b2273baa-f280-489c-b877-1979f7ad0262"
      },
      "execution_count": null,
      "outputs": [
        {
          "output_type": "stream",
          "name": "stdout",
          "text": [
            "Enter a value of x : 3\n",
            "Enter a value of n : 5\n",
            "X+ X^2 + X^3 + X^4 + X^5+........+X^n = 363.0  , where x = 3.0 , n = 5\n"
          ]
        }
      ]
    },
    {
      "cell_type": "markdown",
      "source": [
        "29. Print the following patterns for n number of rows."
      ],
      "metadata": {
        "id": "Sojn7PNIglD4"
      }
    },
    {
      "cell_type": "markdown",
      "source": [
        "pattern 1"
      ],
      "metadata": {
        "id": "eltangrk1OO8"
      }
    },
    {
      "cell_type": "code",
      "source": [
        "n = int(input(\"Enter number of n: \"))\n",
        "for i in range(1,n+1):\n",
        "  print(\"*\"*i)"
      ],
      "metadata": {
        "colab": {
          "base_uri": "https://localhost:8080/"
        },
        "id": "U-zoR8WvvLxM",
        "outputId": "fb4111ce-ab7c-4c3b-bccf-f4618922adb6"
      },
      "execution_count": null,
      "outputs": [
        {
          "output_type": "stream",
          "name": "stdout",
          "text": [
            "Enter number of n: 5\n",
            "*\n",
            "**\n",
            "***\n",
            "****\n",
            "*****\n"
          ]
        }
      ]
    },
    {
      "cell_type": "markdown",
      "source": [
        "pattern 2"
      ],
      "metadata": {
        "id": "thR9mAy71Vz_"
      }
    },
    {
      "cell_type": "code",
      "source": [
        "n = int(input(\"Enter number of n: \"))\n",
        "\n",
        "m = 0\n",
        "\n",
        "for i in range(1, n+1):\n",
        "    for space in range(1, (n-i)+1):\n",
        "        print(end=\"  \")\n",
        "   \n",
        "    while m!=(2*i-1):\n",
        "        print(\"* \", end=\"\")\n",
        "        m += 1\n",
        "   \n",
        "    m = 0\n",
        "    print()"
      ],
      "metadata": {
        "id": "vRzDh-xN1Mzt",
        "colab": {
          "base_uri": "https://localhost:8080/"
        },
        "outputId": "ce8cdd50-ec40-44e1-ecba-0398d4e21366"
      },
      "execution_count": null,
      "outputs": [
        {
          "output_type": "stream",
          "name": "stdout",
          "text": [
            "Enter number of n: 6\n",
            "          * \n",
            "        * * * \n",
            "      * * * * * \n",
            "    * * * * * * * \n",
            "  * * * * * * * * * \n",
            "* * * * * * * * * * * \n"
          ]
        }
      ]
    },
    {
      "cell_type": "markdown",
      "source": [
        "pattern 3"
      ],
      "metadata": {
        "id": "20UxBBWu1XcU"
      }
    },
    {
      "cell_type": "code",
      "source": [
        "n = int(input(\"Enter number of n: \"))\n",
        "for i in range(0,n):\n",
        "  for j in range(0,n):\n",
        "    if i+j >= n-1:\n",
        "      print(\"*\" , end = \"\")\n",
        "    else:\n",
        "      print(\" \" , end = \"\")\n",
        "  print()\n"
      ],
      "metadata": {
        "colab": {
          "base_uri": "https://localhost:8080/"
        },
        "id": "Eey09EhDwDav",
        "outputId": "37efaa32-8528-4fe9-9498-2b25341cd7ca"
      },
      "execution_count": null,
      "outputs": [
        {
          "output_type": "stream",
          "name": "stdout",
          "text": [
            "Enter number of n: 7\n",
            "      *\n",
            "     **\n",
            "    ***\n",
            "   ****\n",
            "  *****\n",
            " ******\n",
            "*******\n"
          ]
        }
      ]
    },
    {
      "cell_type": "markdown",
      "source": [
        "30. Print the following pattern for n number of rows"
      ],
      "metadata": {
        "id": "1-hr4nlB7V9e"
      }
    },
    {
      "cell_type": "markdown",
      "source": [
        "pattern 1"
      ],
      "metadata": {
        "id": "XD3MXO6v72-M"
      }
    },
    {
      "cell_type": "code",
      "source": [
        "arr = [\"A\",\"B\",\"C\",\"D\",\"E\"]\n",
        "for ele in arr:\n",
        "  print(ele*5)"
      ],
      "metadata": {
        "colab": {
          "base_uri": "https://localhost:8080/"
        },
        "id": "KTfDBOMV0dcB",
        "outputId": "d82a9dee-985b-4c99-a0da-59818703c41b"
      },
      "execution_count": null,
      "outputs": [
        {
          "output_type": "stream",
          "name": "stdout",
          "text": [
            "AAAAA\n",
            "BBBBB\n",
            "CCCCC\n",
            "DDDDD\n",
            "EEEEE\n"
          ]
        }
      ]
    },
    {
      "cell_type": "markdown",
      "source": [
        "pattern 2"
      ],
      "metadata": {
        "id": "6xhnPLzq75_k"
      }
    },
    {
      "cell_type": "code",
      "source": [
        "n = int(input(\"Enter number of n: \"))\n",
        "for i in range(0,n):\n",
        "  print(10**i)"
      ],
      "metadata": {
        "colab": {
          "base_uri": "https://localhost:8080/"
        },
        "id": "Hw3mJvww77SD",
        "outputId": "a2682f41-dbc1-45a6-db97-cc36c928adaa"
      },
      "execution_count": null,
      "outputs": [
        {
          "output_type": "stream",
          "name": "stdout",
          "text": [
            "Enter number of n: 5\n",
            "1\n",
            "10\n",
            "100\n",
            "1000\n",
            "10000\n"
          ]
        }
      ]
    },
    {
      "cell_type": "markdown",
      "source": [
        "pattern 3"
      ],
      "metadata": {
        "id": "LCy-oDMH77oe"
      }
    },
    {
      "cell_type": "code",
      "source": [
        "n = int(input(\"Enter number of n: \"))\n",
        "for i in range(n,0,-1):\n",
        "  for j in range(1,i+1):\n",
        "    print(j,end = \"\")\n",
        "  print()\n"
      ],
      "metadata": {
        "colab": {
          "base_uri": "https://localhost:8080/"
        },
        "id": "S1H3k3Ub79Yc",
        "outputId": "1bbd2837-d17f-4795-fa62-64a5c0a584f6"
      },
      "execution_count": null,
      "outputs": [
        {
          "output_type": "stream",
          "name": "stdout",
          "text": [
            "Enter number of n: 6\n",
            "123456\n",
            "12345\n",
            "1234\n",
            "123\n",
            "12\n",
            "1\n"
          ]
        }
      ]
    }
  ]
}