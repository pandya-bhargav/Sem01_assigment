{
  "nbformat": 4,
  "nbformat_minor": 0,
  "metadata": {
    "colab": {
      "provenance": []
    },
    "kernelspec": {
      "name": "python3",
      "display_name": "Python 3"
    },
    "language_info": {
      "name": "python"
    }
  },
  "cells": [
    {
      "cell_type": "markdown",
      "source": [
        "Name :         Bhargav R Pandya\n",
        "\n",
        "S_id :         202218055\n",
        "\n",
        "Assignment : 3"
      ],
      "metadata": {
        "id": "PN4QupWcwLKH"
      }
    },
    {
      "cell_type": "markdown",
      "source": [
        "# Write a program for singly linked list. Write all it functionality."
      ],
      "metadata": {
        "id": "6xAKSnTcwblc"
      }
    },
    {
      "cell_type": "code",
      "execution_count": null,
      "metadata": {
        "id": "X_s5y40hvAZc",
        "colab": {
          "base_uri": "https://localhost:8080/"
        },
        "outputId": "96bc8de0-4037-4f72-8efc-777461b7f02d"
      },
      "outputs": [
        {
          "output_type": "stream",
          "name": "stdout",
          "text": [
            "2\n",
            "4\n",
            "6\n",
            "10\n",
            "7\n"
          ]
        }
      ],
      "source": [
        "class node :                            # creating a node\n",
        "\n",
        "  def __init__(self,data):\n",
        "    self.data = data\n",
        "    self.next = None\n",
        "\n",
        "class slist :\n",
        "  \n",
        "  def __init__(self):\n",
        "    self.head = None\n",
        "  \n",
        "  def travel(self):                       #Traverse\n",
        "\n",
        "    temp = self.head\n",
        "\n",
        "    while temp :\n",
        "      print(temp.data)\n",
        "\n",
        "      temp = temp.next\n",
        "\n",
        "    \n",
        "  def insert_at_beginning(self,new_ele):          #insert at beginning\n",
        "      new_node = node(new_ele)                    # create new node\n",
        "      new_node.next = self.head                   # point out previous head to new nodes address \n",
        "      self.head = new_node                        # so now head is address of new_node\n",
        "\n",
        "  def insert_at_last(self , last_ele):            \n",
        "    last_node = node(last_ele)\n",
        "\n",
        "    if self.head == None:                         # if slist is none\n",
        "      self.head = last_node\n",
        "      return\n",
        "\n",
        "    else :                                        # if slist is not none\n",
        "      temp = self.head\n",
        "\n",
        "      while (temp.next != None):                  # we reached at sec. last node\n",
        "        temp = temp.next\n",
        "      temp.next = last_node                       \n",
        "\n",
        "  def insert_at_some_position(self,new_ele,pos):\n",
        "\n",
        "    new_node = node(new_ele)\n",
        "    \n",
        "    if pos < 1 :\n",
        "      print(\"position should be >= 1\")\n",
        "    \n",
        "    elif pos == 1:\n",
        "      new_node.next = self.head\n",
        "      self.head = new_node\n",
        "    \n",
        "    else:\n",
        "\n",
        "      temp = self.head\n",
        "\n",
        "      for i in range(1 , pos -1):\n",
        "        if(temp != None):\n",
        "          temp =temp.next\n",
        "\n",
        "      if (temp != None):\n",
        "        new_node.next =  temp.next\n",
        "        temp.next = new_node\n",
        "      \n",
        "      else :\n",
        "        print(\"privious node is null\")\n",
        "\n",
        "\n",
        "  def delete_at_beginning(self):\n",
        "\n",
        "    if self.head != None :\n",
        "\n",
        "      temp = self.head\n",
        "\n",
        "      self.head = self.head.next\n",
        "\n",
        "      temp = None\n",
        "\n",
        "\n",
        "  def delete_at_last(self):\n",
        "\n",
        "    if (self.head != None) :\n",
        "      if (self.head.next) == None:\n",
        "        self.head = None\n",
        "      \n",
        "      else:\n",
        "\n",
        "        temp = self.head\n",
        "\n",
        "        while (temp.next.next != None):\n",
        "          temp = temp.next\n",
        "        lastNode = temp.next\n",
        "        temp.next = None\n",
        "        lastNode = None\n",
        "\n",
        "  def delete_at_some_position(self , pos):\n",
        "    if pos < 1 :\n",
        "      print(\"Position invalid\")\n",
        "    elif (pos ==0 and self.head != None):\n",
        "      node_delete = self.head\n",
        "      self.head = slef.head.next\n",
        "      node_delete = None\n",
        "\n",
        "    else :\n",
        "\n",
        "      temp = self.head\n",
        "      for i in range(1,pos - 1):\n",
        "        if temp != None:\n",
        "          temp = temp.next\n",
        "        \n",
        "      if(temp != None and temp.next != None):\n",
        "        node_delete = temp.next\n",
        "        temp.next = temp.next.next\n",
        "        node_delelte = None \n",
        "      else:\n",
        "\n",
        "        print(\"\\nThe node is already null.\")\n",
        "\n",
        "\n",
        "\n",
        "      \n",
        "\n",
        "llist = slist()\n",
        "\n",
        "llist.head = node(2)\n",
        "sec = node(4)\n",
        "third = node(6)\n",
        "four = node(10)\n",
        "five = node(7)\n",
        "\n",
        "llist.head.next = sec\n",
        "sec.next = third\n",
        "third.next = four\n",
        "four.next = five\n",
        "\n",
        "\n",
        "llist.travel()"
      ]
    },
    {
      "cell_type": "code",
      "source": [
        "llist.insert_at_beginning(19)  \n",
        "llist.travel()"
      ],
      "metadata": {
        "colab": {
          "base_uri": "https://localhost:8080/"
        },
        "id": "qDDRKFA418YF",
        "outputId": "ac5c8871-ae2b-4482-e65e-0703b7e4af46"
      },
      "execution_count": null,
      "outputs": [
        {
          "output_type": "stream",
          "name": "stdout",
          "text": [
            "19\n",
            "2\n",
            "4\n",
            "6\n",
            "10\n",
            "7\n"
          ]
        }
      ]
    },
    {
      "cell_type": "code",
      "source": [
        "llist.insert_at_last(39)\n",
        "llist.travel()"
      ],
      "metadata": {
        "id": "_xBdpblwwqia",
        "colab": {
          "base_uri": "https://localhost:8080/"
        },
        "outputId": "bdbc6d9d-8a69-4421-f501-bd324a99a364"
      },
      "execution_count": null,
      "outputs": [
        {
          "output_type": "stream",
          "name": "stdout",
          "text": [
            "19\n",
            "2\n",
            "4\n",
            "6\n",
            "10\n",
            "7\n",
            "39\n"
          ]
        }
      ]
    },
    {
      "cell_type": "code",
      "source": [
        "llist.insert_at_some_position(55,4)\n",
        "llist.travel()"
      ],
      "metadata": {
        "colab": {
          "base_uri": "https://localhost:8080/"
        },
        "id": "1cI4Ob2J1lov",
        "outputId": "85890a37-ba24-4412-d3dd-bef5b455c547"
      },
      "execution_count": null,
      "outputs": [
        {
          "output_type": "stream",
          "name": "stdout",
          "text": [
            "19\n",
            "2\n",
            "4\n",
            "55\n",
            "6\n",
            "10\n",
            "7\n",
            "39\n"
          ]
        }
      ]
    },
    {
      "cell_type": "code",
      "source": [
        "llist.delete_at_beginning()\n",
        "llist.travel()"
      ],
      "metadata": {
        "colab": {
          "base_uri": "https://localhost:8080/"
        },
        "id": "6HjVHMlf1nte",
        "outputId": "9ad3def5-e5c2-459d-abdf-1ca16e789d84"
      },
      "execution_count": null,
      "outputs": [
        {
          "output_type": "stream",
          "name": "stdout",
          "text": [
            "2\n",
            "4\n",
            "55\n",
            "6\n",
            "10\n",
            "7\n",
            "39\n"
          ]
        }
      ]
    },
    {
      "cell_type": "code",
      "source": [
        "llist.delete_at_last()\n",
        "llist.travel()"
      ],
      "metadata": {
        "colab": {
          "base_uri": "https://localhost:8080/"
        },
        "id": "Lu2Nymdy1wIU",
        "outputId": "4e1c1047-a169-42bb-f2fa-e93a81d9a168"
      },
      "execution_count": null,
      "outputs": [
        {
          "output_type": "stream",
          "name": "stdout",
          "text": [
            "2\n",
            "4\n",
            "55\n",
            "6\n",
            "10\n",
            "7\n"
          ]
        }
      ]
    },
    {
      "cell_type": "code",
      "source": [
        "llist.delete_at_some_position(3)\n",
        "llist.travel()"
      ],
      "metadata": {
        "colab": {
          "base_uri": "https://localhost:8080/"
        },
        "id": "ueBpFWaF1xxe",
        "outputId": "245f0479-91e7-4f5a-ba09-387bc8d85277"
      },
      "execution_count": null,
      "outputs": [
        {
          "output_type": "stream",
          "name": "stdout",
          "text": [
            "2\n",
            "4\n",
            "6\n",
            "10\n",
            "7\n"
          ]
        }
      ]
    },
    {
      "cell_type": "code",
      "source": [],
      "metadata": {
        "id": "Pj6TebN02EE1"
      },
      "execution_count": null,
      "outputs": []
    }
  ]
}