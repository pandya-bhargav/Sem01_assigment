{
  "nbformat": 4,
  "nbformat_minor": 0,
  "metadata": {
    "colab": {
      "provenance": []
    },
    "kernelspec": {
      "name": "python3",
      "display_name": "Python 3"
    },
    "language_info": {
      "name": "python"
    }
  },
  "cells": [
    {
      "cell_type": "markdown",
      "source": [
        "**Lab 01: Assignment**\n",
        "\n"
      ],
      "metadata": {
        "id": "phr6IQdb4DK3"
      }
    },
    {
      "cell_type": "markdown",
      "source": [
        "1. Print \"Python Programming\""
      ],
      "metadata": {
        "id": "m4UKwNJ_4iC2"
      }
    },
    {
      "cell_type": "code",
      "source": [
        "print('\"Python Programming\"')"
      ],
      "metadata": {
        "colab": {
          "base_uri": "https://localhost:8080/"
        },
        "id": "uIQ7RnQB4kFr",
        "outputId": "93a04855-f7d6-4d9d-9f2f-2bf4f7bb8380"
      },
      "execution_count": null,
      "outputs": [
        {
          "output_type": "stream",
          "name": "stdout",
          "text": [
            "\"Python Programming\"\n"
          ]
        }
      ]
    },
    {
      "cell_type": "markdown",
      "source": [
        "2. Print “Python Programming” with each character on separate \n",
        "lines "
      ],
      "metadata": {
        "id": "RtriW7fI4yqO"
      }
    },
    {
      "cell_type": "code",
      "source": [
        "print('\"P\\ny\\nt\\nh\\no\\nn\\n \\nP\\nr\\no\\ng\\nr\\na\\nm\\nm\\ni\\nn\\ng\\n\"')\n",
        "'''\n",
        "use \\n for new line\n",
        "use \\t for tab\n",
        "'''"
      ],
      "metadata": {
        "id": "HMAWKpbO42Yf",
        "colab": {
          "base_uri": "https://localhost:8080/",
          "height": 365
        },
        "outputId": "d2721c7a-8d1d-49e2-b35e-e8e134423129"
      },
      "execution_count": null,
      "outputs": [
        {
          "output_type": "stream",
          "name": "stdout",
          "text": [
            "\"P\n",
            "y\n",
            "t\n",
            "h\n",
            "o\n",
            "n\n",
            " \n",
            "P\n",
            "r\n",
            "o\n",
            "g\n",
            "r\n",
            "a\n",
            "m\n",
            "m\n",
            "i\n",
            "n\n",
            "g\n",
            "\"\n"
          ]
        },
        {
          "output_type": "execute_result",
          "data": {
            "text/plain": [
              "'\\nuse \\n for new line\\nuse \\t for tab\\n'"
            ],
            "application/vnd.google.colaboratory.intrinsic+json": {
              "type": "string"
            }
          },
          "metadata": {},
          "execution_count": 2
        }
      ]
    },
    {
      "cell_type": "markdown",
      "source": [
        "3 . Print Your Name On screen."
      ],
      "metadata": {
        "id": "pQuSgkrU5D17"
      }
    },
    {
      "cell_type": "code",
      "source": [
        "print(\"Bhargav Rajendrabhai Pandya\")"
      ],
      "metadata": {
        "colab": {
          "base_uri": "https://localhost:8080/"
        },
        "id": "oKD0HCzp5Gco",
        "outputId": "4bea96d8-a3dd-47a6-9e16-ddba6d4cc0ce"
      },
      "execution_count": null,
      "outputs": [
        {
          "output_type": "stream",
          "name": "stdout",
          "text": [
            "Bhargav Rajendrabhai Pandya\n"
          ]
        }
      ]
    },
    {
      "cell_type": "markdown",
      "source": [
        "4. Print Address on screen. "
      ],
      "metadata": {
        "id": "H12DtYTv5S5S"
      }
    },
    {
      "cell_type": "code",
      "source": [
        "print(\" 395/a/2 , street 2 \\n Green city , Ranjitsagar Road \\n Jamnagar-361005 \\n Gujarat \")"
      ],
      "metadata": {
        "colab": {
          "base_uri": "https://localhost:8080/"
        },
        "id": "_b191gsk5LMe",
        "outputId": "708f6526-78f8-47a0-f08f-f72c0276d84d"
      },
      "execution_count": null,
      "outputs": [
        {
          "output_type": "stream",
          "name": "stdout",
          "text": [
            " 395/a/2 , street 2 \n",
            " Green city , Ranjitsagar Road \n",
            " Jamnagar-361005 \n",
            " Gujarat \n"
          ]
        }
      ]
    },
    {
      "cell_type": "markdown",
      "source": [
        "5. Enter the value of an integer variable and print it on screen"
      ],
      "metadata": {
        "id": "N2Pv57XV5dbQ"
      }
    },
    {
      "cell_type": "code",
      "source": [
        "a = 5\n",
        "print(a)"
      ],
      "metadata": {
        "colab": {
          "base_uri": "https://localhost:8080/"
        },
        "id": "cO3CiLSv5YYr",
        "outputId": "be5165c3-d953-402c-98e7-8023577b443b"
      },
      "execution_count": null,
      "outputs": [
        {
          "output_type": "stream",
          "name": "stdout",
          "text": [
            "5\n"
          ]
        }
      ]
    },
    {
      "cell_type": "markdown",
      "source": [
        "6. Enter the value of an float variable and print it on screen. "
      ],
      "metadata": {
        "id": "5-ZwKOmH5ogH"
      }
    },
    {
      "cell_type": "code",
      "source": [
        "x = 5.5674\n",
        "print(x)"
      ],
      "metadata": {
        "colab": {
          "base_uri": "https://localhost:8080/"
        },
        "id": "kiLL-zM75lK4",
        "outputId": "9cc7451e-4aa2-4ebe-fe17-c11a4bc27fff"
      },
      "execution_count": null,
      "outputs": [
        {
          "output_type": "stream",
          "name": "stdout",
          "text": [
            "5.5674\n"
          ]
        }
      ]
    },
    {
      "cell_type": "markdown",
      "source": [
        "7. Enter the value of an string variable and print it on screen. "
      ],
      "metadata": {
        "id": "YDKZ1d1G5u5m"
      }
    },
    {
      "cell_type": "code",
      "source": [
        "k = \"xyz\"\n",
        "print(k)"
      ],
      "metadata": {
        "colab": {
          "base_uri": "https://localhost:8080/"
        },
        "id": "zzgBbjO-5rfT",
        "outputId": "1b559965-b93d-4c85-dd84-cba69d898b12"
      },
      "execution_count": null,
      "outputs": [
        {
          "output_type": "stream",
          "name": "stdout",
          "text": [
            "xyz\n"
          ]
        }
      ]
    },
    {
      "cell_type": "markdown",
      "source": [
        "8. Input two numbers and prints its square and cube. "
      ],
      "metadata": {
        "id": "EmW9qLAw52hg"
      }
    },
    {
      "cell_type": "code",
      "source": [
        "p = float(input(\"p = \"))\n",
        "q = float(input(\"q = \"))\n",
        "print(\"p^2 = {}\".format(p**2))\n",
        "print(\"p^3 = {}\".format(p**3))\n",
        "print(\"q^2 = {}\".format(q**2))\n",
        "print(\"q^3 = {}\".format(q**3))"
      ],
      "metadata": {
        "colab": {
          "base_uri": "https://localhost:8080/"
        },
        "id": "WacFSzo55yTf",
        "outputId": "f8742d7f-d8ec-44f8-9b2b-0265281ea536"
      },
      "execution_count": null,
      "outputs": [
        {
          "output_type": "stream",
          "name": "stdout",
          "text": [
            "p = 3\n",
            "q = 5\n",
            "p^2 = 9.0\n",
            "p^3 = 27.0\n",
            "q^2 = 25.0\n",
            "q^3 = 125.0\n"
          ]
        }
      ]
    },
    {
      "cell_type": "markdown",
      "source": [
        "9. Input two numbers and prints its Addition, Subtraction, \n",
        "Multiplication, and Division. "
      ],
      "metadata": {
        "id": "5gYtAhd76FtN"
      }
    },
    {
      "cell_type": "code",
      "source": [
        "a = float(input(\"a = \"))\n",
        "b = float(input(\"b = \"))\n",
        "print(\"a+b = {}\".format(a+b))\n",
        "print(\"a-b = {}\".format(a-b))\n",
        "print(\"a*b ={}\".format(a*b))\n",
        "print(\"a/b = {}\".format(a/b))"
      ],
      "metadata": {
        "colab": {
          "base_uri": "https://localhost:8080/"
        },
        "id": "46Xq9yrx56uN",
        "outputId": "d32a71d7-50f6-4aea-d74e-f9cf796d6ec2"
      },
      "execution_count": null,
      "outputs": [
        {
          "output_type": "stream",
          "name": "stdout",
          "text": [
            "a = 3\n",
            "b = 9\n",
            "a+b = 12.0\n",
            "a-b = -6.0\n",
            "a*b =27.0\n",
            "a/b = 0.3333333333333333\n"
          ]
        }
      ]
    },
    {
      "cell_type": "markdown",
      "source": [
        "10. Verify the formula l=(c+d)*(g+h). "
      ],
      "metadata": {
        "id": "komG1js86tK3"
      }
    },
    {
      "cell_type": "code",
      "source": [
        "c = float(input(\"c = \"))\n",
        "d = float(input(\"d = \"))\n",
        "g = float(input(\"g = \"))\n",
        "h = float(input(\"h = \"))\n",
        "l = (c+d)*(g+h)\n",
        "print(\"l = {} \".format(l))"
      ],
      "metadata": {
        "id": "dglSFY2L6iR9",
        "colab": {
          "base_uri": "https://localhost:8080/"
        },
        "outputId": "954ccf7b-fed6-4379-a9b2-75fcb3967be6"
      },
      "execution_count": null,
      "outputs": [
        {
          "output_type": "stream",
          "name": "stdout",
          "text": [
            "c = 3.5\n",
            "d = -4\n",
            "g = 8\n",
            "h = 6.3\n",
            "l = -7.15 \n"
          ]
        }
      ]
    },
    {
      "cell_type": "code",
      "source": [
        "(c+d)*(g+h)"
      ],
      "metadata": {
        "colab": {
          "base_uri": "https://localhost:8080/"
        },
        "id": "huoEpAm1w_kr",
        "outputId": "6ad7d004-eb70-4d5b-b03a-ca0a2a9c8ee1"
      },
      "execution_count": null,
      "outputs": [
        {
          "output_type": "execute_result",
          "data": {
            "text/plain": [
              "-7.15"
            ]
          },
          "metadata": {},
          "execution_count": 11
        }
      ]
    },
    {
      "cell_type": "markdown",
      "source": [
        "11. Verify the formula x=((k-4) * (a*4))/100 "
      ],
      "metadata": {
        "id": "W9zUbc5V6uo_"
      }
    },
    {
      "cell_type": "code",
      "source": [
        "k = float(input(\"k = \"))\n",
        "a = float(input(\"a = \"))\n",
        "x = ((k-4) * (a*4))/100\n",
        "print(\"x = {} \".format(x))"
      ],
      "metadata": {
        "id": "NTT_tb0E6xhX",
        "colab": {
          "base_uri": "https://localhost:8080/"
        },
        "outputId": "561dba3f-62f5-4e2b-c9f3-bb06a812dcf0"
      },
      "execution_count": null,
      "outputs": [
        {
          "output_type": "stream",
          "name": "stdout",
          "text": [
            "k = 5\n",
            "a = 13.45\n",
            "x = 0.5379999999999999 \n"
          ]
        }
      ]
    },
    {
      "cell_type": "code",
      "source": [
        "((k-4) * (a*4))/100"
      ],
      "metadata": {
        "colab": {
          "base_uri": "https://localhost:8080/"
        },
        "id": "fj7fiLI0xKDn",
        "outputId": "256466d5-fffd-428b-d866-6ec32b897b49"
      },
      "execution_count": null,
      "outputs": [
        {
          "output_type": "execute_result",
          "data": {
            "text/plain": [
              "0.5379999999999999"
            ]
          },
          "metadata": {},
          "execution_count": 13
        }
      ]
    },
    {
      "cell_type": "markdown",
      "source": [
        "12. Verify the formula s=((4 * a+c)-2 * a * b)/100"
      ],
      "metadata": {
        "id": "DDAuWD4U7Jvu"
      }
    },
    {
      "cell_type": "code",
      "source": [
        "a = float(input(\"a = \"))\n",
        "b = float(input(\"b = \"))\n",
        "c = float(input(\"c = \"))\n",
        "s = ((4 * a+c)-2 * a * b)/100\n",
        "print(\"s = {} \".format(s))"
      ],
      "metadata": {
        "id": "RKfyyssA7KTf",
        "colab": {
          "base_uri": "https://localhost:8080/"
        },
        "outputId": "8d1cabb0-0360-4f12-b0da-e2dacdec0480"
      },
      "execution_count": null,
      "outputs": [
        {
          "output_type": "stream",
          "name": "stdout",
          "text": [
            "a = 9\n",
            "b = 40\n",
            "c = 41\n",
            "s = -6.43 \n"
          ]
        }
      ]
    },
    {
      "cell_type": "code",
      "source": [
        "((4 * a+c)-2 * a * b)/100\n"
      ],
      "metadata": {
        "colab": {
          "base_uri": "https://localhost:8080/"
        },
        "id": "MRrp0Ay3xZa4",
        "outputId": "4a9a8603-4380-4253-9f1b-804180b1a4cc"
      },
      "execution_count": null,
      "outputs": [
        {
          "output_type": "execute_result",
          "data": {
            "text/plain": [
              "-6.43"
            ]
          },
          "metadata": {},
          "execution_count": 15
        }
      ]
    },
    {
      "cell_type": "markdown",
      "source": [
        "13. Verify the formula a=p*(1+(r/100)/n)-p "
      ],
      "metadata": {
        "id": "jrtRCcc77SnD"
      }
    },
    {
      "cell_type": "code",
      "source": [
        "p = float(input(\"p = \"))\n",
        "r = float(input(\"r = \"))\n",
        "n = float(input(\"n = \"))\n",
        "a = p*(1+(r/100)/n)-p\n",
        "print(\"a = {} \".format(a))"
      ],
      "metadata": {
        "id": "EPjQJH397WKU",
        "colab": {
          "base_uri": "https://localhost:8080/"
        },
        "outputId": "8f112b5b-e96e-4baf-acc4-9388582b0fa1"
      },
      "execution_count": null,
      "outputs": [
        {
          "output_type": "stream",
          "name": "stdout",
          "text": [
            "p = 40000\n",
            "r = 8\n",
            "n = 3\n",
            "a = 1066.6666666666642 \n"
          ]
        }
      ]
    },
    {
      "cell_type": "code",
      "source": [
        "p*(1+(r/100)/n)-p"
      ],
      "metadata": {
        "colab": {
          "base_uri": "https://localhost:8080/"
        },
        "id": "ZIcmpBQ4xjw0",
        "outputId": "603dd0db-db60-4f10-a236-7cc47dfd767f"
      },
      "execution_count": null,
      "outputs": [
        {
          "output_type": "execute_result",
          "data": {
            "text/plain": [
              "1066.6666666666642"
            ]
          },
          "metadata": {},
          "execution_count": 17
        }
      ]
    },
    {
      "cell_type": "markdown",
      "source": [
        "14.  Verify the formula t=((v+s)+(l-m)*l) "
      ],
      "metadata": {
        "id": "8qhY6kVm7XWI"
      }
    },
    {
      "cell_type": "code",
      "source": [
        "v = float(input(\"v = \"))\n",
        "s = float(input(\"s = \"))\n",
        "l = float(input(\"l = \"))\n",
        "m = float(input(\"m = \"))\n",
        "t = ((v+s)+(l-m)*l)\n",
        "print(\"t = {} \".format(t))"
      ],
      "metadata": {
        "id": "nMDgrlvz7bii",
        "colab": {
          "base_uri": "https://localhost:8080/"
        },
        "outputId": "3c0198a2-c9b3-44fb-f95f-9158e86053f2"
      },
      "execution_count": null,
      "outputs": [
        {
          "output_type": "stream",
          "name": "stdout",
          "text": [
            "v = 4\n",
            "s = -4.7\n",
            "l = 5\n",
            "m = 10\n",
            "t = -25.7 \n"
          ]
        }
      ]
    },
    {
      "cell_type": "code",
      "source": [
        "((v+s)+(l-m)*l)"
      ],
      "metadata": {
        "colab": {
          "base_uri": "https://localhost:8080/"
        },
        "id": "YRKxmaOFxyne",
        "outputId": "1d71ce7f-f70d-451c-8856-afc7acc4249e"
      },
      "execution_count": null,
      "outputs": [
        {
          "output_type": "execute_result",
          "data": {
            "text/plain": [
              "-25.7"
            ]
          },
          "metadata": {},
          "execution_count": 19
        }
      ]
    },
    {
      "cell_type": "markdown",
      "source": [
        "15. Calculate the area of circle."
      ],
      "metadata": {
        "id": "CoXT_iem7iKW"
      }
    },
    {
      "cell_type": "code",
      "source": [
        "r=float(input(\"radius_of_circle = \"))\n",
        "area = (22/7)*r*r\n",
        "print(\"area = {}\".format(area))"
      ],
      "metadata": {
        "colab": {
          "base_uri": "https://localhost:8080/"
        },
        "id": "uz8vlLFU7eLZ",
        "outputId": "c846d8a0-fb4e-4dfb-eb95-1a104425d2cb"
      },
      "execution_count": null,
      "outputs": [
        {
          "output_type": "stream",
          "name": "stdout",
          "text": [
            "radius_of_circle = 6\n",
            "area = 113.14285714285714\n"
          ]
        }
      ]
    },
    {
      "cell_type": "markdown",
      "source": [
        "16. Calculate the area of Triangle"
      ],
      "metadata": {
        "id": "-eBWJReJ7jNq"
      }
    },
    {
      "cell_type": "code",
      "source": [
        "a = float(input(\"a = \"))\n",
        "b = float(input(\"b = \"))\n",
        "c = float(input(\"c = \"))\n",
        "s = (a+b+c)/2\n",
        "area = (s*(s-a)*(s-b)*(s-c))**(0.5)           #heron's formula\n",
        "print(\"area of triangle = {}\".format(area))"
      ],
      "metadata": {
        "id": "RCfLL_Ng7mF6",
        "colab": {
          "base_uri": "https://localhost:8080/"
        },
        "outputId": "fefdaa16-b039-45cd-89cc-1ef5625bde05"
      },
      "execution_count": null,
      "outputs": [
        {
          "output_type": "stream",
          "name": "stdout",
          "text": [
            "a = 3\n",
            "b = 5\n",
            "c = 4\n",
            "area of triangle = 6.0\n"
          ]
        }
      ]
    },
    {
      "cell_type": "markdown",
      "source": [
        "17. Verify the formula c=(a+b)*(a+b) "
      ],
      "metadata": {
        "id": "-f54Svt37pTx"
      }
    },
    {
      "cell_type": "code",
      "source": [
        "a = float(input(\"a = \"))\n",
        "b = float(input(\"b = \"))\n",
        "x = (a+b)*(a+b)\n",
        "print(\"x = {}\".format(x))"
      ],
      "metadata": {
        "id": "ITa0NS3r7tCd",
        "colab": {
          "base_uri": "https://localhost:8080/"
        },
        "outputId": "3cf763ac-e7c7-4ca3-da70-27b244bbab8b"
      },
      "execution_count": null,
      "outputs": [
        {
          "output_type": "stream",
          "name": "stdout",
          "text": [
            "a = 4\n",
            "b = 5\n",
            "x = 81.0\n"
          ]
        }
      ]
    },
    {
      "cell_type": "code",
      "source": [
        "print((a+b)*(a+b))"
      ],
      "metadata": {
        "colab": {
          "base_uri": "https://localhost:8080/"
        },
        "id": "H0qSRyvQwn8j",
        "outputId": "c6b1d229-32ff-4d58-a4ee-c5ff732ea4c0"
      },
      "execution_count": null,
      "outputs": [
        {
          "output_type": "stream",
          "name": "stdout",
          "text": [
            "81.0\n"
          ]
        }
      ]
    },
    {
      "cell_type": "markdown",
      "source": [
        "18. Write a program to count the simple interest. "
      ],
      "metadata": {
        "id": "jNv7xPSD7uAI"
      }
    },
    {
      "cell_type": "code",
      "source": [
        "p = float(input(\"Enter Principal amount = \"))\n",
        "r = float(input(\"Enter Rate of Interest in % per annum = \"))\n",
        "n = int(input(\"Enter Time duration (in years) = \"))\n",
        "s_i = (p*r*n)/100\n",
        "print(\"Simple_interest = {}\".format(s_i))"
      ],
      "metadata": {
        "colab": {
          "base_uri": "https://localhost:8080/"
        },
        "id": "TRviS3eZ7wrj",
        "outputId": "417e199a-e0ea-44e3-8f47-8f40d4551e18"
      },
      "execution_count": null,
      "outputs": [
        {
          "output_type": "stream",
          "name": "stdout",
          "text": [
            "Enter Principal amount = 50000\n",
            "Enter Rate of Interest in % per annum = 8\n",
            "Enter Time duration (in years) = 10\n",
            "Simple_interest = 40000.0\n"
          ]
        }
      ]
    },
    {
      "cell_type": "markdown",
      "source": [
        "19. Input a Rupees and prints its value converted into Dollar. "
      ],
      "metadata": {
        "id": "Rrtj8xHP7zh_"
      }
    },
    {
      "cell_type": "code",
      "source": [
        "# 1 ruppe = 0.013 $\n",
        "ruppe = float(input(\"ruppes = \"))\n",
        "dollar = 0.013*ruppe\n",
        "print(\"ruppes_to_dollar = {}\".format(dollar))"
      ],
      "metadata": {
        "id": "yXkVMr1P70Gp",
        "colab": {
          "base_uri": "https://localhost:8080/"
        },
        "outputId": "a4689fee-6fc8-456d-a186-06ce8aaffdf8"
      },
      "execution_count": null,
      "outputs": [
        {
          "output_type": "stream",
          "name": "stdout",
          "text": [
            "ruppes = 50000\n",
            "ruppes_to_dollar = 650.0\n"
          ]
        }
      ]
    },
    {
      "cell_type": "markdown",
      "source": [
        "20. Input a Number of Chairs and its Total Cost and Prints the Cost \n",
        "of Each chair \n",
        "\n",
        " \n",
        "\n",
        " "
      ],
      "metadata": {
        "id": "vo8vxd0670k2"
      }
    },
    {
      "cell_type": "code",
      "source": [
        "no_of_chair = int(input(\"Number of chairs = \"))\n",
        "total_cost_of_chairs = float(input(\"Total_cost_of_chairs = \"))\n",
        "k= total_cost_of_chairs/no_of_chair\n",
        "print(\"Cost of one chair = {}\".format(k))"
      ],
      "metadata": {
        "colab": {
          "base_uri": "https://localhost:8080/"
        },
        "id": "p7CDZb1RSL9w",
        "outputId": "8f81e435-cae0-4f03-edad-8a69c4a961de"
      },
      "execution_count": null,
      "outputs": [
        {
          "output_type": "stream",
          "name": "stdout",
          "text": [
            "Number of chairs = 10\n",
            "Total_cost_of_chairs = 5000\n",
            "Cost of one chair = 500.0\n"
          ]
        }
      ]
    },
    {
      "cell_type": "markdown",
      "source": [
        "21. Print the message as: "
      ],
      "metadata": {
        "id": "scFrnEKp78tU"
      }
    },
    {
      "cell_type": "code",
      "source": [
        "print(\"HELLO\\n\\tI am a student at\\n\\t\\tDAIICT\\nD-Dhirubhai\\n\\tA-Ambani\\n\\t\\t\\tI-Institute\\n\\t\\t\\t\\tOf\\n\\t\\t\\tI-Information\\n\\t\\t\\t\\tAnd\\n\\t\\tC-Communication\\nT-Technology\")"
      ],
      "metadata": {
        "colab": {
          "base_uri": "https://localhost:8080/"
        },
        "id": "pzUJwswnW-h3",
        "outputId": "2ac240f1-ece4-429a-f2ab-3c270df78584"
      },
      "execution_count": null,
      "outputs": [
        {
          "output_type": "stream",
          "name": "stdout",
          "text": [
            "HELLO\n",
            "\tI am a student at\n",
            "\t\tDAIICT\n",
            "D-Dhirubhai\n",
            "\tA-Ambani\n",
            "\t\t\tI-Institute\n",
            "\t\t\t\tOf\n",
            "\t\t\tI-Information\n",
            "\t\t\t\tAnd\n",
            "\t\tC-Communication\n",
            "T-Technology\n"
          ]
        }
      ]
    },
    {
      "cell_type": "code",
      "source": [
        "\n"
      ],
      "metadata": {
        "id": "oE-JAQD-0YUg"
      },
      "execution_count": null,
      "outputs": []
    },
    {
      "cell_type": "code",
      "source": [],
      "metadata": {
        "id": "lHKKPalGTtJd"
      },
      "execution_count": null,
      "outputs": []
    }
  ]
}