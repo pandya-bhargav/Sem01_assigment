{
  "nbformat": 4,
  "nbformat_minor": 0,
  "metadata": {
    "colab": {
      "provenance": []
    },
    "kernelspec": {
      "name": "python3",
      "display_name": "Python 3"
    },
    "language_info": {
      "name": "python"
    }
  },
  "cells": [
    {
      "cell_type": "markdown",
      "source": [
        "Name       : Bhargav R Pandya\n",
        "\n",
        "S_ID : 202218055"
      ],
      "metadata": {
        "id": "Mber7KtSmJ2J"
      }
    },
    {
      "cell_type": "markdown",
      "source": [
        "Assignment No. 7: Binary search tree implementation\n",
        "\n",
        "Implement the functionalities of the binary search tree. Insert, delete, traversal, finding minimum, finding maximum, finding successor."
      ],
      "metadata": {
        "id": "3cBvmJQVmhuN"
      }
    },
    {
      "cell_type": "code",
      "execution_count": null,
      "metadata": {
        "id": "UR2BMCcQl8HR"
      },
      "outputs": [],
      "source": [
        "class Node:\n",
        "    def __init__(self,data):\n",
        "        self.data = data                    #data\n",
        "        self.parent = None                  # parent\n",
        "        self.left = None                    # left child\n",
        "        self.right = None                   # right child"
      ]
    },
    {
      "cell_type": "code",
      "source": [
        "#BSTree: root\n",
        "class BSTree:\n",
        "    def __init__(self):\n",
        "        self.root = None\n",
        "\n",
        "    #tree_min: will return minimum value in the tree or subtree\n",
        "    def tree_min(self, node=None, type=None):\n",
        "        pointer = self.root if node is None else node\n",
        "        while pointer.left is not None:\n",
        "            pointer = pointer.left\n",
        "        if type == \"node\": return pointer\n",
        "        return pointer.data\n",
        "\n",
        "    #tree_max: will return maximum value in the tree or subtree\n",
        "    def tree_max(self, node=None):\n",
        "        pointer = self.root if node is None else node\n",
        "        while pointer.right is not None:\n",
        "            pointer = pointer.right\n",
        "        return pointer.data\n",
        "\n",
        "    #search: will return the node corresponding to provided value\n",
        "    def search(self,value, node=None):\n",
        "        node = self.root if node is None else node\n",
        "        if self.root is None:\n",
        "            return\n",
        "        if value == node.data:\n",
        "            return node\n",
        "        if value< node.data:\n",
        "            return self.search(value,node.left)\n",
        "        else:\n",
        "            return self.search(value,node.right)\n",
        "\n",
        "    #inorder_traversal: traverse through the tree in 'left -> root -> right' manner\n",
        "    def inorder_traversal(self,node):\n",
        "        if node is not None:\n",
        "            self.inorder_traversal(node.left)\n",
        "            print(node.data, end=' ')\n",
        "            self.inorder_traversal(node.right)\n",
        " \n",
        "    #preorder_traversal: traverse through the tree in 'root -> left ->  right' manner\n",
        "    def preorder_traversal(self,node):\n",
        "        if node is not None:\n",
        "            print(node.data, end=' ')\n",
        "            self.preorder_traversal(node.left)\n",
        "            self.preorder_traversal(node.right)\n",
        "\n",
        "    #postorder_traversal: traverse through the tree in 'left -> right -> root' manner\n",
        "    def postorder_traversal(self,node):\n",
        "        if node is not None:\n",
        "            self.postorder_traversal(node.left)\n",
        "            self.postorder_traversal(node.right)\n",
        "            print(node.data, end=' ')\n",
        "\n",
        "    #tree_successor: returns smallest-greater value of the provided value\n",
        "    def tree_successor(self, value):\n",
        "        node = self.search(value) #using search to find the node of the given value\n",
        "        if node.right is not None:\n",
        "            return self.tree_min(node.right)\n",
        "        up_node = node.parent\n",
        "        while up_node is not None and node == up_node.right:\n",
        "            node = up_node\n",
        "            up_node = up_node.parent\n",
        "        return up_node.data\n",
        "\n",
        "    #insert: inserts value in the tree\n",
        "    def insert(self, value):\n",
        "        node = Node(value)\n",
        "        up_node = None      #pointer 1\n",
        "        cur_node = self.root        #pointer 2\n",
        "        while cur_node is not None:\n",
        "            up_node = cur_node\n",
        "            if node.data < cur_node.data:\n",
        "                cur_node = cur_node.left\n",
        "            else:\n",
        "                cur_node = cur_node.right\n",
        "        node.parent = up_node\n",
        "        if up_node is None:\n",
        "            self.root = node\n",
        "        elif node.data < up_node.data:\n",
        "            up_node.left = node\n",
        "        else:\n",
        "            up_node.right = node\n",
        "\n",
        "    #transplant: removes the node and transplants the right/left subtree of a node at its position\n",
        "    def transplant(self, u, v ):\n",
        "        if u.parent is None:\n",
        "            self.root = v\n",
        "        elif u == u.parent.left:\n",
        "            u.parent.left = v\n",
        "        else:\n",
        "            u.parent.right = v\n",
        "        if v is not None:\n",
        "            v.parent = u.parent\n",
        "\n",
        "    #tree_delete: deletes a node from the tree by providing the value\n",
        "    def tree_delete(self, value):\n",
        "        node = self.search(value)       #returns the node corresponding to input value\n",
        "        if node.left is None:\n",
        "            self.transplant( node, node.right)\n",
        "        elif node.right is None:\n",
        "            self.transplant(node,node.left)\n",
        "        else:\n",
        "            successor = self.tree_min(node.right, \"node\")\n",
        "            if successor.parent != node:\n",
        "                self.transplant(successor,successor.right)\n",
        "                successor.right = node.right\n",
        "                successor.right.parent = successor\n",
        "            self.transplant( node, successor)\n",
        "            successor.left = node.left\n",
        "            successor.left.parent = successor\n",
        "        return value"
      ],
      "metadata": {
        "id": "orBJB6GaoVUG"
      },
      "execution_count": null,
      "outputs": []
    },
    {
      "cell_type": "code",
      "source": [
        "arr = [6,88,3,52,90,43,7,33,44,78,32,40]\n",
        "\n",
        "tree = BSTree()\n",
        "\n",
        "for i in arr:\n",
        "    tree.insert(i)\n",
        "\n",
        "print('# inorder traversal:')\n",
        "tree.inorder_traversal(tree.root)"
      ],
      "metadata": {
        "colab": {
          "base_uri": "https://localhost:8080/"
        },
        "id": "3_-ZTFM6oq0J",
        "outputId": "0b29d23f-4fcb-4309-b52f-7e5dc36e815c"
      },
      "execution_count": null,
      "outputs": [
        {
          "output_type": "stream",
          "name": "stdout",
          "text": [
            "# inorder traversal:\n",
            "3 6 7 32 33 40 43 44 52 78 88 90 "
          ]
        }
      ]
    },
    {
      "cell_type": "code",
      "source": [
        "print('\\n\\n# minimum value: ',tree.tree_min(tree.root))"
      ],
      "metadata": {
        "colab": {
          "base_uri": "https://localhost:8080/"
        },
        "id": "16GlRgcJo1i5",
        "outputId": "6a4c99d6-756c-4ba0-88c8-1c0f213c200a"
      },
      "execution_count": null,
      "outputs": [
        {
          "output_type": "stream",
          "name": "stdout",
          "text": [
            "\n",
            "\n",
            "# minimum value:  3\n"
          ]
        }
      ]
    },
    {
      "cell_type": "code",
      "source": [
        "print('\\n# maximum value: ',tree.tree_max(tree.root))"
      ],
      "metadata": {
        "colab": {
          "base_uri": "https://localhost:8080/"
        },
        "id": "LL9fAo8qo_BH",
        "outputId": "105b60bd-8869-4fa0-9cdc-5e3eb15f7de6"
      },
      "execution_count": null,
      "outputs": [
        {
          "output_type": "stream",
          "name": "stdout",
          "text": [
            "\n",
            "# maximum value:  90\n"
          ]
        }
      ]
    },
    {
      "cell_type": "code",
      "source": [
        "print('\\n# successor: ',tree.tree_successor(44))"
      ],
      "metadata": {
        "colab": {
          "base_uri": "https://localhost:8080/"
        },
        "id": "Z0yNbrv0pBiq",
        "outputId": "2a2b8ca0-4fd7-4a2a-91b5-4d2b28da4c8a"
      },
      "execution_count": null,
      "outputs": [
        {
          "output_type": "stream",
          "name": "stdout",
          "text": [
            "\n",
            "# successor:  52\n"
          ]
        }
      ]
    },
    {
      "cell_type": "code",
      "source": [
        "print('\\n# inorder traversal:')\n",
        "tree.inorder_traversal(tree.root)"
      ],
      "metadata": {
        "colab": {
          "base_uri": "https://localhost:8080/"
        },
        "id": "wMTn6IRHpHh4",
        "outputId": "df8c5ca3-0c67-4470-8ad7-94d2eda401a2"
      },
      "execution_count": null,
      "outputs": [
        {
          "output_type": "stream",
          "name": "stdout",
          "text": [
            "\n",
            "# inorder traversal:\n",
            "3 6 7 32 33 40 43 44 52 78 88 90 "
          ]
        }
      ]
    },
    {
      "cell_type": "code",
      "source": [
        "print('\\n\\n# deleted node: ',tree.tree_delete(7))"
      ],
      "metadata": {
        "colab": {
          "base_uri": "https://localhost:8080/"
        },
        "id": "R8k0ftBSpL_Q",
        "outputId": "a2b8850e-19d1-4bf4-a473-e132c17af5ba"
      },
      "execution_count": null,
      "outputs": [
        {
          "output_type": "stream",
          "name": "stdout",
          "text": [
            "\n",
            "\n",
            "# deleted node:  7\n"
          ]
        }
      ]
    },
    {
      "cell_type": "code",
      "source": [
        "print('\\n# inorder traversal:')\n",
        "tree.inorder_traversal(tree.root)"
      ],
      "metadata": {
        "colab": {
          "base_uri": "https://localhost:8080/"
        },
        "id": "5OD6sB_vpP8B",
        "outputId": "2de09fa6-ae9f-49e9-99d4-2e88df7a19e6"
      },
      "execution_count": null,
      "outputs": [
        {
          "output_type": "stream",
          "name": "stdout",
          "text": [
            "\n",
            "# inorder traversal:\n",
            "3 6 32 33 40 43 44 52 78 88 90 "
          ]
        }
      ]
    },
    {
      "cell_type": "code",
      "source": [
        "print('\\n\\n# preorder traversal:')\n",
        "tree.preorder_traversal(tree.root)"
      ],
      "metadata": {
        "colab": {
          "base_uri": "https://localhost:8080/"
        },
        "id": "O8k0-45GpTXI",
        "outputId": "2cff0e13-cff9-4db2-901b-86f8e47e7c2b"
      },
      "execution_count": null,
      "outputs": [
        {
          "output_type": "stream",
          "name": "stdout",
          "text": [
            "\n",
            "\n",
            "# preorder traversal:\n",
            "6 3 88 52 43 33 32 40 44 78 90 "
          ]
        }
      ]
    },
    {
      "cell_type": "code",
      "source": [
        "print('\\n\\n# postorder traversal:')\n",
        "tree.postorder_traversal(tree.root)"
      ],
      "metadata": {
        "colab": {
          "base_uri": "https://localhost:8080/"
        },
        "id": "YH_6klFmpVqM",
        "outputId": "d7dc2818-e73b-4f43-f330-1dc2e4534a42"
      },
      "execution_count": null,
      "outputs": [
        {
          "output_type": "stream",
          "name": "stdout",
          "text": [
            "\n",
            "\n",
            "# postorder traversal:\n",
            "3 32 40 33 44 43 78 52 90 88 6 "
          ]
        }
      ]
    },
    {
      "cell_type": "code",
      "source": [],
      "metadata": {
        "id": "TlYJbwZUq_JV"
      },
      "execution_count": null,
      "outputs": []
    },
    {
      "cell_type": "code",
      "source": [],
      "metadata": {
        "id": "DTTjDYfIrEny"
      },
      "execution_count": null,
      "outputs": []
    }
  ]
}