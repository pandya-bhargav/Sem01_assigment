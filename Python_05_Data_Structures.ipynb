{
  "nbformat": 4,
  "nbformat_minor": 0,
  "metadata": {
    "colab": {
      "provenance": []
    },
    "kernelspec": {
      "name": "python3",
      "display_name": "Python 3"
    },
    "language_info": {
      "name": "python"
    }
  },
  "cells": [
    {
      "cell_type": "markdown",
      "source": [
        "Name : Bhargav R Pandya\n",
        "\n",
        "Student Id : 202218055"
      ],
      "metadata": {
        "id": "JKQHb8ZhYNey"
      }
    },
    {
      "cell_type": "markdown",
      "source": [
        "1.\n",
        "\n",
        "Consider two disjoint lists with each having 10 elements. Now, randomly generate the\n",
        "number and add it to the list alternatively. Stop the process when intersection of both the\n",
        "lists is a singleton set. The range of the values in the lists is [0,100]. Calculate the total\n",
        "number of distinct elements in both the lists."
      ],
      "metadata": {
        "id": "CRUOx4jDYOTt"
      }
    },
    {
      "cell_type": "code",
      "execution_count": null,
      "metadata": {
        "id": "0txMtaG_bZXa",
        "colab": {
          "base_uri": "https://localhost:8080/"
        },
        "outputId": "d2754f0e-259c-44fb-e525-be91b2b73eb9"
      },
      "outputs": [
        {
          "output_type": "stream",
          "name": "stdout",
          "text": [
            "set()\n",
            "{1, 67, 99, 36, 73, 48, 51, 22, 87, 120, 93, 63}\n",
            "{98, 3, 2, 5, 6, 7, 75, 43, 79, 54, 88, 63}\n"
          ]
        },
        {
          "output_type": "execute_result",
          "data": {
            "text/plain": [
              "(12, 12)"
            ]
          },
          "metadata": {},
          "execution_count": 14
        }
      ],
      "source": [
        "import random\n",
        "arr1 = [1,22,63,48,51,67,73,87,99,120]\n",
        "arr2 = [43,75,88,3,6,98,5,2,54,7]\n",
        "arr1 = set(arr1)\n",
        "arr2 = set(arr2)\n",
        "def intersection_singleton(arr1,arr2):\n",
        "  k = arr1.intersection(arr2)\n",
        "  if len(k)>0:\n",
        "    print(\"Please enter disjoint lists\")\n",
        "  else:\n",
        "    arr1 = set(arr1)\n",
        "    arr2 = set(arr2)\n",
        "    print(arr1.intersection(arr2))\n",
        "    \n",
        "    while True :\n",
        "      arr1.add(random.randint(0,100))\n",
        "      arr2.add(random.randint(0,100))\n",
        "      k = arr1.intersection(arr2)\n",
        "      if len(k)>0:\n",
        "        print(arr1)\n",
        "        print(arr2)\n",
        "        return len(arr1),len(arr2)\n",
        "        break\n",
        "\n",
        "intersection_singleton(arr1,arr2)\n"
      ]
    },
    {
      "cell_type": "markdown",
      "source": [
        "2)\n",
        "\n",
        "There is an array of n integers. There are also 2 disjoint sets, A and B, each containing m integers. You like all the integers in set A and dislike all the integers in set B. Your initial happiness is 0. For each i integer in the array, if i (in A , you add 1 to your happiness. If i (in B, you add -1 to your happiness. Otherwise, your happiness does not change. Output your final happiness at the end."
      ],
      "metadata": {
        "id": "EMO9f_-tbfie"
      }
    },
    {
      "cell_type": "code",
      "source": [
        "n = int(input(\"Enter len of array : \"))\n",
        "m = int(input(\"Enter a size of sets : \"))\n",
        "\n",
        "def happiness(n , m):\n",
        "  arr = []\n",
        "  print(\"Enter ele of an array : \")\n",
        "  for i in range(n):\n",
        "    ele = int(input())\n",
        "    arr.append(ele)\n",
        "  count = 0\n",
        "  print(\"Enter ele of set A means enter those ele which you like \")\n",
        "  A = []\n",
        "  for i in range(m):\n",
        "    ele = int(input())\n",
        "    A.append(ele)\n",
        "  A = set(A)\n",
        "\n",
        "  print(\"Enter ele of set B means enter those ele which you dont like \")\n",
        "  B = []\n",
        "  for i in range(m):\n",
        "    ele = int(input())\n",
        "    B.append(ele)\n",
        "  B = set(B)\n",
        "  k = A.intersection(B)\n",
        "  if len(k) >0:\n",
        "    print(\"A intersection B should phi \")\n",
        "  else:\n",
        "    for i in range(n):\n",
        "      if arr[i] in A:\n",
        "        count+=1\n",
        "      elif arr[i] in B:\n",
        "        count-=1\n",
        "      else :\n",
        "        count = count\n",
        "    return count\n",
        "print(\"happiness = \",happiness(n,m))\n"
      ],
      "metadata": {
        "id": "RDaQ0Deecnxb",
        "colab": {
          "base_uri": "https://localhost:8080/"
        },
        "outputId": "0cbc2220-1e00-4a2f-e968-b7b92c118ef8"
      },
      "execution_count": null,
      "outputs": [
        {
          "output_type": "stream",
          "name": "stdout",
          "text": [
            "Enter len of array : 5\n",
            "Enter a size of sets : 4\n",
            "Enter ele of an array : \n",
            "1\n",
            "2\n",
            "6\n",
            "7\n",
            "4\n",
            "Enter ele of set A means enter those ele which you like \n",
            "3\n",
            "9\n",
            "4\n",
            "5\n",
            "Enter ele of set B means enter those ele which you dont like \n",
            "1\n",
            "2\n",
            "0\n",
            "7\n",
            "happiness =  -2\n"
          ]
        }
      ]
    },
    {
      "cell_type": "markdown",
      "source": [
        "3 )  \n",
        "Students of DAIICT have subscriptions to English and Hindi magazines. Some students\n",
        "have subscribed to English only, some have subscribed to Hindi only, and some have\n",
        "subscribed to both magazines. You are given two sets of student roll numbers. One set has\n",
        "subscribed to the English magazines, and one set has subscribed to the Hindi magazines.\n",
        "Your task is to find the total number of students who have subscribed to either the English or\n",
        "the Hindi magazines but not both.\n"
      ],
      "metadata": {
        "id": "7xTqAeYybg8e"
      }
    },
    {
      "cell_type": "code",
      "source": [
        "set_E = {1,2,3,4,5}\n",
        "set_H = {3,2,7,9}\n",
        "def hindi_or_english(set_E,set_H):\n",
        "  result = set_E.symmetric_difference(set_H)\n",
        "  return result\n",
        "hindi_or_english(set_E, set_H)"
      ],
      "metadata": {
        "colab": {
          "base_uri": "https://localhost:8080/"
        },
        "id": "zpPMPRdjbop8",
        "outputId": "b3adb1b0-e704-484d-8bc2-67e9049e2d2e"
      },
      "execution_count": null,
      "outputs": [
        {
          "output_type": "execute_result",
          "data": {
            "text/plain": [
              "{1, 4, 5, 7, 9}"
            ]
          },
          "metadata": {},
          "execution_count": 20
        }
      ]
    },
    {
      "cell_type": "markdown",
      "source": [
        "4. \n",
        "\n",
        "Given n tuples of n people details, formatted as (name, phone number). Now, it is assumed\n",
        "that each family is having only one phone number. Now identify the number of families with\n",
        "family size >4, 4, 3, 2, 1. Here, consider n>20."
      ],
      "metadata": {
        "id": "fST0JJSVdKZJ"
      }
    },
    {
      "cell_type": "code",
      "source": [
        "Details = [('Iron Man',1), ('Thor',2), ('Wasp',3), ('Ant-Man',1), ('Hulk',2), \n",
        "           ('Captain America',3), ('Hawkeye',4), ('Quicksilver',3), ('Scarlet Witch',1), ('Hercules', 5), ('Black Panther',4),  \n",
        "           ('Vision',8), ('Black Knight',8), ('Black Window',7), ('Swordsman',9), ('Mantis',7), ('Beast',8), \n",
        "           ('Moondragon',10), ('Hellcat',10), ('Wonder Man',6), ('Two_Gun Kid',7), ('She Hulk',1), \n",
        "           ('Starfox',8), ('King Namor',4), ('War matchine',9), ('Thing',5), ('U.S.Agent',8),  \n",
        "           ('Invisible Woman',9), ('Quasar',9), ('Sersi',5), ('Stingray',7), ('Rage',7)] \n",
        "s = set() \n",
        "for i in Details: \n",
        "  s.add(i[1]) \n",
        "print(s) \n",
        "d = {} \n",
        "for i  in s: \n",
        "  d[i] = [] \n",
        "for i in Details: \n",
        "  d[i[1]].append(i[0]) \n",
        "print(d) \n",
        "c1 = c2 = c3 = c4 = c5 = 0 \n",
        "for i in d: \n",
        "  length = len(d[i]) \n",
        "  if length == 1: \n",
        "    c1 += 1 \n",
        "  elif length == 2: \n",
        "    c2 += 1 \n",
        "  elif length == 3: \n",
        "    c3 += 1 \n",
        "  elif length == 4: \n",
        "    c4 += 1 \n",
        "  else: \n",
        "    c5 += 1 \n",
        "print(\"\\nNumber of families having 1 member are: \",c1) \n",
        "print(\"\\nNumber of families having 2 member are: \",c2) \n",
        "print(\"\\nNumber of families having 3 member are: \",c3) \n",
        "print(\"\\nNumber of families having 4 member are: \",c4) \n",
        "print(\"\\nNumber of families having >4 member are: \",c5) \n"
      ],
      "metadata": {
        "id": "MQMmGhjSfwU0",
        "colab": {
          "base_uri": "https://localhost:8080/"
        },
        "outputId": "bb87f800-54aa-41c6-c181-d8895533ba3b"
      },
      "execution_count": null,
      "outputs": [
        {
          "output_type": "stream",
          "name": "stdout",
          "text": [
            "{1, 2, 3, 4, 5, 6, 7, 8, 9, 10}\n",
            "{1: ['Iron Man', 'Ant-Man', 'Scarlet Witch', 'She Hulk'], 2: ['Thor', 'Hulk'], 3: ['Wasp', 'Captain America', 'Quicksilver'], 4: ['Hawkeye', 'Black Panther', 'King Namor'], 5: ['Hercules', 'Thing', 'Sersi'], 6: ['Wonder Man'], 7: ['Black Window', 'Mantis', 'Two_Gun Kid', 'Stingray', 'Rage'], 8: ['Vision', 'Black Knight', 'Beast', 'Starfox', 'U.S.Agent'], 9: ['Swordsman', 'War matchine', 'Invisible Woman', 'Quasar'], 10: ['Moondragon', 'Hellcat']}\n",
            "\n",
            "Number of families having 1 member are:  1\n",
            "\n",
            "Number of families having 2 member are:  2\n",
            "\n",
            "Number of families having 3 member are:  3\n",
            "\n",
            "Number of families having 4 member are:  2\n",
            "\n",
            "Number of families having >4 member are:  2\n"
          ]
        }
      ]
    },
    {
      "cell_type": "markdown",
      "source": [
        "5\n",
        "\n",
        "Write a function histogram() to build a histogram that takes a string and builds a frequency\n",
        "listing of the characters contained in it."
      ],
      "metadata": {
        "id": "wfZExKHKpV3D"
      }
    },
    {
      "cell_type": "code",
      "source": [
        "def Histo(S): \n",
        "    D =dict() \n",
        "    for C in S: \n",
        "        if C not in D: \n",
        "            D[C] = 1 \n",
        "        else: \n",
        "            D[C] =D[C]+1 \n",
        "    return D \n",
        "H=Histo(\"success\") \n",
        "print(H)"
      ],
      "metadata": {
        "colab": {
          "base_uri": "https://localhost:8080/"
        },
        "id": "pHJ33VQfgvql",
        "outputId": "7293e7a2-4cb9-4b3c-d778-b284b3277b24"
      },
      "execution_count": null,
      "outputs": [
        {
          "output_type": "stream",
          "name": "stdout",
          "text": [
            "{'s': 3, 'u': 1, 'c': 2, 'e': 1}\n"
          ]
        }
      ]
    },
    {
      "cell_type": "markdown",
      "source": [
        "6.\n",
        "\n",
        "Consider character list i.e. the list that contains only characters. Now this list can have same\n",
        "character multiple times and also contains small-cased and upper-cased alphabets. Identify\n",
        "the missing characters (if any) in this character list, so that, inclusion of those missing\n",
        "characters, will complete all the upper-cased alphabets in that given list. Note: This needs\n",
        "to be done without looping"
      ],
      "metadata": {
        "id": "8CtQ1Y4n5-VE"
      }
    },
    {
      "cell_type": "code",
      "source": [
        "import string\n",
        "Upper = set(string.ascii_uppercase)\n",
        "Lower = set(string.ascii_lowercase)\n",
        "\n",
        "A = str(input(\"Enter Characrers in from of string: \"))\n",
        "A = set(A)\n",
        "print(\"Characters missing in uppercase Alphabates are:\\n \",set(Upper).difference(set(A)))\n",
        "print(\"Characters missing in lowercase Alphabates are:\\n \",set(Lower).difference(set(A)))"
      ],
      "metadata": {
        "id": "VmXVq-IB7yVV",
        "colab": {
          "base_uri": "https://localhost:8080/"
        },
        "outputId": "de105c68-aa7c-4cf8-f5e8-eb62bd76bfcf"
      },
      "execution_count": null,
      "outputs": [
        {
          "output_type": "stream",
          "name": "stdout",
          "text": [
            "Enter Characrers in from of string: ryegSDFkihjkFE\n",
            "Characters missing in uppercase Alphabates are:\n",
            "  {'M', 'Q', 'W', 'K', 'B', 'P', 'I', 'Z', 'C', 'J', 'A', 'N', 'G', 'U', 'H', 'X', 'L', 'O', 'R', 'T', 'V', 'Y'}\n",
            "Characters missing in lowercase Alphabates are:\n",
            "  {'p', 'x', 'b', 'l', 'a', 'q', 't', 'n', 'd', 'm', 'f', 'z', 'v', 'o', 'w', 'u', 's', 'c'}\n"
          ]
        }
      ]
    },
    {
      "cell_type": "markdown",
      "source": [
        "7\n",
        "\n",
        "Remove all the duplicate words in a given sentence."
      ],
      "metadata": {
        "id": "GTqIvdgvfxCc"
      }
    },
    {
      "cell_type": "code",
      "source": [
        "def remove_duplicate():\n",
        "  sent = input(\"Enter a sentence : \")\n",
        "  sent_list = sent.split(\" \")\n",
        "  ans =\"\"\n",
        "  for ele in sent_list:\n",
        "    if ele not in ans :\n",
        "      ans = ans+\" \" +ele\n",
        "  return ans\n",
        "\n",
        "\n",
        "print(remove_duplicate())"
      ],
      "metadata": {
        "colab": {
          "base_uri": "https://localhost:8080/"
        },
        "id": "ZZFYtVUBdP5-",
        "outputId": "2e5af9bf-0344-4758-fc96-0f0e20e8542e"
      },
      "execution_count": null,
      "outputs": [
        {
          "output_type": "stream",
          "name": "stdout",
          "text": [
            "Enter a sentence : Python is snack and Python language is laun\n",
            " Python is snack and language laun\n"
          ]
        }
      ]
    },
    {
      "cell_type": "markdown",
      "source": [
        "8. \n",
        "Give a dictionary with value lists, sort the keys by summation of values in value list."
      ],
      "metadata": {
        "id": "r6NELwbR_RHj"
      }
    },
    {
      "cell_type": "code",
      "source": [
        "dict_1 = {'arr1': [1,4,3] ,'arr2': [1,6,3]}\n",
        "count = list(dict_1.items())\n",
        "\n",
        "for i in range(len(dict_1)):\n",
        "  for j in range(len(dict_1)):\n",
        "    if sum(count[i][1]) < sum(count[j][1]):\n",
        "      count[i], count[j] = count[j], count[i]\n",
        "\n",
        "count = dict(count)\n",
        "\n",
        "for i in count:\n",
        "  count[i] = sum(count[i])\n",
        "print(count)"
      ],
      "metadata": {
        "colab": {
          "base_uri": "https://localhost:8080/"
        },
        "id": "ziM66Ef1kzUO",
        "outputId": "18371ce6-f4c7-426f-aa4e-970bc5bae5a3"
      },
      "execution_count": null,
      "outputs": [
        {
          "output_type": "stream",
          "name": "stdout",
          "text": [
            "{'arr1': 8, 'arr2': 10}\n"
          ]
        }
      ]
    },
    {
      "cell_type": "markdown",
      "source": [
        "9\n",
        "\n",
        "Prepare a list-dictionary i.e. a dictionary with its values given as a list. Now, extract the\n",
        "unique elements from the dictionary values."
      ],
      "metadata": {
        "id": "AROt_Jw2KFgu"
      }
    },
    {
      "cell_type": "code",
      "source": [
        "dict_1 = {'name' : ['Ironman', 'Hulk', 'Thor', 'Spiderman', 'CaptainAmerica', 'Black Panther'], \n",
        "          'marks' : [46, 87, 80, 64, 78, 50], 'age' : [20, 23, 20, 22, 20, 21]}\n",
        "\n",
        "for i in dict_1:\n",
        "  print(\"Key is\",i,\": unique Values are: \",set(dict_1[i]))"
      ],
      "metadata": {
        "id": "JiYhQyPG_ynA",
        "colab": {
          "base_uri": "https://localhost:8080/"
        },
        "outputId": "54a78d52-b59a-4cf1-fc57-edcc8e44fca2"
      },
      "execution_count": null,
      "outputs": [
        {
          "output_type": "stream",
          "name": "stdout",
          "text": [
            "Key is name : unique Values are:  {'Black Panther', 'Thor', 'CaptainAmerica', 'Hulk', 'Spiderman', 'Ironman'}\n",
            "Key is marks : unique Values are:  {64, 78, 46, 80, 50, 87}\n",
            "Key is age : unique Values are:  {20, 21, 22, 23}\n"
          ]
        }
      ]
    },
    {
      "cell_type": "markdown",
      "source": [
        "10)\n",
        "Ask the user to enter n entries. Now start grouping the entered numbers based on its sum of\n",
        "the digits. Now find the group which is having the highest number of entries in it."
      ],
      "metadata": {
        "id": "AtDSGtIZK5sL"
      }
    },
    {
      "cell_type": "code",
      "source": [
        "A = []\n",
        "print(\"Press Enter to add new number.\\nWrite 'Done' to finish\")\n",
        "while 1:\n",
        "  x = input(\"Enter your number: \")\n",
        "  if x.isdigit():\n",
        "    A.append(int(x))\n",
        "  elif x == 'Done':\n",
        "    break\n",
        "  else:\n",
        "    print(\"Enter Valid number: \")\n",
        "    continue\n",
        "A\n",
        "dict2 = {}\n",
        "for i in A:\n",
        "  j = i\n",
        "  sum = 0\n",
        "  if j//10 == 0:\n",
        "      sum = j\n",
        "      if sum in dict2:\n",
        "          dict2[sum].append(i)\n",
        "      else:\n",
        "          dict2[sum] = []\n",
        "          dict2[sum].append(i)\n",
        "  else:\n",
        "    while j != 0:\n",
        "        sum +=j%10\n",
        "        j = j//10\n",
        "    if sum in dict2:\n",
        "        dict2[sum].append(i)\n",
        "    else:\n",
        "        dict2[sum] = []\n",
        "        dict2[sum].append(i)\n",
        "print(dict2)\n",
        "count = 0\n",
        "k =[]\n",
        "for i in dict2:\n",
        "    if len(dict2[i]) >= count:\n",
        "        count = len(dict2[i])\n",
        "for i in dict2:\n",
        "    if len(dict2[i]) == count:\n",
        "        k.append(i)\n",
        "print(\"the key\",k,\"has the largest number of entries which are:\",count)"
      ],
      "metadata": {
        "id": "qpPVuIu9K6dt",
        "colab": {
          "base_uri": "https://localhost:8080/"
        },
        "outputId": "f2bae310-f0df-4c9a-da8b-4b900d86c0c9"
      },
      "execution_count": null,
      "outputs": [
        {
          "output_type": "stream",
          "name": "stdout",
          "text": [
            "Press Enter to add new number.\n",
            "Write 'Done' to finish\n",
            "Enter your number: 5\n",
            "Enter your number: 44\n",
            "Enter your number: 77\n",
            "Enter your number: 4\n",
            "Enter your number: 6\n",
            "Enter your number: 5\n",
            "Enter your number: 8\n",
            "Enter your number: 71\n",
            "Enter your number: 23\n",
            "Enter your number: 54\n",
            "Enter your number: 21\n",
            "Enter your number: 14\n",
            "Enter your number: Done\n",
            "{5: [5, 5, 23, 14], 8: [44, 8, 71], 14: [77], 4: [4], 6: [6], 9: [54], 3: [21]}\n",
            "the key [5] has the largest number of entries which are: 4\n"
          ]
        }
      ]
    }
  ]
}