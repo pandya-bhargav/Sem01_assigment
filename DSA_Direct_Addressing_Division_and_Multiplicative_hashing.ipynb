{
  "nbformat": 4,
  "nbformat_minor": 0,
  "metadata": {
    "colab": {
      "provenance": []
    },
    "kernelspec": {
      "name": "python3",
      "display_name": "Python 3"
    },
    "language_info": {
      "name": "python"
    }
  },
  "cells": [
    {
      "cell_type": "markdown",
      "source": [
        "Implement the dictionary functions using direct addressing, division and\n",
        "multiplicative hashing."
      ],
      "metadata": {
        "id": "L-p-WoLaDuwc"
      }
    },
    {
      "cell_type": "code",
      "execution_count": null,
      "metadata": {
        "id": "VeUZyRryDn2p"
      },
      "outputs": [],
      "source": [
        "class DirectAddressing:\n",
        "\n",
        "    def __init__(self,arr):\n",
        "        self.arr = arr\n",
        "\n",
        "    def traverse(self):\n",
        "        print(\"\\n\")\n",
        "        for i in self.arr:\n",
        "            print(i, end=' ')\n",
        "\n",
        "    def search(self,k):\n",
        "        print (self.arr[k])\n",
        "\n",
        "    def insert(self,x):\n",
        "        self.arr[x] = x\n",
        "\n",
        "    def delete(self,x):\n",
        "        self.arr[x] = None"
      ]
    },
    {
      "cell_type": "code",
      "source": [
        "l = [20, 15, 11, 64, 1, 15, 12, 6, 3,23,]\n",
        "\n",
        "arr=[]\n",
        "for i in range(max(l)+1):\n",
        "    arr.append(None)\n",
        "\n",
        "\n",
        "DA = DirectAddressing(arr)\n",
        "\n",
        "DA.traverse()\n",
        "for i in l:\n",
        "    DA.insert(i)\n",
        "DA.traverse()\n",
        "print('\\n\\nsearch result: ')\n",
        "DA.search(15)\n",
        "DA.delete(12)\n",
        "DA.traverse()"
      ],
      "metadata": {
        "colab": {
          "base_uri": "https://localhost:8080/"
        },
        "id": "FaOD9uorDyj3",
        "outputId": "983d88e4-2d1a-4516-a8da-e1df40a55232"
      },
      "execution_count": null,
      "outputs": [
        {
          "output_type": "stream",
          "name": "stdout",
          "text": [
            "\n",
            "\n",
            "None None None None None None None None None None None None None None None None None None None None None None None None None None None None None None None None None None None None None None None None None None None None None None None None None None None None None None None None None None None None None None None None None \n",
            "\n",
            "None 1 None 3 None None 6 None None None None 11 12 None None 15 None None None None 20 None None 23 None None None None None None None None None None None None None None None None None None None None None None None None None None None None None None None None None None None None None None None None 64 \n",
            "\n",
            "search result: \n",
            "15\n",
            "\n",
            "\n",
            "None 1 None 3 None None 6 None None None None 11 None None None 15 None None None None 20 None None 23 None None None None None None None None None None None None None None None None None None None None None None None None None None None None None None None None None None None None None None None None 64 "
          ]
        }
      ]
    },
    {
      "cell_type": "code",
      "source": [
        "class Division_hashing:\n",
        "\n",
        "    def __init__(self,arr):\n",
        "        self.arr = arr\n",
        "\n",
        "    def h(self,k):\n",
        "        return k % len(self.arr)\n",
        "\n",
        "    def traverse(self):\n",
        "        print(\"\\n\")\n",
        "        for i in self.arr:\n",
        "            print(i, end=' ')\n",
        "\n",
        "    def search(self,x):\n",
        "        print (self.h(x))\n",
        "\n",
        "    def insert(self,x):\n",
        "        self.arr[self.h(x)] = x\n",
        "\n",
        "    def delete(self,x):\n",
        "        self.arr[self.h(x)] = None\n"
      ],
      "metadata": {
        "id": "6fIJxfvSD0d_"
      },
      "execution_count": null,
      "outputs": []
    },
    {
      "cell_type": "code",
      "source": [
        "l = [103,125,567,865,23,54,87,906,124]\n",
        "\n",
        "arr=[]\n",
        "for i in range(len(l)):\n",
        "    arr.append(None)\n",
        "\n",
        "DivH = Division_hashing(arr)\n",
        "\n",
        "DivH.traverse()\n",
        "for i in l:\n",
        "    DivH.insert(i)\n",
        "DivH.traverse()\n",
        "print('\\n\\nsearch result: ')\n",
        "DivH.search(865)\n",
        "DivH.delete(87)\n",
        "DivH.traverse()"
      ],
      "metadata": {
        "colab": {
          "base_uri": "https://localhost:8080/"
        },
        "id": "jBvqmeZQD3AE",
        "outputId": "0fb93143-16bd-49eb-85b7-bb33ce02da89"
      },
      "execution_count": null,
      "outputs": [
        {
          "output_type": "stream",
          "name": "stdout",
          "text": [
            "\n",
            "\n",
            "None None None None None None None None None \n",
            "\n",
            "54 865 None None 103 23 906 124 125 \n",
            "\n",
            "search result: \n",
            "1\n",
            "\n",
            "\n",
            "54 865 None None 103 23 None 124 125 "
          ]
        }
      ]
    },
    {
      "cell_type": "code",
      "source": [
        "class Multiplicative_hashing:\n",
        "\n",
        "    def __init__(self,arr):\n",
        "        self.arr = arr\n",
        "\n",
        "    def h(self,x):\n",
        "        return int((len(self.arr)*((x * 0.618033)%1))-((len(self.arr)*((x * 0.618033)%1))%1))\n",
        "\n",
        "    def traverse(self):\n",
        "        print(\"\\n\")\n",
        "        for i in self.arr:\n",
        "            print(i, end=' ')\n",
        "\n",
        "    def search(self,x):\n",
        "        print (self.h(x))\n",
        "\n",
        "    def insert(self,x):\n",
        "        self.arr[self.h(x)] = x\n",
        "\n",
        "    def delete(self,x):\n",
        "        self.arr[self.h(x)] = None"
      ],
      "metadata": {
        "id": "hjr7Rtz_D5Lg"
      },
      "execution_count": null,
      "outputs": []
    },
    {
      "cell_type": "code",
      "source": [
        "l = [117,156,864,3454,6543,6433,24]\n",
        "\n",
        "arr=[]\n",
        "for i in range(len(l)):\n",
        "    arr.append(None)\n",
        "\n",
        "MulH = Multiplicative_hashing(arr)\n",
        "\n",
        "MulH.traverse()\n",
        "for i in l:\n",
        "    MulH.insert(i)\n",
        "MulH.traverse()\n",
        "print('\\n\\nsearch result: ')\n",
        "MulH.search(24)\n",
        "MulH.delete(3454)\n",
        "MulH.traverse()"
      ],
      "metadata": {
        "colab": {
          "base_uri": "https://localhost:8080/"
        },
        "id": "w-nXvrKlD6_P",
        "outputId": "f66f4861-c2e9-4e9e-dcbb-7d4597f3ba4a"
      },
      "execution_count": null,
      "outputs": [
        {
          "output_type": "stream",
          "name": "stdout",
          "text": [
            "\n",
            "\n",
            "None None None None None None None \n",
            "\n",
            "None None 156 None 3454 24 864 \n",
            "\n",
            "search result: \n",
            "5\n",
            "\n",
            "\n",
            "None None 156 None None 24 864 "
          ]
        }
      ]
    },
    {
      "cell_type": "code",
      "source": [],
      "metadata": {
        "id": "LmeBOgo6D8xm"
      },
      "execution_count": null,
      "outputs": []
    }
  ]
}