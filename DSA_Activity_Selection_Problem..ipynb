{
  "nbformat": 4,
  "nbformat_minor": 0,
  "metadata": {
    "colab": {
      "provenance": []
    },
    "kernelspec": {
      "name": "python3",
      "display_name": "Python 3"
    },
    "language_info": {
      "name": "python"
    }
  },
  "cells": [
    {
      "cell_type": "markdown",
      "source": [
        "Assignment 02                                          \n",
        "Name : Bhargav R Pandya                            \n",
        "student id : 202218055\n"
      ],
      "metadata": {
        "id": "FWdQGFR_n5O8"
      }
    },
    {
      "cell_type": "markdown",
      "source": [
        "Write a program for the activity selection problem. Given a set J of n\n",
        "jobs {j1, j2, . . . , jn} where each job ji has start time si and finish time fi\n",
        ".\n",
        "\n",
        "Find a maximum-sized set J\n",
        "\n",
        "0 ⊆ J of mutually non-overlapping jobs."
      ],
      "metadata": {
        "id": "ibqIK1yJnpDA"
      }
    },
    {
      "cell_type": "code",
      "source": [
        "def short_job(start, finish):\n",
        "  job = []\n",
        "  last_job = -1;\n",
        "  for i in range (len(start)):\n",
        "    if last_job < start[i]:\n",
        "      job.append(i)\n",
        "      last_job = finish[i]\n",
        "\n",
        "  print(job)\n",
        "\n",
        "s = [0, 1, 1, 2, 6, 8]\n",
        "f = [3, 2, 3, 4, 7, 9]\n",
        "for j in range (len(f)):\n",
        "  for i in range (len(f)-1):\n",
        "    if f[i] > f[i+1]:\n",
        "      f[i], f[i+1] = f[i+1], f[i]\n",
        "      s[i], s[i+1] = s[i+1], s[i]\n",
        "short_job(s,f)"
      ],
      "metadata": {
        "colab": {
          "base_uri": "https://localhost:8080/"
        },
        "id": "H30QJxiAn3wJ",
        "outputId": "129f378a-9f12-44ac-f9ea-ba147550f411"
      },
      "execution_count": null,
      "outputs": [
        {
          "output_type": "stream",
          "name": "stdout",
          "text": [
            "[0, 4, 5]\n"
          ]
        }
      ]
    }
  ]
}