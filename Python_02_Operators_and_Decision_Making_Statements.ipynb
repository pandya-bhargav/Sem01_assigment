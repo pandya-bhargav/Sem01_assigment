{
  "nbformat": 4,
  "nbformat_minor": 0,
  "metadata": {
    "colab": {
      "provenance": []
    },
    "kernelspec": {
      "name": "python3",
      "display_name": "Python 3"
    },
    "language_info": {
      "name": "python"
    }
  },
  "cells": [
    {
      "cell_type": "markdown",
      "source": [
        "Lab 02  Assignment             \n",
        "Name        :   Bhargav R Pandya   \n",
        "student id  :   202218055       \n",
        "subject code :  IT 606\n"
      ],
      "metadata": {
        "id": "OAB2qul5Mthq"
      }
    },
    {
      "cell_type": "markdown",
      "source": [
        "1. Enter value and check it is less, equal or greater than zero. "
      ],
      "metadata": {
        "id": "ccXHsVbuNbOW"
      }
    },
    {
      "cell_type": "code",
      "source": [
        "# to check wherther num is equal to zero , greater to zero or less to zero\n",
        "\n",
        "a = float(input(\"Enter any number that you want to check  : \"))\n",
        "if a == 0 :                                   # if a is zero\n",
        "  print(\"Number is equal to zero \")  \n",
        "\n",
        "if a < 0 :                                    # if a is less than zero\n",
        "  print(\"Number is less than zero\")\n",
        "  \n",
        "if a > 0:                                     # if a is grater than zero\n",
        "  print(\"Number is greater than zero\")\n"
      ],
      "metadata": {
        "colab": {
          "base_uri": "https://localhost:8080/"
        },
        "id": "iXQQDGURMtJX",
        "outputId": "835d80c1-7f8e-4d92-8ffe-3434b9a46dd6"
      },
      "execution_count": null,
      "outputs": [
        {
          "output_type": "stream",
          "name": "stdout",
          "text": [
            "Enter any number that you want to check  : 4\n",
            "Number is greater than zero\n"
          ]
        }
      ]
    },
    {
      "cell_type": "markdown",
      "source": [
        "2. Input 2 number and print the maximum among them. "
      ],
      "metadata": {
        "id": "0uIzwlBINc_9"
      }
    },
    {
      "cell_type": "code",
      "source": [
        "#using elif\n",
        "a = float(input(\"Enter a =   : \"))\n",
        "b = float(input(\"Enter b =   : \"))\n",
        "\n",
        "if a==b:\n",
        "  print(\"a and b are equal.\")\n",
        "elif a < b :\n",
        "   print(\"Maximum of {} and {} is {}\".format(a,b,b))\n",
        "else:\n",
        "   print(\"Maximum of {} and {} is {}\".format(a,b,a))"
      ],
      "metadata": {
        "colab": {
          "base_uri": "https://localhost:8080/"
        },
        "id": "DxgjMKkIMBM1",
        "outputId": "b0901196-eeea-4fbe-9fba-650713b0833d"
      },
      "execution_count": null,
      "outputs": [
        {
          "output_type": "stream",
          "name": "stdout",
          "text": [
            "Enter a =   : 5\n",
            "Enter b =   : 7\n",
            "Maximum of 5.0 and 7.0 is 7.0\n"
          ]
        }
      ]
    },
    {
      "cell_type": "markdown",
      "source": [
        "3. Input 2 number and print the maximum among them. (with conditional operator) "
      ],
      "metadata": {
        "id": "bix3N6uXNltj"
      }
    },
    {
      "cell_type": "code",
      "source": [
        "num1 = float(input(\"Enter num1 =   : \"))\n",
        "num2 = float(input(\"Enter num2 =   : \"))\n",
        "\n",
        "# [on_true] if [expression] else [on_false] \n",
        "\n",
        "max = num1 if num1 > num2 else num2\n",
        "\n",
        "print(\"Minimum of {} and {} is {}\".format(num1,num2,max))"
      ],
      "metadata": {
        "id": "NalYbE4BNkxU",
        "colab": {
          "base_uri": "https://localhost:8080/"
        },
        "outputId": "44086b7f-dd4e-47aa-ce5e-a526ea233c0f"
      },
      "execution_count": null,
      "outputs": [
        {
          "output_type": "stream",
          "name": "stdout",
          "text": [
            "Enter num1 =   : -8\n",
            "Enter num2 =   : 90\n",
            "Minimum of -8.0 and 90.0 is 90.0\n"
          ]
        }
      ]
    },
    {
      "cell_type": "markdown",
      "source": [
        "4. Input 2 number and print the minimum among them. \n"
      ],
      "metadata": {
        "id": "3OiWoS4cNtIV"
      }
    },
    {
      "cell_type": "code",
      "source": [
        "# min num using if else condi\n",
        "\n",
        "num1 = float(input(\"Enter num1 =   : \"))\n",
        "num2 = float(input(\"Enter num2 =   : \"))\n",
        "\n",
        "\n",
        "if num1 == num2:                            # case 1 : num1=num2\n",
        "  print(\"num1 and num2 are equal\")\n",
        "  \n",
        "else :\n",
        "  if num1 < num2 :                   # case 2 : num2 is greater than num1\n",
        "    print(\"Minimum of {} and {} is {}\".format(num1,num2,num1))\n",
        "  else :                            # case 3 : num1 is greater than num2\n",
        "    print(\"Minimum of {} and {} is {}\".format(num1,num2,num2 ))\n"
      ],
      "metadata": {
        "colab": {
          "base_uri": "https://localhost:8080/"
        },
        "id": "b7vZ03PHMH3D",
        "outputId": "1e6beb1d-b5e9-4707-dc7e-3d36879179e6"
      },
      "execution_count": null,
      "outputs": [
        {
          "output_type": "stream",
          "name": "stdout",
          "text": [
            "Enter num1 =   : 5\n",
            "Enter num2 =   : -9\n",
            "Minimum of 5.0 and -9.0 is -9.0\n"
          ]
        }
      ]
    },
    {
      "cell_type": "markdown",
      "source": [
        "5. Input 2 number and print the minimum among them. (with conditional operator) \n"
      ],
      "metadata": {
        "id": "TkzKnJHqNvh2"
      }
    },
    {
      "cell_type": "code",
      "source": [
        "#minimum of 2 num using conditional \n",
        "num1 = float(input(\"Enter num1 =   : \"))\n",
        "num2 = float(input(\"Enter num2 =   : \"))\n",
        "\n",
        "# [on_true] if [expression] else [on_false] \n",
        "min = num1 if num1 < num2 else num2\n",
        "print(\"Minimum of {} and {} is {}\".format(num1,num2,min))"
      ],
      "metadata": {
        "id": "uAXTIWr2Nx7-",
        "colab": {
          "base_uri": "https://localhost:8080/"
        },
        "outputId": "1f3dbb50-830d-4af8-aed7-a51bb81fc1c2"
      },
      "execution_count": null,
      "outputs": [
        {
          "output_type": "stream",
          "name": "stdout",
          "text": [
            "Enter num1 =   : 6\n",
            "Enter num2 =   : 80\n",
            "Minimum of 6.0 and 80.0 is 6.0\n"
          ]
        }
      ]
    },
    {
      "cell_type": "markdown",
      "source": [
        "6. Input 3 number and print the maximum among them. "
      ],
      "metadata": {
        "id": "HnxRG_N5NyWn"
      }
    },
    {
      "cell_type": "code",
      "source": [
        "# max of 3 num\n",
        "p = float(input(\"Enter p =   : \"))\n",
        "q = float(input(\"Enter q =   : \"))\n",
        "r = float(input(\"Enter r =   : \"))\n",
        "\n",
        "if p < q :\n",
        "\n",
        "  if q < r :                                     # p < q < r\n",
        "    print(\"Max({},{},{}) = {}\".format(p,q,r,r))\n",
        "\n",
        "  else :                                         # p < q > r\n",
        "    print(\"Max({},{},{}) = {}\".format(p,q,r,q))\n",
        "\n",
        "else:                                            # p > q \n",
        "  if p < r :                                     # r > p > q \n",
        "    print(\"Max({},{},{}) = {}\".format(p,q,r,r))\n",
        "  \n",
        "  else :                                         # r < p > q \n",
        "    print(\"Max({},{},{}) = {}\".format(p,q,r,p))\n",
        "    "
      ],
      "metadata": {
        "id": "XyHWakA9NzNs",
        "colab": {
          "base_uri": "https://localhost:8080/"
        },
        "outputId": "89ea098a-6eca-46f1-d0cc-5a80ad01d7b2"
      },
      "execution_count": null,
      "outputs": [
        {
          "output_type": "stream",
          "name": "stdout",
          "text": [
            "Enter p =   : 5\n",
            "Enter q =   : -8\n",
            "Enter r =   : 0\n",
            "Max(5.0,-8.0,0.0) = 5.0\n"
          ]
        }
      ]
    },
    {
      "cell_type": "markdown",
      "source": [
        "7. Input 3 number and print the maximum among them. (with conditional operator) \n"
      ],
      "metadata": {
        "id": "le5ZlOhLN2dh"
      }
    },
    {
      "cell_type": "code",
      "source": [
        "# max number using conditional operator \n",
        "\n",
        "p = float(input(\"Enter p =   : \"))\n",
        "q = float(input(\"Enter q =   : \"))\n",
        "r = float(input(\"Enter r =   : \"))\n",
        "\n",
        "\n",
        "max = p if p > q and p > r else q if p < q and r  < q else r\n",
        "print(\"Max({},{},{}) = {}\".format(p,q,r,max))"
      ],
      "metadata": {
        "id": "dLdnahizN-Pg",
        "colab": {
          "base_uri": "https://localhost:8080/"
        },
        "outputId": "f98e27ac-c369-46c6-cd6f-51be3a989526"
      },
      "execution_count": null,
      "outputs": [
        {
          "output_type": "stream",
          "name": "stdout",
          "text": [
            "Enter p =   : 6\n",
            "Enter q =   : 4\n",
            "Enter r =   : -6\n",
            "Max(6.0,4.0,-6.0) = 6.0\n"
          ]
        }
      ]
    },
    {
      "cell_type": "markdown",
      "source": [
        "8. Write a program that find minimum and maximum out of 3 values. \n"
      ],
      "metadata": {
        "id": "BYfww42MN9HC"
      }
    },
    {
      "cell_type": "code",
      "source": [
        "p = float(input(\"Enter p =   : \"))\n",
        "q = float(input(\"Enter q =   : \"))\n",
        "r = float(input(\"Enter r =   : \"))\n",
        "\n",
        "max = p if p > q and p > r else q if p < q and r  < q else r\n",
        "min = p if p < q and p < r else q if p > q and r  > q else r\n",
        "print(\"Max({},{},{}) = {}\".format(p,q,r,max))\n",
        "print(\"Min({},{},{}) = {}\".format(p,q,r,min))\n",
        "\n"
      ],
      "metadata": {
        "id": "YlMF2GjGOBQn",
        "colab": {
          "base_uri": "https://localhost:8080/"
        },
        "outputId": "a59f0f29-4f12-4c3e-8177-c396e16c3b50"
      },
      "execution_count": null,
      "outputs": [
        {
          "output_type": "stream",
          "name": "stdout",
          "text": [
            "Enter p =   : 6\n",
            "Enter q =   : 1\n",
            "Enter r =   : 10\n",
            "Max(6.0,1.0,10.0) = 10.0\n",
            "Min(6.0,1.0,10.0) = 1.0\n"
          ]
        }
      ]
    },
    {
      "cell_type": "markdown",
      "source": [
        "9. Write a program that interchange or swap the values of 2 variables. \n"
      ],
      "metadata": {
        "id": "Us36Mdp9OBqR"
      }
    },
    {
      "cell_type": "code",
      "source": [
        "#program that interchange or swap the values of 2 variables\n",
        "\n",
        "a = float(input(\"Enter a = \"))\n",
        "b = float(input(\"Enter b = \"))\n",
        "temp = a                             # store value of a in temp\n",
        "a = b                                # store value of b in a\n",
        "b = temp                             # store vlaue of a in b using temp variable\n",
        "print(\"value of a is now {}\".format(a))\n",
        "print(\"value of b is now {}\".format(b))"
      ],
      "metadata": {
        "id": "4XWV4b2dODyr",
        "colab": {
          "base_uri": "https://localhost:8080/"
        },
        "outputId": "2ba4507c-310b-4634-a043-f923c173d4aa"
      },
      "execution_count": null,
      "outputs": [
        {
          "output_type": "stream",
          "name": "stdout",
          "text": [
            "Enter a = 5\n",
            "Enter b = 8\n",
            "value of a is now 8.0\n",
            "value of b is now 5.0\n"
          ]
        }
      ]
    },
    {
      "cell_type": "markdown",
      "source": [
        "10. Write a program to interchange the value of 2 variable without using 3rd variable \n"
      ],
      "metadata": {
        "id": "Sa55LV_COEPN"
      }
    },
    {
      "cell_type": "code",
      "source": [
        "#program of interchange the value of 2 variable without using 3rd variable\n",
        "\n",
        "num1 = eval(input(\"Enter num1 : \"))\n",
        "num2 = eval(input(\"Enter num2 : \"))\n",
        "\n",
        "num1 , num2 = num2 , num1                     # form this we can swap the value without using 3rd variable\n",
        "\n",
        "print(\"After interchange New value of num1 and num2 \")\n",
        "\n",
        "print(\"num1 = {}\".format(num1))\n",
        "print(\"num2 = {}\".format(num2))"
      ],
      "metadata": {
        "colab": {
          "base_uri": "https://localhost:8080/"
        },
        "id": "4tQ3xYssOGcz",
        "outputId": "fc2ea6a5-075d-4300-dacc-a7a03ed839ce"
      },
      "execution_count": null,
      "outputs": [
        {
          "output_type": "stream",
          "name": "stdout",
          "text": [
            "Enter num1 : 5\n",
            "Enter num2 : 0\n",
            "After interchange New value of num1 and num2 \n",
            "num1 = 0\n",
            "num2 = 5\n"
          ]
        }
      ]
    },
    {
      "cell_type": "markdown",
      "source": [
        "11. Write a program to check whether the entered no is odd or even. "
      ],
      "metadata": {
        "id": "E5C81EVZOHIG"
      }
    },
    {
      "cell_type": "code",
      "source": [
        "#program to check whether the entered no is odd or even\n",
        "a = int(input(\"Enter a : \")) \n",
        "if (a==0 or a%2 == 0):\n",
        "  print(\"{} is even number\".format(a))\n",
        "else:\n",
        "  print(\"{} is odd number\".format(a))"
      ],
      "metadata": {
        "colab": {
          "base_uri": "https://localhost:8080/"
        },
        "id": "J8i3nu5QOHrw",
        "outputId": "4e98f384-e7e2-4f10-9fbe-264bde2dd5fc"
      },
      "execution_count": null,
      "outputs": [
        {
          "output_type": "stream",
          "name": "stdout",
          "text": [
            "Enter a : 60\n",
            "60 is even number\n"
          ]
        }
      ]
    },
    {
      "cell_type": "markdown",
      "source": [
        "12. Get a character in lower case form user and display it in upper case. \n"
      ],
      "metadata": {
        "id": "slZUrh4sOJHG"
      }
    },
    {
      "cell_type": "code",
      "source": [
        "st = input(\"Enter string : \")\n",
        "print(st.upper())                           #to change lower case in upper case"
      ],
      "metadata": {
        "id": "fTZQtWfyOITB",
        "colab": {
          "base_uri": "https://localhost:8080/"
        },
        "outputId": "10ad6a51-68aa-4ff8-923a-5c3c98961c64"
      },
      "execution_count": null,
      "outputs": [
        {
          "output_type": "stream",
          "name": "stdout",
          "text": [
            "Enter string : asdAdm\n",
            "ASDADM\n"
          ]
        }
      ]
    },
    {
      "cell_type": "markdown",
      "source": [
        "13. Get a character from user and print tell that is it vowel or consonant. \n"
      ],
      "metadata": {
        "id": "F_o47MxmOQPg"
      }
    },
    {
      "cell_type": "code",
      "source": [
        "char = input(\"Enter that you want to check that its vowel or not : \")\n",
        "if char in ('a','e','i','o','u','A','E','I','O','U'):\n",
        "  print(\"Its vowel !\")\n",
        "else:\n",
        "  print(\"Its consonat\")"
      ],
      "metadata": {
        "id": "hYQu1jiOOPsX",
        "colab": {
          "base_uri": "https://localhost:8080/"
        },
        "outputId": "6824903d-2c9b-48f7-9d84-4eacdfb08464"
      },
      "execution_count": null,
      "outputs": [
        {
          "output_type": "stream",
          "name": "stdout",
          "text": [
            "Enter that you want to check that its vowel or not : k\n",
            "Its consonat\n"
          ]
        }
      ]
    },
    {
      "cell_type": "markdown",
      "source": [
        "14. Print & calculate area of circle, area of triangle & (f+g)*(f+g) & simple interest using user-\n",
        "defined option \n"
      ],
      "metadata": {
        "id": "svq2gkKaOTy0"
      }
    },
    {
      "cell_type": "code",
      "source": [
        "print(\"If you want to area of circle then enter 1\")\n",
        "print(\"If you want to area of triangle then enter 2\")\n",
        "print(\"If you want value of expression then enter 3\")\n",
        "print(\"If you want simple intrest then enter 4\")\n",
        "n = int(input(\"Enter your choice(1-4): \"))\n",
        "\n",
        "if n == 1:\n",
        "  rad = float(input(\"Enter radius of circle: \"))\n",
        "  print(\"Area of circle with radius\", rad, \"is\", 3.14 * (rad ** 2))\n",
        "  \n",
        "elif n == 2:\n",
        "  a = float(input(\"Enter side 1 of triangle: \"))\n",
        "  b = float(input(\"Enter side 2 of triangle: \"))\n",
        "  c = float(input(\"Enter side 3 of triangle: \"))\n",
        "  s = (a + b + c) / 2\n",
        "  area = (s * (s - a) * (s - b) * (s - c))**(0.5)\n",
        "  print(\"Area of triangle: \", area)\n",
        "\n",
        "elif n == 3:\n",
        "  f = float(input(\"Enter value of f: \"))\n",
        "  g = float(input(\"Enter value of g: \"))\n",
        "  exp = eval(input(\"Enter expression: \"))\n",
        "  print(\"Expression value:\", exp)\n",
        "\n",
        "elif n == 4:\n",
        "  p = eval(input(\"Enter Principal Amount: \"))\n",
        "  r = eval(input(\"Enter Rate of Interest: \"))\n",
        "  t = eval(input(\"Enter Number of Years: \"))\n",
        "  SI = (p * r * t) / 100\n",
        "  print(\"Simple Interest: \", SI)\n",
        "\n",
        "else:\n",
        "  print(\"Invalid choice!\")"
      ],
      "metadata": {
        "id": "kxct1v2SOSxD",
        "colab": {
          "base_uri": "https://localhost:8080/"
        },
        "outputId": "965ba5f1-2480-4273-a529-73c3fe049c32"
      },
      "execution_count": null,
      "outputs": [
        {
          "output_type": "stream",
          "name": "stdout",
          "text": [
            "If you want to area of circle then enter 1\n",
            "If you want to area of triangle then enter 2\n",
            "If you want value of expression then enter 3\n",
            "If you want simple intrest then enter 4\n",
            "Enter your choice(1-4): 2\n",
            "Enter side 1 of triangle: 3\n",
            "Enter side 2 of triangle: 4\n",
            "Enter side 3 of triangle: 5\n",
            "Area of triangle:  6.0\n"
          ]
        }
      ]
    },
    {
      "cell_type": "markdown",
      "source": [
        "15. Print & calculate addition, substraction, multiplication & division of two value in one \n",
        "program."
      ],
      "metadata": {
        "id": "TbtY_FpDOWsh"
      }
    },
    {
      "cell_type": "code",
      "source": [
        "# 15. Print & calculate addition, substraction, multiplication & division of two value in one program\n",
        "\n",
        "print(\"If you want addition then enter 1\")\n",
        "print(\"If you want substracion then enter 2\")\n",
        "print(\"If you want multiplication then enter 3\")\n",
        "print(\"If you want division then enter 4\")\n",
        "\n",
        "oper3 = int(input(\"Enter your choice of operation: \"))\n",
        "\n",
        "num1 = float(input(\"Enter first number: \"))\n",
        "num2 = float(input(\"Enter second number: \"))\n",
        "\n",
        "if oper == 1:\n",
        "  print(\"Addition:\", num1 + num2)\n",
        "elif oper == 2:\n",
        "  print(\"Subtraction:\", num1 - num2)\n",
        "elif oper == 3:\n",
        "  print(\"Multiplication:\", num1 * num2)\n",
        "elif oper == 4:\n",
        "  print(\"Division:\", num1 / num2)\n",
        "else:\n",
        "  print(\"Invalid Choice!\")"
      ],
      "metadata": {
        "id": "lnHtXwqYOXMM",
        "colab": {
          "base_uri": "https://localhost:8080/"
        },
        "outputId": "7497fab6-c9f7-47bc-dfdc-529db3871098"
      },
      "execution_count": null,
      "outputs": [
        {
          "output_type": "stream",
          "name": "stdout",
          "text": [
            "If you want addition then enter 1\n",
            "If you want substracion then enter 2\n",
            "If you want multiplication then enter 3\n",
            "If you want division then enter 4\n",
            "Enter your choice of operation: 3\n",
            "Enter first number: 5\n",
            "Enter second number: 7\n",
            "Multiplication: 35.0\n"
          ]
        }
      ]
    },
    {
      "cell_type": "markdown",
      "source": [
        "16. Write a program that take input of 5 subjects marks. Count the percentage. Print the result \n",
        "for following condition \n",
        "If student has 70% or more then 70% then DISTINCTION. \n",
        "If student has percentage between 60 and 69 then FIRST CLASS. \n",
        "If student has percentage between 50 and 59 then SECOND CLASS. \n",
        "If student has percentage between 40 and 49 then PASS CLASS. \n",
        "If student has percentage less then 40 then FAIL"
      ],
      "metadata": {
        "id": "3b4KfgKCOaGf"
      }
    },
    {
      "cell_type": "code",
      "source": [
        "print(\"Enter Marks of student\")\n",
        "math = float(input(\"Maths = \"))\n",
        "phy = float(input(\"Physics = \"))\n",
        "che = float(input(\"Chemistry = \"))\n",
        "eng = float(input(\"Engish = \"))\n",
        "com = float(input(\"Computer = \"))\n",
        "\n",
        "perc = float((math+phy+che+eng+com)/5)\n",
        "print(\" Percentage = {}\".format(perc))\n",
        "\n",
        "print(\"Distinction \") if perc >= 70 else print(\" FIRST CLASS \") if perc <= 69 and perc >= 60 else print(\"SECOND CLASS\") if perc <= 59 and perc >= 50 else print(\"PASS CLASS\") if perc <= 49 and perc >= 40 else print(\"FAIL\")"
      ],
      "metadata": {
        "id": "uR4bx3LTOaji",
        "colab": {
          "base_uri": "https://localhost:8080/"
        },
        "outputId": "0b980330-bf47-4036-d698-2d56e46c982d"
      },
      "execution_count": null,
      "outputs": [
        {
          "output_type": "stream",
          "name": "stdout",
          "text": [
            "Enter Marks of student\n",
            "Maths = 70\n",
            "Physics = 45\n",
            "Chemistry = 68\n",
            "Engish = 44\n",
            "Computer = 60\n",
            " Percentage = 57.4\n",
            "SECOND CLASS\n"
          ]
        }
      ]
    },
    {
      "cell_type": "markdown",
      "source": [
        "17. Write a program that take input of 5 subjects marks. If student get 40 or more then 40 then \n",
        "he is PASS in that subject otherwise FAIL print the result for following condition. \n",
        "If student is pass in all subjects then declare PASS. \n",
        "If student is fail in 1 or 2 subject then declare ATKT. \n",
        "If student is fail in more then 2 subject then declare FAIL. "
      ],
      "metadata": {
        "id": "XH5lzfbtOdkM"
      }
    },
    {
      "cell_type": "code",
      "source": [
        "print(\"Enter Marks of student\")\n",
        "sub = [\"math\",\"stat\",\"dsa\",\"dbms\",\"python\"]\n",
        "marks = []\n",
        "count = 0                     # that will give us in how many subjects student has less than 40 marks\n",
        "for ele in sub:\n",
        "  k = float(input(\"Marks of {} = \".format(ele)))\n",
        "  marks.append(k)\n",
        "  if k < 40:                  # if marks of any sub less than 40 then count will increase by 1\n",
        "    count+=1\n",
        "  else:                       # otherwise count will as it is\n",
        "    count=count\n",
        "\n",
        "\n",
        "if count == 0:\n",
        "  print(\"Result ::: PASS\")\n",
        "\n",
        "elif count <=2 :\n",
        "  print(\"Result ::: ATKT\")\n",
        "  \n",
        "else:\n",
        "  print(\"Result ::: FAIL\") "
      ],
      "metadata": {
        "id": "D0WU-m0gOeYg",
        "colab": {
          "base_uri": "https://localhost:8080/"
        },
        "outputId": "f2f40915-0e82-4773-d643-6cca05bd8237"
      },
      "execution_count": null,
      "outputs": [
        {
          "output_type": "stream",
          "name": "stdout",
          "text": [
            "Enter Marks of student\n",
            "Marks of math = 50\n",
            "Marks of stat = 40\n",
            "Marks of dsa = 38\n",
            "Marks of dbms = 79\n",
            "Marks of python = 80\n",
            "Result ::: ATKT\n"
          ]
        }
      ]
    },
    {
      "cell_type": "markdown",
      "source": [
        "18. Write a program that count the area for circle, square, rectangle and triangle using user-\n",
        "defined cases \n"
      ],
      "metadata": {
        "id": "hZwWfdv7OhFp"
      }
    },
    {
      "cell_type": "code",
      "source": [
        "print(\"If you want area of circle then enter 1\")\n",
        "print(\"If you want area of squre then enter 2\")\n",
        "print(\"If you want area of rectangle then enter 3\")\n",
        "print(\"If you want area of triangle then enter 4\")\n",
        "area_of = int(input(\"Enter 1 to 4 from above instruction : \"))\n",
        "if area_of == 1 :           \n",
        "  rad = float(input(\"radius of circle : \"))\n",
        "  if rad > 0 :                          # rad must be greater than zero\n",
        "    area = (22/7)*r*r                   # formula for area of circle\n",
        "    print(\"area of circle is {}\".format(area))\n",
        "  else:\n",
        "    print(\"invalid information\")          # if user give rad less than or equal to zero\n",
        "\n",
        "elif area_of == 2 :                      # for squre\n",
        "  l = float(input(\"length of  squre : \"))  \n",
        "  if l >0 :\n",
        "    area = l**2                          # formula for area of squre\n",
        "    print(\"area of squre is {}\".format(area))\n",
        "  else:\n",
        "    print(\"invalid information\")\n",
        "\n",
        "elif area_of == 3 :\n",
        "  l = float(input(\"length of rectangle  : \"))\n",
        "  b = float(input(\"breadth of rectangle : \"))\n",
        "  if l >0 and b>0:\n",
        "    area = l*b                         # formula for area of rectangle\n",
        "    print(\"area of rectangle is {}\".format(area))\n",
        "  else:\n",
        "    print(\"invalid information\")\n",
        "\n",
        "elif area_of == 4:\n",
        "  a = float(input(\"a = \"))\n",
        "  b = float(input(\"b = \"))\n",
        "  c = float(input(\"c = \"))\n",
        "  s = (a+b+c)/2\n",
        "  area = (s*(s-a)*(s-b)*(s-c))**(0.5)           #heron's formula\n",
        "  if (a>0 and b>0 and c>0):\n",
        "    print(\"area of triangle = {}\".format(area))\n",
        "  else:\n",
        "    print(\"invalid information\")\n",
        "else :\n",
        "  print(\"invalid information\")\n"
      ],
      "metadata": {
        "id": "CYoEvYY6OjAq",
        "colab": {
          "base_uri": "https://localhost:8080/"
        },
        "outputId": "c25b44db-4f0c-4ad2-b810-9bed5c6bcdba"
      },
      "execution_count": null,
      "outputs": [
        {
          "output_type": "stream",
          "name": "stdout",
          "text": [
            "If you want area of circle then enter 1\n",
            "If you want area of squre then enter 2\n",
            "If you want area of rectangle then enter 3\n",
            "If you want area of triangle then enter 4\n",
            "Enter 1 to 4 from above instruction : 2\n",
            "length of  squre : 5\n",
            "area of squre is 25.0\n"
          ]
        }
      ]
    },
    {
      "cell_type": "markdown",
      "source": [
        "19. Write a program that take input of year in 4 digit. Determine whether the year is leap year \n",
        "or not.(try to solve this problem with && and or operator) "
      ],
      "metadata": {
        "id": "McOacIvHOj3z"
      }
    },
    {
      "cell_type": "code",
      "source": [
        "year = int(input(\"Enter year in YYYY format: \"))\n",
        "if (year % 4 == 0 and year % 100 != 0) or year % 400 == 0:\n",
        "  print(\"{} is leap year\".format(year))\n",
        "elif (year % 4 == 0 and year % 100 == 0) or year % 4 != 0:\n",
        "  print(\"{} is not leap year\".format(year))"
      ],
      "metadata": {
        "id": "RTx9UxBGOkcS",
        "colab": {
          "base_uri": "https://localhost:8080/"
        },
        "outputId": "7e2e46df-4b77-418a-ad86-bbddc2a5065b"
      },
      "execution_count": null,
      "outputs": [
        {
          "output_type": "stream",
          "name": "stdout",
          "text": [
            "Enter year in YYYY format: 2000\n",
            "2000 is leap year\n"
          ]
        }
      ]
    },
    {
      "cell_type": "markdown",
      "source": [
        "20. Write a program that determine the grade of steel according to following condition. \n",
        "Hardness must be greater than 50 \n",
        "Carbon must be less than 0.7 \n",
        "Tensile must be greater than 5500 \n",
        "Take the input for above qualities through keyboard from user Grades are decided as \n",
        "follows. \n",
        "Grade A if all 3 conditions are met. \n",
        "Grade B if condition (1) and (2) are met. \n",
        "Grade C if condition (2) and (3) are met. \n",
        "Grade D if condition (1) and (3) are met. \n",
        "Grade E if only one condition met. \n",
        "Grade F if none of conditions are met. "
      ],
      "metadata": {
        "id": "jBePpm0POrIL"
      }
    },
    {
      "cell_type": "code",
      "source": [
        "# input info\n",
        "hardness = float(input(\"Enter hardness of the steel: \"))\n",
        "carbon = float(input(\"Enter carbon of the steel: \"))\n",
        "tensile = float(input(\"Enter tensile of the steel: \"))\n",
        "\n",
        "if hardness > 50 and carbon < 0.7 and tensile > 5500:\n",
        "  print(\"Grade A\")\n",
        "elif hardness > 50 and carbon < 0.7 and tensile <= 5500:\n",
        "  print(\"Grade B\")\n",
        "elif hardness <= 50 and carbon < 0.7 and tensile > 5500:\n",
        "  print(\"Grade C\")\n",
        "elif hardness > 50 and carbon >= 0.7 and tensile > 5500:\n",
        "  print(\"Grade D\")\n",
        "elif hardness > 50 or carbon < 0.7 or tensile > 5500:\n",
        "  print(\"Grade E\")\n",
        "else:\n",
        "  print(\"Grade F\")"
      ],
      "metadata": {
        "id": "Ty_4u-BlOr79",
        "colab": {
          "base_uri": "https://localhost:8080/"
        },
        "outputId": "3a04ee55-42e8-4c08-fee4-a131b3836e81"
      },
      "execution_count": null,
      "outputs": [
        {
          "output_type": "stream",
          "name": "stdout",
          "text": [
            "Enter hardness of the steel: 40\n",
            "Enter carbon of the steel: 0.6\n",
            "Enter tensile of the steel: 5600\n",
            "Grade C\n"
          ]
        }
      ]
    }
  ]
}