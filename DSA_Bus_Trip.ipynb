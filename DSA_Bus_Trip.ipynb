{
  "nbformat": 4,
  "nbformat_minor": 0,
  "metadata": {
    "colab": {
      "provenance": []
    },
    "kernelspec": {
      "name": "python3",
      "display_name": "Python 3"
    },
    "language_info": {
      "name": "python"
    }
  },
  "cells": [
    {
      "cell_type": "code",
      "execution_count": null,
      "metadata": {
        "id": "jjMayMs1MSLW"
      },
      "outputs": [],
      "source": [
        "class Buses:\n",
        "    def __init__(self):\n",
        "        self.count = 0\n",
        "        self.buses = {}\n",
        "        self.members = 0\n",
        "    \n",
        "    def placeGroups(self, groups):                # iterate while all groups are not placed\n",
        "        \n",
        "        while len(groups) > 0:                    # last group = first group inserted by user\n",
        "            \n",
        "            g = groups[-1]\n",
        "\n",
        "            if g[1] > 0:                           # iterate over all buses already allocated\n",
        "                flag = True\n",
        "              \n",
        "                for key, value in self.buses.items():\n",
        "\n",
        "                    seats_left = value[1]           # if member count can be allocated in seats left\n",
        "\n",
        "                    if g[1] <= seats_left:\n",
        "                        value[0].append(g[0])         # append family name in the families allocated in that bus\n",
        "                        value[1] = seats_left - g[1]        # update seats left\n",
        "                        self.members += g[1]\n",
        "                        groups.pop()                    #remove the last family from the groups that is allocated\n",
        "                        flag = False\n",
        "                        break\n",
        "\n",
        "                if flag:\n",
        "                    self.buses[self.count + 1] = [[g[0]], N - g[1]]\n",
        "                    groups.pop()\n",
        "                    self.count += 1\n",
        "                    self.members += g[1]\n",
        "            else:\n",
        "                groups.pop()\n",
        "\n",
        "    def output(self):\n",
        "        print(\"\\n|------ Allocation ------|\")\n",
        "        for k, v in self.buses.items():\n",
        "            print(\"Bus\", k, \":\", \" \".join(v[0]))\n",
        "        \n",
        "        print(self.members)\n",
        "        print(self.count)\n",
        "\n"
      ]
    },
    {
      "cell_type": "code",
      "source": [
        "\n",
        "N = int(input(\"Enter N: \"))\n",
        "choice = \"Y\"\n",
        "lis = []\n",
        "while choice == \"Y\":\n",
        "    name = input(\"Enter group name: \")\n",
        "    count = int(input(\"Enter member-count: \"))\n",
        "    tup = tuple([name, count])\n",
        "    lis.insert(0, tup)\n",
        "    choice = input(\"Do you want to continue? (Y/N): \")\n",
        "\n",
        "buses = Buses()\n",
        "buses.placeGroups(lis)\n",
        "buses.output()"
      ],
      "metadata": {
        "colab": {
          "base_uri": "https://localhost:8080/"
        },
        "id": "Hmkr43vaM0Sc",
        "outputId": "4f22e773-7735-4c79-fcb9-8b5d72c927df"
      },
      "execution_count": null,
      "outputs": [
        {
          "output_type": "stream",
          "name": "stdout",
          "text": [
            "Enter N: 30\n",
            "Enter group name: A\n",
            "Enter member-count: 20\n",
            "Do you want to continue? (Y/N): Y\n",
            "Enter group name: B\n",
            "Enter member-count: 15\n",
            "Do you want to continue? (Y/N): Y\n",
            "Enter group name: C\n",
            "Enter member-count: 10\n",
            "Do you want to continue? (Y/N): Y\n",
            "Enter group name: D\n",
            "Enter member-count: 20\n",
            "Do you want to continue? (Y/N): Y\n",
            "Enter group name: E\n",
            "Enter member-count: 12\n",
            "Do you want to continue? (Y/N): Y\n",
            "Enter group name: F\n",
            "Enter member-count: 8\n",
            "Do you want to continue? (Y/N): N\n",
            "\n",
            "|------ Allocation ------|\n",
            "Bus 1 : A C\n",
            "Bus 2 : B E\n",
            "Bus 3 : D F\n",
            "85\n",
            "3\n"
          ]
        }
      ]
    },
    {
      "cell_type": "code",
      "source": [],
      "metadata": {
        "id": "BYDfjjR6Ng_Z"
      },
      "execution_count": null,
      "outputs": []
    }
  ]
}