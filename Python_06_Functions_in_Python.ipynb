{
  "cells": [
    {
      "cell_type": "markdown",
      "metadata": {
        "id": "ICTDzkMinNdY"
      },
      "source": [
        "1. Accept one no and display its absolute value.\n"
      ]
    },
    {
      "cell_type": "code",
      "execution_count": null,
      "metadata": {
        "id": "0tiQQBDNmhlZ",
        "colab": {
          "base_uri": "https://localhost:8080/"
        },
        "outputId": "eab3fead-25e0-4335-829a-2b388afa3293"
      },
      "outputs": [
        {
          "output_type": "stream",
          "name": "stdout",
          "text": [
            "Enter n : -9\n",
            "Absolute value =  9.0\n"
          ]
        }
      ],
      "source": [
        "n = float(input(\"Enter n : \"))\n",
        "def absolute_value(x):\n",
        "  if (x >= 0) :\n",
        "    print(\"Absolute value = \",x)\n",
        "  else:\n",
        "    print(\"Absolute value = \",-x)\n",
        "\n",
        "absolute_value(n)"
      ]
    },
    {
      "cell_type": "markdown",
      "metadata": {
        "id": "w3kkKGr8nWAh"
      },
      "source": [
        "2. Get 2 no from user and display base^exp. (2^3=8)\n"
      ]
    },
    {
      "cell_type": "code",
      "execution_count": null,
      "metadata": {
        "id": "MsT7aSZenZqv",
        "colab": {
          "base_uri": "https://localhost:8080/"
        },
        "outputId": "7c748bed-22cf-4154-f5bd-1635c781385e"
      },
      "outputs": [
        {
          "name": "stdout",
          "output_type": "stream",
          "text": [
            "Enter base number: 5\n",
            "Enter exponent number: 3\n"
          ]
        },
        {
          "output_type": "execute_result",
          "data": {
            "text/plain": [
              "125.0"
            ]
          },
          "metadata": {},
          "execution_count": 3
        }
      ],
      "source": [
        "base=float(input(\"Enter base number: \"))\n",
        "exp=float(input(\"Enter exponent number: \"))\n",
        "def power(base,exp):\n",
        "  \n",
        "  else:\n",
        "    result=base ** exp\n",
        "    return result\n",
        "power(base,exp)"
      ]
    },
    {
      "cell_type": "markdown",
      "metadata": {
        "id": "E8RHJfyfnaBo"
      },
      "source": [
        "3. Get a string from user and display length of that string.\n"
      ]
    },
    {
      "cell_type": "code",
      "execution_count": null,
      "metadata": {
        "colab": {
          "base_uri": "https://localhost:8080/"
        },
        "id": "6EhuubPynadh",
        "outputId": "9dd2905d-8b79-4d33-cf72-1dd667075eec"
      },
      "outputs": [
        {
          "output_type": "stream",
          "name": "stdout",
          "text": [
            "Enter a string :  BHARGAV\n",
            "length of string  :  7\n"
          ]
        }
      ],
      "source": [
        "def len_string():\n",
        "  string = input(\"Enter a string :  \")\n",
        "  return len(string)\n",
        "print(\"length of string  : \",len_string())"
      ]
    },
    {
      "cell_type": "markdown",
      "metadata": {
        "id": "hka1qJfAneIH"
      },
      "source": [
        "4. Get two strings from user and compare weather both are same or not.\n"
      ]
    },
    {
      "cell_type": "code",
      "execution_count": null,
      "metadata": {
        "id": "9rRsHgCrpqYD",
        "colab": {
          "base_uri": "https://localhost:8080/"
        },
        "outputId": "336217ae-ea0d-4c81-c5aa-77d858f2d094"
      },
      "outputs": [
        {
          "output_type": "stream",
          "name": "stdout",
          "text": [
            "Enter string : ASD\n",
            "Enter string : ASC\n",
            "Strings are not equal\n"
          ]
        }
      ],
      "source": [
        "def compare(st1,st2):\n",
        "  if (len(st1)==len(st2)):\n",
        "    i = 0\n",
        "    ck = 0\n",
        "    n = len(st1)\n",
        "    for i in range(n):\n",
        "      if st1[i] == st2[i]:\n",
        "        ck += 1\n",
        "        i += 1\n",
        "    if (ck == n):\n",
        "      print(\"Strings are equal\")\n",
        "    else:\n",
        "      print(\"Strings are not equal\")\n",
        "  else:\n",
        "    print(\"Strings are not equal\")\n",
        "\n",
        "st1 = input(\"Enter string : \")\n",
        "st2 = input(\"Enter string : \")\n",
        "compare(st1,st2)"
      ]
    },
    {
      "cell_type": "markdown",
      "metadata": {
        "id": "yRmw0KF5ngMs"
      },
      "source": [
        "5. Get a string from user and display reverse of it.\n"
      ]
    },
    {
      "cell_type": "code",
      "execution_count": null,
      "metadata": {
        "id": "HK7NNGakprBu",
        "colab": {
          "base_uri": "https://localhost:8080/"
        },
        "outputId": "874a87b0-6645-40b1-f808-a1c129c31da2"
      },
      "outputs": [
        {
          "output_type": "stream",
          "name": "stdout",
          "text": [
            "Enter a string : edoc\n",
            "Reversed string:  code\n"
          ]
        }
      ],
      "source": [
        "string=input(\"Enter a string : \")\n",
        "def reverse_of_string(str):\n",
        "  reversed=str[len(str)::-1]   \n",
        "  return reversed\n",
        "print(\"Reversed string: \",reverse_of_string(string))"
      ]
    },
    {
      "cell_type": "markdown",
      "metadata": {
        "id": "pCAMQjqYnh8l"
      },
      "source": [
        "6. Get two strings from user and merge it into first string.\n"
      ]
    },
    {
      "cell_type": "code",
      "execution_count": null,
      "metadata": {
        "colab": {
          "base_uri": "https://localhost:8080/"
        },
        "id": "rvqtn5TspsCI",
        "outputId": "78f1036b-9c0b-4b05-98f0-9ab7f3773d16"
      },
      "outputs": [
        {
          "output_type": "stream",
          "name": "stdout",
          "text": [
            "Enter a string1 : Bhargav\n",
            "Enter a string2 : Pandya\n",
            "string After Merge :   BhargavPandya\n"
          ]
        }
      ],
      "source": [
        "def merge_string():\n",
        "  string1 = input(\"Enter a string1 : \")\n",
        "  string2 = input(\"Enter a string2 : \")\n",
        "  string3 = string1+string2\n",
        "  return string3\n",
        "\n",
        "print(\"string After Merge :  \",merge_string())"
      ]
    },
    {
      "cell_type": "markdown",
      "metadata": {
        "id": "kJVkrYWNnjuZ"
      },
      "source": [
        "7. Get a string from user and display it in lower case.\n"
      ]
    },
    {
      "cell_type": "code",
      "execution_count": null,
      "metadata": {
        "id": "BRmfhCZcpsr3",
        "colab": {
          "base_uri": "https://localhost:8080/"
        },
        "outputId": "f1e29628-c935-46d6-8c01-0c556fcf1903"
      },
      "outputs": [
        {
          "output_type": "stream",
          "name": "stdout",
          "text": [
            "Enter a character string: BHARGAV\n",
            "Converted to lower string:  bhargav\n"
          ]
        }
      ],
      "source": [
        "str1=input(\"Enter a character string: \")\n",
        "def lower_str(str1):\n",
        "  if str1.isalpha():\n",
        "    converted_str=str1.lower()\n",
        "    return converted_str\n",
        "  else:\n",
        "    return print(\"Please enter a character string!\")\n",
        "\n",
        "print(\"Converted to lower string: \",lower_str(str1))"
      ]
    },
    {
      "cell_type": "markdown",
      "metadata": {
        "id": "yB-iiQ0YnmK0"
      },
      "source": [
        "8. Get a string from user and display it in upper case.\n"
      ]
    },
    {
      "cell_type": "code",
      "execution_count": null,
      "metadata": {
        "id": "E6WCVJdzptSr",
        "colab": {
          "base_uri": "https://localhost:8080/"
        },
        "outputId": "585cd657-9c71-4eb3-d182-9703c5a0e799"
      },
      "outputs": [
        {
          "output_type": "stream",
          "name": "stdout",
          "text": [
            "Enter a character string: pandya\n",
            "Converted to upper string:  PANDYA\n"
          ]
        }
      ],
      "source": [
        "str1=input(\"Enter a character string: \")\n",
        "def upper_str(str1):\n",
        "  if str1.isalpha():\n",
        "    converted_str=str1.upper()\n",
        "    return converted_str\n",
        "  else:\n",
        "    return print(\"Please enter a character string!\")\n",
        "\n",
        "print(\"Converted to upper string: \",upper_str(str1))"
      ]
    },
    {
      "cell_type": "markdown",
      "metadata": {
        "id": "9ofM45v-n7Wh"
      },
      "source": [
        "9. Create a user define function named sum which accept 2 arguments (of\n",
        "integer type) and return the sum of them.\n"
      ]
    },
    {
      "cell_type": "code",
      "execution_count": null,
      "metadata": {
        "id": "W3195b7kpt7s",
        "colab": {
          "base_uri": "https://localhost:8080/"
        },
        "outputId": "7c79e47d-96d8-477b-a4d6-3b592bc2761a"
      },
      "outputs": [
        {
          "name": "stdout",
          "output_type": "stream",
          "text": [
            "Enter a num1 : 5\n",
            "Enter a num2 : 6\n"
          ]
        },
        {
          "output_type": "execute_result",
          "data": {
            "text/plain": [
              "11"
            ]
          },
          "metadata": {},
          "execution_count": 12
        }
      ],
      "source": [
        "num1 = int(input(\"Enter a num1 : \"))\n",
        "num2 = int(input(\"Enter a num2 : \"))\n",
        "def sum(num1,num2):\n",
        "  return num1+num2\n",
        "sum(num1,num2)"
      ]
    },
    {
      "cell_type": "markdown",
      "metadata": {
        "id": "O4mJUI8Wn9Mq"
      },
      "source": [
        "10. Create a user define function named avg which pass array as argument (of integer type) and return its average value."
      ]
    },
    {
      "cell_type": "code",
      "execution_count": null,
      "metadata": {
        "id": "Txz2Lt8Mpuh_",
        "colab": {
          "base_uri": "https://localhost:8080/"
        },
        "outputId": "6193bf8c-26fe-4e9e-8aba-a3b04b40b062"
      },
      "outputs": [
        {
          "output_type": "stream",
          "name": "stdout",
          "text": [
            "Enter length of array : 4\n",
            "Enter element of an array : 3\n",
            "Enter element of an array : 4\n",
            "Enter element of an array : -8\n",
            "Enter element of an array : 7\n",
            "Average of an array =  1.5\n"
          ]
        }
      ],
      "source": [
        "def avg(array):\n",
        "  sum = 0\n",
        "  for i in array:\n",
        "    sum += i\n",
        "  return sum/len(array)\n",
        "\n",
        "array = []\n",
        "n = int(input(\"Enter length of array : \"))\n",
        "for i in range(n):\n",
        "  a = int(input(\"Enter element of an array : \"))\n",
        "  array.append(a)\n",
        "print(\"Average of an array = \",avg(array))"
      ]
    },
    {
      "cell_type": "markdown",
      "metadata": {
        "id": "PEKjwWRrn_lf"
      },
      "source": [
        "11. Create a user define function named evenodd which accept one argument\n",
        "(of integer type) and return if the number is even or odd.\n"
      ]
    },
    {
      "cell_type": "code",
      "execution_count": null,
      "metadata": {
        "id": "1VmqZr1fpvFO",
        "colab": {
          "base_uri": "https://localhost:8080/"
        },
        "outputId": "4c100df7-879d-4bf9-c052-a517590bdf95"
      },
      "outputs": [
        {
          "output_type": "stream",
          "name": "stdout",
          "text": [
            "Enter any number: 6\n",
            "Given number is Even\n"
          ]
        }
      ],
      "source": [
        "number=int(input(\"Enter any number: \"))\n",
        "def even_odd(number):    \n",
        "  if number%2==0:\n",
        "    return print(\"Given number is Even\")\n",
        "  else:\n",
        "    return print(\"Given number is odd\")\n",
        "even_odd(number)"
      ]
    },
    {
      "cell_type": "markdown",
      "metadata": {
        "id": "SmGl2VnJoERi"
      },
      "source": [
        "12. Create a user define function named fact which accept one argument (of\n",
        "integer type) and return the factorial of given number.\n"
      ]
    },
    {
      "cell_type": "code",
      "execution_count": null,
      "metadata": {
        "id": "Wg9uaqFBpvl1",
        "colab": {
          "base_uri": "https://localhost:8080/"
        },
        "outputId": "3cae9dcc-013c-4093-a32a-8ce37a09c7ea"
      },
      "outputs": [
        {
          "output_type": "stream",
          "name": "stdout",
          "text": [
            "Enter a num : 7\n",
            "7 ! = 5040\n"
          ]
        }
      ],
      "source": [
        "n = int(input(\"Enter a num : \"))\n",
        "def factorial(n):\n",
        "  if n < 0 :\n",
        "    return print(\"Factorial is not exist for {} .\".format(n))\n",
        "  elif n == 0 :\n",
        "    return print(\"0! = 1 \")\n",
        "  else : \n",
        "    fact  = 1 \n",
        "    for i in range(1,n+1):\n",
        "      fact = fact*i\n",
        "    return print(\"{} ! = {}\".format(n,fact))\n",
        "factorial(n)"
      ]
    },
    {
      "cell_type": "markdown",
      "metadata": {
        "id": "hjd3AG_BoGC1"
      },
      "source": [
        "13. Create a user define function named prime which accept one argument (of\n",
        "integer type) and display that the no is prime or not. (no need to return value)\n"
      ]
    },
    {
      "cell_type": "code",
      "execution_count": null,
      "metadata": {
        "id": "qY5DpPw0pwlG",
        "colab": {
          "base_uri": "https://localhost:8080/"
        },
        "outputId": "51ab0c00-1baa-4c73-9ac0-2950bb9d98b5"
      },
      "outputs": [
        {
          "output_type": "stream",
          "name": "stdout",
          "text": [
            "Enter number : 8\n",
            "Not prime\n"
          ]
        }
      ],
      "source": [
        "def prime(n):\n",
        "  m = 0\n",
        "  if(n>1):\n",
        "    for i in range(2,n):\n",
        "      if (n%i==0):\n",
        "        m = 1\n",
        "        break\n",
        "    if(m==1):\n",
        "      print(\"Not prime\")\n",
        "    else:\n",
        "      print(\"prime\")\n",
        "  else:\n",
        "    print(\"Invalid\")\n",
        "\n",
        "n = int(input(\"Enter number : \"))\n",
        "prime(n)"
      ]
    },
    {
      "cell_type": "markdown",
      "metadata": {
        "id": "REffhwQOoHrw"
      },
      "source": [
        "14. Create a user define function named triangle which accept one argument (of\n",
        "integer type) and display a triangle like. (If you have given 4 as argument)"
      ]
    },
    {
      "cell_type": "code",
      "execution_count": null,
      "metadata": {
        "id": "1zGZzvoWpxpI",
        "colab": {
          "base_uri": "https://localhost:8080/"
        },
        "outputId": "a0012124-b4d5-43f9-dc62-58aa1e399668"
      },
      "outputs": [
        {
          "output_type": "stream",
          "name": "stdout",
          "text": [
            "Enter any number:5\n",
            "1\n",
            "12\n",
            "123\n",
            "1234\n",
            "12345\n"
          ]
        }
      ],
      "source": [
        "n=int(input(\"Enter any number:\"))\n",
        "def triangle(n):\n",
        "  for i in range(1,n+1):\n",
        "    for j in range(1,i+1):\n",
        "      print(j,end=\"\")\n",
        "    print()\n",
        "triangle(n)"
      ]
    },
    {
      "cell_type": "markdown",
      "metadata": {
        "id": "oFpjiZBIoIqs"
      },
      "source": [
        "15. Create a user define function named power which accept two arguments (of\n",
        "integer type) (i) base (ii) expon and display the base^expon value.\n"
      ]
    },
    {
      "cell_type": "code",
      "execution_count": null,
      "metadata": {
        "id": "E1Q9lpdypyYz",
        "colab": {
          "base_uri": "https://localhost:8080/"
        },
        "outputId": "524f92cc-7961-4001-8be3-871d665822d5"
      },
      "outputs": [
        {
          "output_type": "stream",
          "name": "stdout",
          "text": [
            "Enter base : 6\n",
            "Enter power : 3\n",
            "6^3 = 216\n"
          ]
        }
      ],
      "source": [
        "a = int(input(\"Enter base : \"))\n",
        "n = int(input(\"Enter power : \"))\n",
        "def power(a,n):\n",
        "    if n==0 and a!=0:\n",
        "      return 1\n",
        "    elif n==0 and a==0:\n",
        "      return print(\"invalid input\") \n",
        "    else:\n",
        "      value = power(a,n//2)\n",
        "      if n%2 == 0:\n",
        "        return value*value\n",
        "      else:\n",
        "        return a*value*value\n",
        "\n",
        "print(\"{}^{} = {}\".format(a,n,power(a,n)))"
      ]
    },
    {
      "cell_type": "markdown",
      "metadata": {
        "id": "6hPa0ShSoQr_"
      },
      "source": [
        "16. Create a user define function named root which accept one argument (of\n",
        "integer type) and display the square root of that no.\n"
      ]
    },
    {
      "cell_type": "code",
      "execution_count": null,
      "metadata": {
        "id": "F4AbO3vKpzAC",
        "colab": {
          "base_uri": "https://localhost:8080/"
        },
        "outputId": "64766e81-95e5-42fb-dcf1-cbce1f03ccd6"
      },
      "outputs": [
        {
          "output_type": "stream",
          "name": "stdout",
          "text": [
            "Enter integer number : 9\n",
            "Square root 3.0\n"
          ]
        }
      ],
      "source": [
        "def s_root(n):\n",
        "  print(\"Square root\",n**(1/2))\n",
        "\n",
        "n = int(input(\"Enter integer number : \"))\n",
        "s_root(n)"
      ]
    },
    {
      "cell_type": "markdown",
      "metadata": {
        "id": "xDv3vkYXoTEw"
      },
      "source": [
        "17. Create a user define function named ASCII which accept one argument (of\n",
        "character type) and display ASCII value of that character.\n"
      ]
    },
    {
      "cell_type": "code",
      "execution_count": null,
      "metadata": {
        "id": "6DhBvDagpzbD",
        "colab": {
          "base_uri": "https://localhost:8080/"
        },
        "outputId": "0168206f-b956-4aa0-c3d1-33aef1a2e020"
      },
      "outputs": [
        {
          "output_type": "stream",
          "name": "stdout",
          "text": [
            "Enter any character: d\n",
            "ASCII vale of given character is 100\n"
          ]
        }
      ],
      "source": [
        "character=input(\"Enter any character: \")\n",
        "def ASCII(character):\n",
        "  if character.isalpha():\n",
        "    asc=ord(character)\n",
        "    return print(\"ASCII vale of given character is\",asc)\n",
        "  else:\n",
        "    return print(\"Please enter a character!\")\n",
        "ASCII(character)"
      ]
    },
    {
      "cell_type": "markdown",
      "metadata": {
        "id": "1q049gsToWJG"
      },
      "source": [
        "18. Create a user define function named CHR which accept one argument (of\n",
        "integer type) and display character of that ASCII value.\n"
      ]
    },
    {
      "cell_type": "code",
      "execution_count": null,
      "metadata": {
        "id": "5kiZIX_hp0e0",
        "colab": {
          "base_uri": "https://localhost:8080/"
        },
        "outputId": "08d5c681-91a1-4f74-cc84-da2f55db1f26"
      },
      "outputs": [
        {
          "output_type": "stream",
          "name": "stdout",
          "text": [
            "Enter a : 51\n",
            "3\n"
          ]
        }
      ],
      "source": [
        "a = int(input(\"Enter a : \"))\n",
        "def CHR(a):\n",
        "  b = chr(a)\n",
        "  return b\n",
        "print(CHR(a))"
      ]
    },
    {
      "cell_type": "markdown",
      "metadata": {
        "id": "qGl_9ouXoX0s"
      },
      "source": [
        "19. Write a function to count the simple interest.\n"
      ]
    },
    {
      "cell_type": "code",
      "execution_count": null,
      "metadata": {
        "id": "HekNGApFp1kY",
        "colab": {
          "base_uri": "https://localhost:8080/"
        },
        "outputId": "8c035a3f-bcdf-49da-d3b3-bcac848ccf0c"
      },
      "outputs": [
        {
          "output_type": "stream",
          "name": "stdout",
          "text": [
            "Enter Principal Amount: 10000\n",
            "Enter Rate Of Interest: 10\n",
            "Enter Time : 2\n",
            "Simple Interest :  2000.0\n"
          ]
        }
      ],
      "source": [
        "def simple_interest(p,r,t):\n",
        "  S_I = p*r*t/100\n",
        "  print(\"Simple Interest : \",S_I)\n",
        "\n",
        "p = int(input(\"Enter Principal Amount: \"))\n",
        "r = int(input(\"Enter Rate Of Interest: \"))\n",
        "t = int(input(\"Enter Time : \"))\n",
        "simple_interest(p,r,t)"
      ]
    },
    {
      "cell_type": "markdown",
      "metadata": {
        "id": "clKzIEs3oZrN"
      },
      "source": [
        "20. Write a function that count compound interest.\n"
      ]
    },
    {
      "cell_type": "code",
      "execution_count": null,
      "metadata": {
        "id": "SVB55rbRp2H7",
        "colab": {
          "base_uri": "https://localhost:8080/"
        },
        "outputId": "2fb3f759-0bcb-402f-a593-6710fc39d31f"
      },
      "outputs": [
        {
          "output_type": "stream",
          "name": "stdout",
          "text": [
            "Enter principal amount: 10000\n",
            "Enter annual interest rate : 10\n",
            "Enter time in year: 2\n",
            "Compound interest:  2100.0\n"
          ]
        }
      ],
      "source": [
        "p=float(input(\"Enter principal amount: \"))\n",
        "r=float(input(\"Enter annual interest rate : \"))\n",
        "t=int(input(\"Enter time in year: \"))\n",
        "def compound_interest(p,r,t):\n",
        "  CI=round((p*(1+(r/100))**t)-p,2)\n",
        "  return CI\n",
        "print(\"Compound interest: \",compound_interest(p,r,t))"
      ]
    },
    {
      "cell_type": "markdown",
      "metadata": {
        "id": "7L0TVkWOobrw"
      },
      "source": [
        "21. Write a function to generate the square of any given number\n"
      ]
    },
    {
      "cell_type": "code",
      "execution_count": null,
      "metadata": {
        "id": "eo65fTgLp2yJ",
        "colab": {
          "base_uri": "https://localhost:8080/"
        },
        "outputId": "0ac7b57f-983b-40b6-8b07-77d8fea9f5dc"
      },
      "outputs": [
        {
          "output_type": "stream",
          "name": "stdout",
          "text": [
            "Enter a number  4\n",
            "squre of 4.0  = 16.0\n"
          ]
        }
      ],
      "source": [
        "n = float(input(\"Enter a number  \"))\n",
        "def squre(n):\n",
        "  ans = n**2\n",
        "  return ans\n",
        "print(\"squre of {}  = {}\".format(n,squre(n)))"
      ]
    },
    {
      "cell_type": "markdown",
      "metadata": {
        "id": "H_2cBcSzodmg"
      },
      "source": [
        "22. Write a function to count mean for discrete data.\n"
      ]
    },
    {
      "cell_type": "code",
      "execution_count": null,
      "metadata": {
        "id": "FBgoVxYAp3Uq",
        "colab": {
          "base_uri": "https://localhost:8080/"
        },
        "outputId": "ffcf334a-63f8-44b5-f1fa-14c19d6a4e10"
      },
      "outputs": [
        {
          "output_type": "stream",
          "name": "stdout",
          "text": [
            "Enter num of observation : 5\n",
            "Enter observation : 1\n",
            "Enter observation : 2\n",
            "Enter observation : 4\n",
            "Enter observation : 7\n",
            "Enter observation : 4\n",
            "Mean of discrete data :  3.6\n"
          ]
        }
      ],
      "source": [
        "def mean(data):\n",
        "  n = len(data)\n",
        "  sum = 0\n",
        "  for i in data:\n",
        "    sum = sum + i\n",
        "  mean = sum/n\n",
        "  return mean\n",
        "\n",
        "data = []\n",
        "n = int(input(\"Enter num of observation : \"))\n",
        "for i in range(n):\n",
        "  a = int(input(\"Enter observation : \"))\n",
        "  data.append(a)\n",
        "print(\"Mean of discrete data : \",mean(data))"
      ]
    },
    {
      "cell_type": "markdown",
      "metadata": {
        "id": "LUoZiiVlogpH"
      },
      "source": [
        "23. Write a function to find out maximum from of n no of values.\n"
      ]
    },
    {
      "cell_type": "code",
      "execution_count": null,
      "metadata": {
        "id": "MC5gFTvrp3tp",
        "colab": {
          "base_uri": "https://localhost:8080/"
        },
        "outputId": "82a89a16-5f22-4e0e-965b-692c87da6bbb"
      },
      "outputs": [
        {
          "output_type": "stream",
          "name": "stdout",
          "text": [
            "Enter length of list: 6\n",
            "Ente 1 element of list: 2\n",
            "Ente 2 element of list: 6\n",
            "Ente 3 element of list: 0\n",
            "Ente 4 element of list: -3\n",
            "Ente 5 element of list: 2\n",
            "Ente 6 element of list: 7\n",
            "Maximum number : 7.0\n"
          ]
        }
      ],
      "source": [
        "n=int(input(\"Enter length of list: \"))\n",
        "\n",
        "def maximum(n):\n",
        "  l=[]\n",
        "  max=-325678\n",
        "  for i in range(1,n+1):\n",
        "    ele=float(input(\"Ente {} element of list: \".format(i)))\n",
        "    l.append(ele)\n",
        "    if ele>max:\n",
        "      max=ele\n",
        "  return max\n",
        "\n",
        "print(\"Maximum number :\",maximum(n))"
      ]
    },
    {
      "cell_type": "markdown",
      "metadata": {
        "id": "CKpMR29spNBf"
      },
      "source": [
        "24. Write a function to arrange integer values in ascending order in a list\n"
      ]
    },
    {
      "cell_type": "code",
      "execution_count": null,
      "metadata": {
        "id": "Qzhld_ZNp4bZ",
        "colab": {
          "base_uri": "https://localhost:8080/"
        },
        "outputId": "ba84ac0f-d7a7-436b-e556-48e5345ca915"
      },
      "outputs": [
        {
          "output_type": "stream",
          "name": "stdout",
          "text": [
            "[-9, -2, 2, 3, 3, 4, 7, 7]\n"
          ]
        }
      ],
      "source": [
        "k = [2,4,7,7,-2,3,-9,3]\n",
        "\n",
        "def acd(a):\n",
        "  for i in range(len(a)):\n",
        "    for j in range(i,len(a)):\n",
        "      if a[i] > a[j]:\n",
        "        a[i] , a[j] = a[j] , a[i]\n",
        "  return a\n",
        "\n",
        "print(acd(k))\n",
        "\n",
        "  "
      ]
    },
    {
      "cell_type": "markdown",
      "metadata": {
        "id": "47qsYbnlpP90"
      },
      "source": [
        "25. Write a program that take input names of 10 students. Arrange them in\n",
        "ascending order."
      ]
    },
    {
      "cell_type": "code",
      "execution_count": null,
      "metadata": {
        "id": "vg7bRZPyp4xJ",
        "colab": {
          "base_uri": "https://localhost:8080/"
        },
        "outputId": "d38f792b-1052-43a3-841b-331cbe13c820"
      },
      "outputs": [
        {
          "output_type": "stream",
          "name": "stdout",
          "text": [
            "Enter name of students : Bhargav\n",
            "Enter name of students : Ajay\n",
            "Enter name of students : Kashyap\n",
            "Enter name of students : Radha\n",
            "Enter name of students : Haresh\n",
            "Enter name of students : Jay\n",
            "Enter name of students : Jaya\n",
            "Enter name of students : Ayush\n",
            "Enter name of students : Sachin\n",
            "Enter name of students : Nakul\n",
            "Students Name :  ['Bhargav', 'Ajay', 'Kashyap', 'Radha', 'Haresh', 'Jay', 'Jaya', 'Ayush', 'Sachin', 'Nakul']\n",
            "Name in ascending order :  ['Ajay', 'Ayush', 'Bhargav', 'Haresh', 'Jay', 'Jaya', 'Kashyap', 'Nakul', 'Radha', 'Sachin']\n"
          ]
        }
      ],
      "source": [
        "def Sort(students):\n",
        "\n",
        "  In_ascending = []\n",
        "\n",
        "  while students:\n",
        "    min = students[0]\n",
        "    for i in students:\n",
        "       if i < min:\n",
        "         min = i \n",
        "    In_ascending.append(min)\n",
        "    students.remove(min)\n",
        "  print(\"Name in ascending order : \",In_ascending)    \n",
        "\n",
        "\n",
        "students = []\n",
        "n = 10\n",
        "\n",
        "for i in range(n):\n",
        "  a = input(\"Enter name of students : \")\n",
        "  students.append(a)\n",
        "\n",
        "print(\"Students Name : \",students)\n",
        "Sort(students)"
      ]
    },
    {
      "cell_type": "markdown",
      "metadata": {
        "id": "KturHEmPpQ-0"
      },
      "source": [
        "26. Write a program that take input paragraph of 10 lines. Count total no of word\n",
        "and total no of characters (Excluding blank spaces).\n"
      ]
    },
    {
      "cell_type": "code",
      "execution_count": null,
      "metadata": {
        "id": "pshkpBXfpeOR",
        "colab": {
          "base_uri": "https://localhost:8080/"
        },
        "outputId": "01a86c57-1756-48f9-bb12-e740e239cfd2"
      },
      "outputs": [
        {
          "output_type": "stream",
          "name": "stdout",
          "text": [
            "Enter 1 line :Under pressure to push out software updates to enable 5G services on iPhone in\n",
            "Enter 2 line :India, Apple Wednesday said it will start rolling out the software update needed to\n",
            "Enter 3 line :users in December. Top government officials were scheduled to meet Apple,\n",
            "Enter 4 line :Samsung and other smartphone makers to nudge them to prioritise the 5G update\n",
            "Enter 5 line :for the Indian market where Prime Minister Narendra Modi announced the launch of services on October 1.\n",
            "Enter 6 line :“We are working with our carrier partners in India to bring the best 5G experience\n",
            "Enter 7 line :to iPhone users as soon as network validation and testing for quality and\n",
            "Enter 8 line :performance is completed. 5G will be enabled via a software update and will start\n",
            "Enter 9 line :rolling out to iPhone users in December,” Apple said in a statement Wednesday.\n",
            "Enter 10 line :Apple is known to be finicky about user experience and this could be why it will take time to test the services available in India and how it works on its devices.\n",
            "Under pressure to push out software updates to enable 5G services on iPhone in\n",
            "India, Apple Wednesday said it will start rolling out the software update needed to\n",
            "users in December. Top government officials were scheduled to meet Apple,\n",
            "Samsung and other smartphone makers to nudge them to prioritise the 5G update\n",
            "for the Indian market where Prime Minister Narendra Modi announced the launch of services on October 1.\n",
            "“We are working with our carrier partners in India to bring the best 5G experience\n",
            "to iPhone users as soon as network validation and testing for quality and\n",
            "performance is completed. 5G will be enabled via a software update and will start\n",
            "rolling out to iPhone users in December,” Apple said in a statement Wednesday.\n",
            "Apple is known to be finicky about user experience and this could be why it will take time to test the services available in India and how it works on its devices.\n",
            "(No of words, No of characters) = (156, 745)\n"
          ]
        }
      ],
      "source": [
        "paragraph=\"\"\n",
        "for i in range(1,11):\n",
        "  if i!=10:\n",
        "    paragraph = paragraph + input(\"Enter {} line :\".format(i)) + \"\\n\"\n",
        "  else:\n",
        "    paragraph = paragraph + input(\"Enter {} line :\".format(i))\n",
        "print(paragraph)\n",
        "\n",
        "\n",
        "def count_paragraph(paragraph):\n",
        "\n",
        "  line=paragraph.split(\"\\n\")\n",
        "  word=[]\n",
        "  characters=0\n",
        "  for i in range(len(line)):\n",
        "    word.extend(line[i].split(\" \"))\n",
        "  count_word=len(word)\n",
        "  for i in range(len(word)):\n",
        "    characters = characters + len(word[i])\n",
        "  return count_word,characters\n",
        "\n",
        "\n",
        "print(\"(No of words, No of characters) =\" , count_paragraph(paragraph))"
      ]
    },
    {
      "cell_type": "markdown",
      "metadata": {
        "id": "hUG1h6Gtpe7L"
      },
      "source": [
        "27. Write a function to check whether the entered string is satisfying the\n",
        "password criteria or not.\n",
        "Password criteria:\n",
        "\n",
        " 1. Atleast one uppercase, lowercase and digit should be there\n",
        " 2. Not less than 8 characters and not more than 20 characters\n",
        " 3. Password should not start with any special characters or digits\n",
        " 4. Allowable special character: @,&,$"
      ]
    },
    {
      "cell_type": "code",
      "execution_count": null,
      "metadata": {
        "id": "JWSAz0avp5jQ"
      },
      "outputs": [],
      "source": [
        "password = input(\"Enter your password : \")\n",
        "\n",
        "\n",
        "def password_check(password):\n",
        "\n",
        "  sp_char = ['@','&','$']\n",
        "\n",
        "  if len(password) < 8 or len(password)>21:\n",
        "    return print(\"Enter valid password ! \")\n",
        "\n",
        "  elif (password[0].isdigit()) or (password[0] in sp_char) :\n",
        "    return print(\"Enter valid password ! \")\n",
        "\n",
        "  else :\n",
        "\n",
        "    count_digit , count_lowercase , count_uppercase = 0,0,0\n",
        "\n",
        "    for ele in password:\n",
        "      if ele.isdigit():\n",
        "        count_digit += 1\n",
        "      elif ele.islower():\n",
        "        count_lowercase += 1\n",
        "      elif ele.isupper():\n",
        "        count_uppercase += 1\n",
        "      elif ele not in sp_char:\n",
        "        return print(\"Enter valid password !\")\n",
        "\n",
        "\n",
        "    if count_digit >0 and count_lowercase >0 and count_uppercase >0:\n",
        "      return password\n",
        "    else:\n",
        "      return print(\"password is invalid\")\n",
        "\n",
        "password_check(password)\n"
      ]
    },
    {
      "cell_type": "code",
      "source": [],
      "metadata": {
        "id": "thZBQFRmzy7C"
      },
      "execution_count": null,
      "outputs": []
    }
  ],
  "metadata": {
    "colab": {
      "provenance": []
    },
    "kernelspec": {
      "display_name": "Python 3",
      "name": "python3"
    },
    "language_info": {
      "name": "python"
    }
  },
  "nbformat": 4,
  "nbformat_minor": 0
}