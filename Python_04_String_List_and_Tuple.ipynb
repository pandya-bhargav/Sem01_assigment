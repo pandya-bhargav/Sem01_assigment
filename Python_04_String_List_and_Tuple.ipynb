{
  "nbformat": 4,
  "nbformat_minor": 0,
  "metadata": {
    "colab": {
      "provenance": []
    },
    "kernelspec": {
      "name": "python3",
      "display_name": "Python 3"
    },
    "language_info": {
      "name": "python"
    }
  },
  "cells": [
    {
      "cell_type": "markdown",
      "source": [
        "# Lab 04: **Assignment**"
      ],
      "metadata": {
        "id": "3Gz9vVT3Pmat"
      }
    },
    {
      "cell_type": "markdown",
      "source": [
        "Name : Bhargav R Pandya\n",
        "\n",
        "S_Id : 202218055"
      ],
      "metadata": {
        "id": "ts9sJmkaPsA-"
      }
    },
    {
      "cell_type": "markdown",
      "source": [
        "1. Write a Python program to sum all the items in a list.\n"
      ],
      "metadata": {
        "id": "-kynqRE9P7mT"
      }
    },
    {
      "cell_type": "code",
      "source": [
        "list1 = []\n",
        "n = int(input(\"Enter number of element in a list : \"))\n",
        "for i in range(0,n):\n",
        "  ele = float(inpu4t(\"Enter element of a list : \"))\n",
        "  list1.append(ele)\n",
        "print(\"list = \",list1)\n",
        "\n",
        "sum=0\n",
        "for i in range(0,len(list1)):\n",
        "  sum = sum + list1[i]\n",
        "print(\"Sum of all the items in a listt is : \",sum)"
      ],
      "metadata": {
        "id": "BG4n-jPqPl7d",
        "colab": {
          "base_uri": "https://localhost:8080/"
        },
        "outputId": "b380922b-6fe3-4a7d-bb2a-1e8c83775b32"
      },
      "execution_count": null,
      "outputs": [
        {
          "output_type": "stream",
          "name": "stdout",
          "text": [
            "Enter number of element in a list : 4\n",
            "Enter element of a list : 2\n",
            "Enter element of a list : 3\n",
            "Enter element of a list : 5\n",
            "Enter element of a list : 2\n",
            "list =  [2.0, 3.0, 5.0, 2.0]\n",
            "Sum of all the items in a listt is :  12.0\n"
          ]
        }
      ]
    },
    {
      "cell_type": "markdown",
      "source": [
        "2. Write a Python program to multiply all the items in a list.\n"
      ],
      "metadata": {
        "id": "ZqNaMrS6P-vf"
      }
    },
    {
      "cell_type": "code",
      "execution_count": null,
      "metadata": {
        "id": "pf-Ie7iFPLHN",
        "colab": {
          "base_uri": "https://localhost:8080/"
        },
        "outputId": "0e3e1133-0b3b-499c-b625-2dba373fb63a"
      },
      "outputs": [
        {
          "output_type": "stream",
          "name": "stdout",
          "text": [
            "Enter number of element in a list : 5\n",
            "Enter element of a list : 7\n",
            "Enter element of a list : 4\n",
            "Enter element of a list : -43\n",
            "Enter element of a list : 5\n",
            "Enter element of a list : 3\n",
            "list =  [7, 4, -43, 5, 3]\n",
            "Multiply of all the items in a list is :  -18060\n"
          ]
        }
      ],
      "source": [
        "list1 = []\n",
        "mul = 1\n",
        "n = int(input(\"Enter number of element in a list : \"))\n",
        "for i in range(0,n):\n",
        "  ele = int(input(\"Enter element of a list : \"))\n",
        "  list1.append(ele)\n",
        "  mul *= ele\n",
        "print(\"list = \",list1)\n",
        "print(\"Multiply of all the items in a list is : \",mul)"
      ]
    },
    {
      "cell_type": "markdown",
      "source": [
        "3. Write a Python program to get the largest number from a list without using inbuilt function.\n"
      ],
      "metadata": {
        "id": "YZHewuOJP_KT"
      }
    },
    {
      "cell_type": "code",
      "source": [
        "lis = []\n",
        "n = int(input(\"Enter number of elemnet in a list : \"))\n",
        "\n",
        "for i in range(0,n):\n",
        "  e = int(input(\"Enter element in a list : \"))\n",
        "  lis.append(e)\n",
        "\n",
        "print(\"list : \",lis)\n",
        "\n",
        "m = lis[0]\n",
        "\n",
        "for e in lis:\n",
        "  if (e > m):\n",
        "    m = e\n",
        "    \n",
        "print(\"Largest number from a list\" ,m)"
      ],
      "metadata": {
        "id": "O8_x4rNuPdp4",
        "colab": {
          "base_uri": "https://localhost:8080/"
        },
        "outputId": "c9a85d4c-5ee3-4d85-b888-f8174edfd56e"
      },
      "execution_count": null,
      "outputs": [
        {
          "output_type": "stream",
          "name": "stdout",
          "text": [
            "Enter number of elemnet in a list : 6\n",
            "Enter element in a list : 3\n",
            "Enter element in a list : 3\n",
            "Enter element in a list : 65\n",
            "Enter element in a list : -87\n",
            "Enter element in a list : 5\n",
            "Enter element in a list : 4\n",
            "list :  [3, 3, 65, -87, 5, 4]\n",
            "Largest number from a list 65\n"
          ]
        }
      ]
    },
    {
      "cell_type": "markdown",
      "source": [
        "4. Write a Python program to get the smallest number from a list without using inbuilt\n",
        "function.\n"
      ],
      "metadata": {
        "id": "875aQyxLQF7d"
      }
    },
    {
      "cell_type": "code",
      "source": [
        "list1 = []\n",
        "n = int(input(\"Enter number of element in a list : \"))\n",
        "for i in range(0,n):\n",
        "  ele = int(input(\"Enter element in a list : \"))\n",
        "  list1.append(ele)\n",
        "print(\"list = \",list1)\n",
        "s = list1[0]\n",
        "for ele in list1:\n",
        "  if (ele < s):\n",
        "    s = ele\n",
        "print(\"Smallest element in a list : \",s)"
      ],
      "metadata": {
        "id": "z_bTjlf1R160",
        "colab": {
          "base_uri": "https://localhost:8080/"
        },
        "outputId": "cd6dd59c-fea2-4527-b94d-f112dfe6765b"
      },
      "execution_count": null,
      "outputs": [
        {
          "output_type": "stream",
          "name": "stdout",
          "text": [
            "Enter number of element in a list : 4\n",
            "Enter element in a list : 4\n",
            "Enter element in a list : 34\n",
            "Enter element in a list : 63\n",
            "Enter element in a list : 76\n",
            "list =  [4, 34, 63, 76]\n",
            "Smallest element in a list :  4\n"
          ]
        }
      ]
    },
    {
      "cell_type": "markdown",
      "source": [
        "5. Write a Python program to count the number of strings where the string length is 2 or more\n",
        "and the first and last character are same from a given list of strings\n"
      ],
      "metadata": {
        "id": "jCra2UemQIKH"
      }
    },
    {
      "cell_type": "code",
      "source": [
        "list1 = [\"23\",\"bcd\",\"ballb\",\"jackj\",\"basketball\"]\n",
        "count = 0\n",
        "for string in list1:\n",
        "  if (len(string) > 1 and string[0] == string[-1]) :\n",
        "    count = count + 1\n",
        "print(\"list : \",list1)\n",
        "print(\"Count : \",count)"
      ],
      "metadata": {
        "id": "M020c1jMR3GJ",
        "colab": {
          "base_uri": "https://localhost:8080/"
        },
        "outputId": "f2f56f2a-6d29-46bb-f1fe-94eb48698479"
      },
      "execution_count": null,
      "outputs": [
        {
          "output_type": "stream",
          "name": "stdout",
          "text": [
            "list :  ['23', 'bcd', 'ballb', 'jackj', 'basketball']\n",
            "Count :  2\n"
          ]
        }
      ]
    },
    {
      "cell_type": "markdown",
      "source": [
        "6. Write a Python program to remove duplicates from a list.\n"
      ],
      "metadata": {
        "id": "0Rmw4PPHQN-4"
      }
    },
    {
      "cell_type": "code",
      "source": [
        "list1=list(input(\"Enter any List:\"))\n",
        "print(\"Given_List :\",list1)\n",
        "list2=list(set(list1))\n",
        "print(\"Final_List :\",list2)"
      ],
      "metadata": {
        "id": "XYBy3dHoR34n",
        "colab": {
          "base_uri": "https://localhost:8080/"
        },
        "outputId": "96c33b48-abe5-467f-cda4-dcbfdfbd67aa"
      },
      "execution_count": null,
      "outputs": [
        {
          "output_type": "stream",
          "name": "stdout",
          "text": [
            "Enter any List:344565\n",
            "Given_List : ['3', '4', '4', '5', '6', '5']\n",
            "Final_List : ['3', '5', '6', '4']\n"
          ]
        }
      ]
    },
    {
      "cell_type": "markdown",
      "source": [
        "7. Write a Python program to check a list is empty or not.\n"
      ],
      "metadata": {
        "id": "bRZF4LzSQQT0"
      }
    },
    {
      "cell_type": "code",
      "source": [
        "list1=[]\n",
        "if len(list1)==0:\n",
        "  print(\"Given List is Empty.\")\n",
        "else:\n",
        "  print(\"Given List is not Empty.\")"
      ],
      "metadata": {
        "id": "PnAH-2HuR4fx",
        "colab": {
          "base_uri": "https://localhost:8080/"
        },
        "outputId": "7286910c-7510-4ad8-ecf8-0a1620f971e6"
      },
      "execution_count": null,
      "outputs": [
        {
          "output_type": "stream",
          "name": "stdout",
          "text": [
            "Given List is Empty.\n"
          ]
        }
      ]
    },
    {
      "cell_type": "markdown",
      "source": [
        "8. Write a Python program to find the list of words that are longer than length ‘n’ from a given\n",
        "list of words.\n"
      ],
      "metadata": {
        "id": "tAkm2hPPQSe9"
      }
    },
    {
      "cell_type": "code",
      "source": [
        "list1=[\"bhargav\",\"erdsdf\",\"sdfad\",\"yy\",\"imposible\"]\n",
        "print(\"Given List :\",list1)\n",
        "list2=[]\n",
        "for ele in list1:\n",
        "  if len(ele) > len(list1):\n",
        "    list2.append(ele)\n",
        "print(\"Final List :\",list2)"
      ],
      "metadata": {
        "id": "Lh8Kv5lcR47m",
        "colab": {
          "base_uri": "https://localhost:8080/"
        },
        "outputId": "6fb77a68-22ec-4501-8c9e-5c43f6bd7584"
      },
      "execution_count": null,
      "outputs": [
        {
          "output_type": "stream",
          "name": "stdout",
          "text": [
            "Given List : ['bhargav', 'erdsdf', 'sdfad', 'yy', 'imposible']\n",
            "Final List : ['bhargav', 'erdsdf', 'imposible']\n"
          ]
        }
      ]
    },
    {
      "cell_type": "markdown",
      "source": [
        "9. Write a Python function that takes two lists and returns True if they have at least one\n",
        "common member.\n"
      ],
      "metadata": {
        "id": "BAtAUQZJQUhl"
      }
    },
    {
      "cell_type": "code",
      "source": [
        "def check(list1,list2):\n",
        "  for i in list1:\n",
        "    for j in list2:\n",
        "      if i == j :\n",
        "        return True\n",
        "  return False\n",
        "\n",
        "list1=[1,2,3,4,5]\n",
        "list2=[5,6,7,8,4]\n",
        "check(list1,list2)"
      ],
      "metadata": {
        "id": "Daz6gaM1R5UU",
        "colab": {
          "base_uri": "https://localhost:8080/"
        },
        "outputId": "4c67644a-4181-4822-e9fe-05f1c572ee61"
      },
      "execution_count": null,
      "outputs": [
        {
          "output_type": "execute_result",
          "data": {
            "text/plain": [
              "True"
            ]
          },
          "metadata": {},
          "execution_count": 11
        }
      ]
    },
    {
      "cell_type": "markdown",
      "source": [
        "10. Write a Python program to print the numbers of a specified list after removing even\n",
        "numbers from it\n"
      ],
      "metadata": {
        "id": "BJznj1DPQWTv"
      }
    },
    {
      "cell_type": "code",
      "source": [
        "list1=[11,22,33,44,55,66]\n",
        "print(\"Given List :\",list1)\n",
        "for ele in list1:\n",
        "  if ele % 2==0:\n",
        "    list1.remove(ele)\n",
        "print(\"Final List :\",list1)"
      ],
      "metadata": {
        "id": "2GYUofKrR5rl",
        "colab": {
          "base_uri": "https://localhost:8080/"
        },
        "outputId": "a59eb715-249d-4147-8f15-ac5b32132c16"
      },
      "execution_count": null,
      "outputs": [
        {
          "output_type": "stream",
          "name": "stdout",
          "text": [
            "Given List : [11, 22, 33, 44, 55, 66]\n",
            "Final List : [11, 33, 55]\n"
          ]
        }
      ]
    },
    {
      "cell_type": "markdown",
      "source": [
        "11. Write a Python program to generate a list of elements where the values are square of\n",
        "numbers between 1 and 30 (both included).\n"
      ],
      "metadata": {
        "id": "X1dZnHDaQYWs"
      }
    },
    {
      "cell_type": "code",
      "source": [
        "square = []\n",
        "for i in range(1,31):\n",
        "  square.append(i**2)\n",
        "print(square)"
      ],
      "metadata": {
        "colab": {
          "base_uri": "https://localhost:8080/"
        },
        "id": "cgI3J1kIR6YA",
        "outputId": "12b53489-0c9d-4c4c-da61-6c3c9c43f5d0"
      },
      "execution_count": null,
      "outputs": [
        {
          "output_type": "stream",
          "name": "stdout",
          "text": [
            "[1, 4, 9, 16, 25, 36, 49, 64, 81, 100, 121, 144, 169, 196, 225, 256, 289, 324, 361, 400, 441, 484, 529, 576, 625, 676, 729, 784, 841, 900]\n"
          ]
        }
      ]
    },
    {
      "cell_type": "markdown",
      "source": [
        "12. Write a Python program to convert a list of characters into a string.\n"
      ],
      "metadata": {
        "id": "3nBtU2UqQaDh"
      }
    },
    {
      "cell_type": "code",
      "source": [
        "list1 = ['M','Sc. ','D','S']\n",
        "str1 = \"\"\n",
        "for i in list1:\n",
        "  str1+=i\n",
        "print(str1)"
      ],
      "metadata": {
        "colab": {
          "base_uri": "https://localhost:8080/"
        },
        "id": "mv7vuCUnR66I",
        "outputId": "419777b2-21cb-47a2-cc9a-5ed6161ab729"
      },
      "execution_count": null,
      "outputs": [
        {
          "output_type": "stream",
          "name": "stdout",
          "text": [
            "MSc. DS\n"
          ]
        }
      ]
    },
    {
      "cell_type": "markdown",
      "source": [
        "13. Write a python program to check whether two lists are circularly identical.\n"
      ],
      "metadata": {
        "id": "6TmJIoEbQb2b"
      }
    },
    {
      "cell_type": "code",
      "source": [
        "def cir_id_list(list1,list2):\n",
        "  list1.extend(list1)\n",
        "  for i in range(len(list1)):\n",
        "    if list2 == list1[i : i + len(list2)]:\n",
        "      return True\n",
        "  return False\n",
        "\n",
        "list1 = [5,7,7,3,2,2]\n",
        "list2 =  [5,7,4,3,2]\n",
        "list3 = [4,3,2,5,7]\n",
        "\n",
        "print(\"Is list1 and list2 circularly identical ? \" , cir_id_list(list1,list2))\n",
        "print(\"Is list2 and listt3 circularly identical ? \" ,cir_id_list(list2,list3))"
      ],
      "metadata": {
        "id": "Vps6pwpIR7S-",
        "colab": {
          "base_uri": "https://localhost:8080/"
        },
        "outputId": "30dab17b-6a69-4da1-f716-a198174e6043"
      },
      "execution_count": null,
      "outputs": [
        {
          "output_type": "stream",
          "name": "stdout",
          "text": [
            "Is list1 and list2 circularly identical ?  False\n",
            "Is list2 and listt3 circularly identical ?  True\n"
          ]
        }
      ]
    },
    {
      "cell_type": "markdown",
      "source": [
        "14. Write a Python program to find the second largest number in a list.\n"
      ],
      "metadata": {
        "id": "j4xxKNnjQdXT"
      }
    },
    {
      "cell_type": "code",
      "source": [
        "arr = [7,4,-5,18,3,12]\n",
        "def sec_large_num(arr):\n",
        "  k = max(arr)\n",
        "  arr.remove(k)\n",
        "  return max(arr)\n",
        "sec_large_num(arr)"
      ],
      "metadata": {
        "colab": {
          "base_uri": "https://localhost:8080/"
        },
        "id": "rtaD4q2GR7qq",
        "outputId": "89a7d102-ad47-41d4-986c-01e5334825d5"
      },
      "execution_count": null,
      "outputs": [
        {
          "output_type": "execute_result",
          "data": {
            "text/plain": [
              "12"
            ]
          },
          "metadata": {},
          "execution_count": 16
        }
      ]
    },
    {
      "cell_type": "markdown",
      "source": [
        "15. Write a Python program to get unique values from a list.\n"
      ],
      "metadata": {
        "id": "aD6qwK5yQfKA"
      }
    },
    {
      "cell_type": "code",
      "source": [
        "def unique_values(list1):\n",
        "  uni_val = []\n",
        "\n",
        "  for ele in list1:\n",
        "    if ele not in uni_val:\n",
        "      uni_val.append(ele)\n",
        "  return uni_val\n",
        "print(unique_values([5,6,7,8,8,7,6,4,5]))"
      ],
      "metadata": {
        "id": "3zg4MtR7R8WC",
        "colab": {
          "base_uri": "https://localhost:8080/"
        },
        "outputId": "2591d73b-01de-41ff-9a19-50a2743419e1"
      },
      "execution_count": null,
      "outputs": [
        {
          "output_type": "stream",
          "name": "stdout",
          "text": [
            "[5, 6, 7, 8, 4]\n"
          ]
        }
      ]
    },
    {
      "cell_type": "markdown",
      "source": [
        "16. Write a Python program to count the number of elements in a list within a specified range."
      ],
      "metadata": {
        "id": "IxzeyUkHQhJV"
      }
    },
    {
      "cell_type": "code",
      "source": [
        "list1 = [22,1,27,89,56,15,10,222,56]\n",
        "l = int(input(\"Enter lower bound : \"))\n",
        "u = int(input(\"Enter upper bound : \"))\n",
        "count = 0\n",
        "lis2 = []\n",
        "i = 0\n",
        "for i in list1:\n",
        "  if (i >= l and i <= u):\n",
        "    lis2.append(i)\n",
        "    count = count +1\n",
        "print(\"List within a specific range : \",list1)\n",
        "print(\"Count of list within a specific range : \",count)"
      ],
      "metadata": {
        "id": "3bRoQE_AR8xU",
        "colab": {
          "base_uri": "https://localhost:8080/"
        },
        "outputId": "56bc96ff-518e-48f5-c019-1f0e25ec77c2"
      },
      "execution_count": null,
      "outputs": [
        {
          "output_type": "stream",
          "name": "stdout",
          "text": [
            "Enter lower bound : 1\n",
            "Enter upper bound : 222\n",
            "List within a specific range :  [22, 1, 27, 89, 56, 15, 10, 222, 56]\n",
            "Count of list within a specific range :  9\n"
          ]
        }
      ]
    },
    {
      "cell_type": "markdown",
      "source": [
        "\n",
        "17. Consider a list (list = []). You can perform the following commands:\n",
        "\n",
        "a. insert(i,e): Insert integer e at position i.\n",
        "\n",
        "b. print: Print the list.\n",
        "\n",
        "c. Remove(e): Delete the first occurrence of integer e.\n",
        "\n",
        "d. Append(e): Insert integer e at the end of the list.\n",
        "\n",
        "e. sort: Sort the list.\n",
        "\n",
        "f. pop: Pop the last element from the list.\n",
        "\n",
        "g. reverse: Reverse the list.\n",
        "\n",
        "Initialize your list and perform the operations as per the user input from the given set of 7 commands. Continue the process of creating the list until the user enters ‘DONE’ as input."
      ],
      "metadata": {
        "id": "mlSQNzg6QiOV"
      }
    },
    {
      "cell_type": "code",
      "source": [
        "# a\n",
        "\n",
        "list1 = [4,7,4,2,7]\n",
        "list1.insert(3,15)\n",
        "print(\"List after inssertion:\",list1)"
      ],
      "metadata": {
        "id": "iXXZ4dinR-Kj",
        "colab": {
          "base_uri": "https://localhost:8080/"
        },
        "outputId": "e0e792c1-973d-4234-801c-edbf886fd891"
      },
      "execution_count": null,
      "outputs": [
        {
          "output_type": "stream",
          "name": "stdout",
          "text": [
            "List after inssertion: [4, 7, 4, 15, 2, 7]\n"
          ]
        }
      ]
    },
    {
      "cell_type": "code",
      "source": [
        "# b\n",
        "n = len(list1)\n",
        "i=0\n",
        "while i < n :\n",
        "  print(list1[i],end = ' , ')\n",
        "  i+=1"
      ],
      "metadata": {
        "colab": {
          "base_uri": "https://localhost:8080/"
        },
        "id": "vw0PFaBgOZDN",
        "outputId": "7c26af4c-555b-49ac-e150-f3fca20da6c4"
      },
      "execution_count": null,
      "outputs": [
        {
          "output_type": "stream",
          "name": "stdout",
          "text": [
            "4 , 7 , 4 , 15 , 2 , 7 , "
          ]
        }
      ]
    },
    {
      "cell_type": "code",
      "source": [
        "# c\n",
        "list1.remove(7)\n",
        "print(\"List after removing first occurence of 12:\",list1)"
      ],
      "metadata": {
        "colab": {
          "base_uri": "https://localhost:8080/"
        },
        "id": "V7WcPovlOZaz",
        "outputId": "a2d02bc6-c818-4ae6-8c81-415ae021549e"
      },
      "execution_count": null,
      "outputs": [
        {
          "output_type": "stream",
          "name": "stdout",
          "text": [
            "List after removing first occurence of 12: [4, 4, 15, 2, 7]\n"
          ]
        }
      ]
    },
    {
      "cell_type": "code",
      "source": [
        "# d\n",
        "list1.append(65)\n",
        "print(\"List : \",list1)"
      ],
      "metadata": {
        "colab": {
          "base_uri": "https://localhost:8080/"
        },
        "id": "9cjj1O42OaZb",
        "outputId": "2d463051-7deb-4e68-da53-39009319e594"
      },
      "execution_count": null,
      "outputs": [
        {
          "output_type": "stream",
          "name": "stdout",
          "text": [
            "List :  [4, 4, 15, 2, 7, 65]\n"
          ]
        }
      ]
    },
    {
      "cell_type": "code",
      "source": [
        "# e\n",
        "list1.sort()\n",
        "print(\"Sorted List : \",list1)"
      ],
      "metadata": {
        "colab": {
          "base_uri": "https://localhost:8080/"
        },
        "id": "PX-Ci8xuOayU",
        "outputId": "62aa3472-af75-473b-c23d-58d388908eb6"
      },
      "execution_count": null,
      "outputs": [
        {
          "output_type": "stream",
          "name": "stdout",
          "text": [
            "Sorted List :  [2, 4, 4, 7, 15, 65]\n"
          ]
        }
      ]
    },
    {
      "cell_type": "code",
      "source": [
        "# f\n",
        "list1.pop(-1)\n",
        "print(\"New List :\",list1)"
      ],
      "metadata": {
        "colab": {
          "base_uri": "https://localhost:8080/"
        },
        "id": "eglhWupdPKKd",
        "outputId": "dab31389-e867-4d7e-8c1f-e6faf3653d3c"
      },
      "execution_count": null,
      "outputs": [
        {
          "output_type": "stream",
          "name": "stdout",
          "text": [
            "New List : [2, 4, 4, 7, 15]\n"
          ]
        }
      ]
    },
    {
      "cell_type": "code",
      "source": [
        "# g\n",
        "list1.reverse()\n",
        "print(\"Reverse of list : \",list1)"
      ],
      "metadata": {
        "colab": {
          "base_uri": "https://localhost:8080/"
        },
        "id": "Evb7Wt0-PXtz",
        "outputId": "01af2f9a-5364-41f8-a41b-807238433f08"
      },
      "execution_count": null,
      "outputs": [
        {
          "output_type": "stream",
          "name": "stdout",
          "text": [
            "Reverse of list :  [15, 7, 4, 4, 2]\n"
          ]
        }
      ]
    },
    {
      "cell_type": "markdown",
      "source": [
        "18. Given the names and grades for each student in a class of students, store them in a nested\n",
        "list and print the name(s) of any student(s) having the second lowest grade.\n",
        "Note: If there are multiple students with the second lowest grade, order their names\n",
        "alphabetically and print each name on a new line."
      ],
      "metadata": {
        "id": "LJ1CFn9HQxIk"
      }
    },
    {
      "cell_type": "code",
      "source": [
        "students_grade = []\n",
        "for i in range(int(input(\"Enter number of students :\"))):\n",
        "  name = input(\"\\nName :\")\n",
        "  score = float(input('Marks :'))\n",
        "  students_grade.append([name,score])\n",
        "sorted_scores = sorted(list(set([x[1]for x in students_grade])))\n",
        "secound_lowest = sorted_scores[1]\n",
        "low_final_list = []\n",
        "for student in students_grade:\n",
        "  if secound_lowest == student[1]:\n",
        "    low_final_list.append(student[0])\n",
        "\n",
        "for student in sorted(low_final_list):\n",
        "  print(\"Name of Second lowest marks student : \",student)"
      ],
      "metadata": {
        "id": "dhPd4iQNR-qa",
        "colab": {
          "base_uri": "https://localhost:8080/"
        },
        "outputId": "e2a439cd-4412-4099-c5ca-51fea0d81e9f"
      },
      "execution_count": null,
      "outputs": [
        {
          "output_type": "stream",
          "name": "stdout",
          "text": [
            "Enter number of students :4\n",
            "\n",
            "Name :jay\n",
            "Marks :90\n",
            "\n",
            "Name :raj\n",
            "Marks :78\n",
            "\n",
            "Name :jack\n",
            "Marks :90\n",
            "\n",
            "Name :yash\n",
            "Marks :99\n",
            "Name of Second lowest marks student :  jack\n",
            "Name of Second lowest marks student :  jay\n"
          ]
        }
      ]
    },
    {
      "cell_type": "markdown",
      "source": [
        "19. Write a python program to check if a list contains three consecutive numbers.\n"
      ],
      "metadata": {
        "id": "KAAG7BA8Q277"
      }
    },
    {
      "cell_type": "code",
      "source": [
        "list1 = [1,2,3,8,9,8,9,10]\n",
        "i = 0\n",
        "n = len(list1)\n",
        "while (i<n-2) :\n",
        "  if (list1[i+1]==list1[i]+1 and list1[i+2]==list1[i]+2):\n",
        "    print(\"List consist 3 consecutive number and numbers are :\",[list1[i],list1[i+1],list1[i+2]])\n",
        "  i+=1\n",
        "\n"
      ],
      "metadata": {
        "id": "btuLfju2R_Dy",
        "colab": {
          "base_uri": "https://localhost:8080/"
        },
        "outputId": "1aef1de7-c640-4235-9e98-517852bccadf"
      },
      "execution_count": null,
      "outputs": [
        {
          "output_type": "stream",
          "name": "stdout",
          "text": [
            "List consist 3 consecutive number and numbers are : [1, 2, 3]\n",
            "List consist 3 consecutive number and numbers are : [8, 9, 10]\n"
          ]
        }
      ]
    },
    {
      "cell_type": "markdown",
      "source": [
        "20. Write a python program to remove all the occurrences of a given element from a list\n"
      ],
      "metadata": {
        "id": "k7wPrJsFQ5Rf"
      }
    },
    {
      "cell_type": "code",
      "source": [
        "list1 = [23,54,65,3,45,7,3,4,5,7]\n",
        "n = int(input(\"Enter the number that you want to remove:\"))\n",
        "m = len(list1)\n",
        "for i in list1 :\n",
        "  if (i==n):\n",
        "    list1.remove(i)\n",
        "print(list1)"
      ],
      "metadata": {
        "id": "Msxwryc0R_ed",
        "colab": {
          "base_uri": "https://localhost:8080/"
        },
        "outputId": "26c498c0-e024-426f-a526-37a832fa6922"
      },
      "execution_count": null,
      "outputs": [
        {
          "output_type": "stream",
          "name": "stdout",
          "text": [
            "Enter the number that you want to remove:45\n",
            "[23, 54, 65, 3, 7, 3, 4, 5, 7]\n"
          ]
        }
      ]
    },
    {
      "cell_type": "markdown",
      "source": [
        "21. Write a python program to swap 2 mentioned characters at index (a,b) in any given string\n"
      ],
      "metadata": {
        "id": "VFDXkaioQ7eF"
      }
    },
    {
      "cell_type": "code",
      "source": [
        "str1=\"sdf3464\"\n",
        "list1=list(str1)\n",
        "def swap(list,a,b):\n",
        "  list[a],list[b]=list[b],list[a]\n",
        "  str2= \"\".join(list1)\n",
        "  return str2\n",
        "\n",
        "swap(list1,1,5)"
      ],
      "metadata": {
        "id": "KLiSUdsoR_1m",
        "colab": {
          "base_uri": "https://localhost:8080/",
          "height": 35
        },
        "outputId": "b9235d51-0a3a-40f5-db82-04ab29a38f97"
      },
      "execution_count": null,
      "outputs": [
        {
          "output_type": "execute_result",
          "data": {
            "text/plain": [
              "'s6f34d4'"
            ],
            "application/vnd.google.colaboratory.intrinsic+json": {
              "type": "string"
            }
          },
          "metadata": {},
          "execution_count": 32
        }
      ]
    },
    {
      "cell_type": "markdown",
      "source": [
        "22. Write a python program to remove all the duplications from a given list\n"
      ],
      "metadata": {
        "id": "7UtdZbDwRAuy"
      }
    },
    {
      "cell_type": "code",
      "source": [
        "list1=list(input(\"Enter any List:\"))\n",
        "print(\"Given_List :\",list1)\n",
        "\n",
        "list2=list(set(list1))\n",
        "print(\"Final_List :\",list2)"
      ],
      "metadata": {
        "id": "fT-qtRyTSG-r",
        "colab": {
          "base_uri": "https://localhost:8080/"
        },
        "outputId": "def05841-6981-49f7-c8b6-5e9adad1e6c7"
      },
      "execution_count": null,
      "outputs": [
        {
          "output_type": "stream",
          "name": "stdout",
          "text": [
            "Enter any List:456734\n",
            "Given_List : ['4', '5', '6', '7', '3', '4']\n",
            "Final_List : ['3', '5', '6', '7', '4']\n"
          ]
        }
      ]
    },
    {
      "cell_type": "markdown",
      "source": [
        "23. Write a python program to extract tuples with ‘k’ digit elements\n"
      ],
      "metadata": {
        "id": "SJiJY2rgRiuc"
      }
    },
    {
      "cell_type": "code",
      "source": [
        "list1 = [(3, ), (23, 56), (86, 232), (67, 12), (32, )]\n",
        " \n",
        "print(\"The original list is : \" + str(list1))\n",
        "\n",
        "K = 2\n",
        "\n",
        "res = list(filter(lambda sub: all(len(str(ele)) == K for ele in sub), list1))\n",
        " \n",
        "\n",
        "print(\"The Extracted tuples : \" + str(res))"
      ],
      "metadata": {
        "id": "G568bKwjSHlI",
        "colab": {
          "base_uri": "https://localhost:8080/"
        },
        "outputId": "875cd384-7417-4390-e47b-193c7fb95a17"
      },
      "execution_count": null,
      "outputs": [
        {
          "output_type": "stream",
          "name": "stdout",
          "text": [
            "The original list is : [(3,), (23, 56), (86, 232), (67, 12), (32,)]\n",
            "The Extracted tuples : [(23, 56), (67, 12), (32,)]\n"
          ]
        }
      ]
    },
    {
      "cell_type": "markdown",
      "source": [
        "24. Given two tuples, write a python program to find the intersecting elements\n"
      ],
      "metadata": {
        "id": "Ym6F06o9RlVg"
      }
    },
    {
      "cell_type": "code",
      "source": [
        "tup1=(11,21,13,41,52)\n",
        "tup2=(15,41,53,8,19,4)\n",
        "tup1_set = set(tup1)\n",
        "tup2_set = set(tup2)\n",
        "print(\"Intersecting elements :\",tup1_set.intersection(tup2_set))"
      ],
      "metadata": {
        "id": "stWZu8nASJVY",
        "colab": {
          "base_uri": "https://localhost:8080/"
        },
        "outputId": "d8fa75cd-fde4-47e1-96a0-8c7b0e2e7bfa"
      },
      "execution_count": null,
      "outputs": [
        {
          "output_type": "stream",
          "name": "stdout",
          "text": [
            "Intersecting elements : {41}\n"
          ]
        }
      ]
    },
    {
      "cell_type": "markdown",
      "source": [
        "25. Write a python program to remove duplicates from a tuple\n"
      ],
      "metadata": {
        "id": "7oOEvL_9RneB"
      }
    },
    {
      "cell_type": "code",
      "source": [
        "tup1=(11,12,13,14,12,11)\n",
        "tup2=tuple(set(tup2))\n",
        "print(tup2)"
      ],
      "metadata": {
        "id": "DE-2ijMMSIXJ",
        "colab": {
          "base_uri": "https://localhost:8080/"
        },
        "outputId": "44bd22f7-62c4-4c98-8ddf-8e3142c629ca"
      },
      "execution_count": null,
      "outputs": [
        {
          "output_type": "stream",
          "name": "stdout",
          "text": [
            "(4, 8, 41, 15, 19, 53)\n"
          ]
        }
      ]
    },
    {
      "cell_type": "markdown",
      "source": [
        "26. Write a python program to check if two tuples are same or not.\n"
      ],
      "metadata": {
        "id": "TCkhzBjKRpnY"
      }
    },
    {
      "cell_type": "code",
      "source": [
        "v1 = (4,7,4,8)\n",
        "v2 = (4,7,4,8)\n",
        "if v1 == v2 :\n",
        "  print(\"Yes, v1 and v2 are same\")\n",
        "else:\n",
        "  print(\"No, v1 and v2 are not same\")"
      ],
      "metadata": {
        "colab": {
          "base_uri": "https://localhost:8080/"
        },
        "id": "wkB6jT6eSKCt",
        "outputId": "07f0664e-95c0-42c1-d882-7f4a57949b97"
      },
      "execution_count": null,
      "outputs": [
        {
          "output_type": "stream",
          "name": "stdout",
          "text": [
            "Yes, v1 and v2 are same\n"
          ]
        }
      ]
    },
    {
      "cell_type": "markdown",
      "source": [
        "27. Write a python program to accept a string (having uppercased and lowercased characters)\n",
        "from user and convert it to uppercased string\n"
      ],
      "metadata": {
        "id": "YmzWBurcRsmp"
      }
    },
    {
      "cell_type": "code",
      "source": [
        "str1 = input(\"Enter a string : \")\n",
        "print(\"str1 in uppercase : \" , end = \"\")\n",
        "print(str1.upper())"
      ],
      "metadata": {
        "colab": {
          "base_uri": "https://localhost:8080/"
        },
        "id": "DbZkZhZmSKvh",
        "outputId": "c36c149e-f825-484d-87b4-9b80074f473a"
      },
      "execution_count": null,
      "outputs": [
        {
          "output_type": "stream",
          "name": "stdout",
          "text": [
            "Enter a string : asdfYR\n",
            "str1 in uppercase : ASDFYR\n"
          ]
        }
      ]
    },
    {
      "cell_type": "markdown",
      "source": [
        "28. Write a python program to accept a string from user and display by incrementing each\n",
        "word by one unit. For eg: incrementing ‘a’ will give ‘b’, ‘A’ will give ‘B’, 1 will give 2 and so\n",
        "on.\n"
      ],
      "metadata": {
        "id": "MXkLKHloRu5l"
      }
    },
    {
      "cell_type": "code",
      "source": [
        "string = input(\"Enter a string \")\n",
        "\n",
        "for ele in string:\n",
        "  x = chr(ord(ele) + 1)\n",
        "  print(x , end = \"\")"
      ],
      "metadata": {
        "id": "IO4VksiCSN2x",
        "colab": {
          "base_uri": "https://localhost:8080/"
        },
        "outputId": "ec5aa0b6-6c20-4824-efd9-c9cb5e8abd61"
      },
      "execution_count": null,
      "outputs": [
        {
          "output_type": "stream",
          "name": "stdout",
          "text": [
            "Enter a string asdfrs\n",
            "btegst"
          ]
        }
      ]
    },
    {
      "cell_type": "markdown",
      "source": [
        "29. Write a python program to accept a miscellaneous string (with characters, digits and special\n",
        "characters) and store them in separate strings of characters, digits and special characters.\n"
      ],
      "metadata": {
        "id": "dvohcBFoRwvo"
      }
    },
    {
      "cell_type": "code",
      "source": [
        "def splitString(str):\n",
        " \n",
        "    char = \"\"\n",
        "    digit = \"\"\n",
        "    spe_char = \"\"\n",
        "    for i in range(len(str)):\n",
        "        if (str[i].isdigit()):\n",
        "            digit = digit+ str[i]\n",
        "        elif(str[i].isalpha()):\n",
        "            char += str[i]\n",
        "        else:\n",
        "            spe_char += str[i]\n",
        "    return digit , char , spe_char\n",
        "\n",
        "print(splitString(\"asdf123#$%^\"))"
      ],
      "metadata": {
        "id": "iy_TtpxVSOZJ",
        "colab": {
          "base_uri": "https://localhost:8080/"
        },
        "outputId": "e1f6b53b-5205-4803-c171-44234809cb53"
      },
      "execution_count": null,
      "outputs": [
        {
          "output_type": "stream",
          "name": "stdout",
          "text": [
            "('123', 'asdf', '#$%^')\n"
          ]
        }
      ]
    },
    {
      "cell_type": "markdown",
      "source": [
        "30. Write a python program to accept a string and sort the string in descending order.\n"
      ],
      "metadata": {
        "id": "cbzRH1s7Ry4g"
      }
    },
    {
      "cell_type": "code",
      "source": [
        "str1 = input(\"Enter a string : \")\n",
        "list1 = list(str1)\n",
        "list2 = sorted(list1  , reverse = True)\n",
        "print(str(list2))"
      ],
      "metadata": {
        "colab": {
          "base_uri": "https://localhost:8080/"
        },
        "id": "yPdprh76SPdx",
        "outputId": "6515bfa6-f2a0-40a7-c65c-0e35c3a172fe"
      },
      "execution_count": null,
      "outputs": [
        {
          "output_type": "stream",
          "name": "stdout",
          "text": [
            "Enter a string : asgrsg\n",
            "['s', 's', 'r', 'g', 'g', 'a']\n"
          ]
        }
      ]
    },
    {
      "cell_type": "markdown",
      "source": [
        "31. Write a python program to accept a string and remove the vowels from that string."
      ],
      "metadata": {
        "id": "9QZ7B8IqR0d2"
      }
    },
    {
      "cell_type": "code",
      "source": [
        "string = input(\"Enter a Sting : \")\n",
        "def remove_vowel(string):\n",
        "  vowels = ['a', 'e', 'i', 'o', 'u', 'A', 'E', 'I', 'O', 'U']\n",
        "  result = \"\"\n",
        "\n",
        "  for i in range(len(string)):\n",
        "    if string[i] not in vowels:\n",
        "      result = result + string[i]\n",
        "  return result\n",
        "print(\"\\nAfter removing Vowels: \", remove_vowel(string))\n"
      ],
      "metadata": {
        "id": "0r-SABpJSQg_",
        "colab": {
          "base_uri": "https://localhost:8080/"
        },
        "outputId": "f2b35eb9-ccc4-4f09-e7c4-3733d33b2dfe"
      },
      "execution_count": null,
      "outputs": [
        {
          "output_type": "stream",
          "name": "stdout",
          "text": [
            "Enter a Sting : asdf79^%$#%\n",
            "\n",
            "After removing Vowels:  sdf79^%$#%\n"
          ]
        }
      ]
    },
    {
      "cell_type": "code",
      "source": [
        "k = \"Python\"\n",
        "m = \"&\"\n",
        "k = \"$@\".join(k)\n",
        "print(k)"
      ],
      "metadata": {
        "colab": {
          "base_uri": "https://localhost:8080/"
        },
        "id": "ECtR2ZzcBAYz",
        "outputId": "bb252c9c-4c43-4f29-c3e0-5cd10608a351"
      },
      "execution_count": null,
      "outputs": [
        {
          "output_type": "stream",
          "name": "stdout",
          "text": [
            "P$@y$@t$@h$@o$@n\n"
          ]
        }
      ]
    },
    {
      "cell_type": "code",
      "source": [
        "import string\n",
        "print(list(string.ascii_digits))"
      ],
      "metadata": {
        "colab": {
          "base_uri": "https://localhost:8080/",
          "height": 183
        },
        "id": "5qPGpiPBBIDp",
        "outputId": "c2fcf093-926f-4f1a-fe5e-17e8ef81aa65"
      },
      "execution_count": null,
      "outputs": [
        {
          "output_type": "error",
          "ename": "AttributeError",
          "evalue": "ignored",
          "traceback": [
            "\u001b[0;31m---------------------------------------------------------------------------\u001b[0m",
            "\u001b[0;31mAttributeError\u001b[0m                            Traceback (most recent call last)",
            "\u001b[0;32m<ipython-input-19-7132a6e35420>\u001b[0m in \u001b[0;36m<module>\u001b[0;34m\u001b[0m\n\u001b[1;32m      1\u001b[0m \u001b[0;32mimport\u001b[0m \u001b[0mstring\u001b[0m\u001b[0;34m\u001b[0m\u001b[0;34m\u001b[0m\u001b[0m\n\u001b[0;32m----> 2\u001b[0;31m \u001b[0mprint\u001b[0m\u001b[0;34m(\u001b[0m\u001b[0mlist\u001b[0m\u001b[0;34m(\u001b[0m\u001b[0mstring\u001b[0m\u001b[0;34m.\u001b[0m\u001b[0mascii_digits\u001b[0m\u001b[0;34m)\u001b[0m\u001b[0;34m)\u001b[0m\u001b[0;34m\u001b[0m\u001b[0;34m\u001b[0m\u001b[0m\n\u001b[0m",
            "\u001b[0;31mAttributeError\u001b[0m: module 'string' has no attribute 'ascii_digits'"
          ]
        }
      ]
    },
    {
      "cell_type": "code",
      "source": [
        "k = \"Python\"\n",
        "print(k[::-1])\n"
      ],
      "metadata": {
        "colab": {
          "base_uri": "https://localhost:8080/"
        },
        "id": "QsOBrt57C7NK",
        "outputId": "59337813-3125-4169-e71a-7786097b21f3"
      },
      "execution_count": null,
      "outputs": [
        {
          "output_type": "stream",
          "name": "stdout",
          "text": [
            "nohtyP\n"
          ]
        }
      ]
    },
    {
      "cell_type": "code",
      "source": [],
      "metadata": {
        "id": "Uv5Dd-hgHoLp"
      },
      "execution_count": null,
      "outputs": []
    },
    {
      "cell_type": "code",
      "source": [
        "a = list(range(10))\n",
        "a"
      ],
      "metadata": {
        "colab": {
          "base_uri": "https://localhost:8080/"
        },
        "id": "onDGH5IBJlh6",
        "outputId": "7a58a9ea-d23f-440b-bd5c-df835cddd756"
      },
      "execution_count": null,
      "outputs": [
        {
          "output_type": "execute_result",
          "data": {
            "text/plain": [
              "[0, 1, 2, 3, 4, 5, 6, 7, 8, 9]"
            ]
          },
          "metadata": {},
          "execution_count": 21
        }
      ]
    },
    {
      "cell_type": "code",
      "source": [
        "k = ((2,3),6)\n",
        "k\n",
        "print(set(k))"
      ],
      "metadata": {
        "colab": {
          "base_uri": "https://localhost:8080/"
        },
        "id": "ZGQ45DrtOdfZ",
        "outputId": "8f2ae4e6-0408-4cbd-acdf-b3fc8647c58e"
      },
      "execution_count": null,
      "outputs": [
        {
          "output_type": "stream",
          "name": "stdout",
          "text": [
            "{(2, 3), 6}\n"
          ]
        }
      ]
    },
    {
      "cell_type": "code",
      "source": [],
      "metadata": {
        "id": "S9rIqK5RQFeX"
      },
      "execution_count": null,
      "outputs": []
    }
  ]
}